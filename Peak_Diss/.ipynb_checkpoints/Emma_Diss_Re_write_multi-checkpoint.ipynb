{
  "nbformat": 4,
  "nbformat_minor": 0,
  "metadata": {
    "colab": {
      "name": "Emma Diss Re-write - multi.ipynb",
      "provenance": [],
      "collapsed_sections": [],
      "toc_visible": true
    },
    "kernelspec": {
      "name": "python3",
      "display_name": "Python 3"
    },
    "language_info": {
      "name": "python"
    }
  },
  "cells": [
    {
      "cell_type": "code",
      "metadata": {
        "id": "62iiPEpGdPsC",
        "colab": {
          "base_uri": "https://localhost:8080/"
        },
        "outputId": "27b7c388-8438-4f73-99c5-d56e0e9a940c"
      },
      "source": [
        "import pandas as pd\n",
        "import numpy as np\n",
        "import seaborn as sns\n",
        "from copy import deepcopy\n",
        "from random import randint \n",
        "import random \n",
        "import matplotlib.pyplot as plt\n",
        "from sklearn.model_selection import train_test_split\n",
        "from sklearn.preprocessing import LabelEncoder, MinMaxScaler, StandardScaler\n",
        "from sklearn.naive_bayes import GaussianNB\n",
        "from sklearn.neighbors import KNeighborsClassifier\n",
        "from sklearn.ensemble import RandomForestClassifier\n",
        "from sklearn.svm import SVC\n",
        "import xgboost as xgb\n",
        "from sklearn.cluster import KMeans\n",
        "from sklearn.metrics import silhouette_score\n",
        "from sklearn.decomposition import PCA\n",
        "from sklearn.model_selection import GridSearchCV\n",
        "from sklearn.metrics import f1_score, recall_score, precision_score, confusion_matrix, plot_confusion_matrix, roc_auc_score\n",
        "from imblearn.metrics import geometric_mean_score\n",
        "from collections import Counter\n",
        "from sklearn.datasets import make_classification\n",
        "from imblearn.over_sampling import SMOTE\n",
        "from sklearn.utils import shuffle\n",
        "from sklearn import metrics\n",
        "from imblearn.over_sampling import SMOTE"
      ],
      "execution_count": 1,
      "outputs": [
        {
          "output_type": "stream",
          "text": [
            "/usr/local/lib/python3.7/dist-packages/sklearn/externals/six.py:31: FutureWarning: The module is deprecated in version 0.21 and will be removed in version 0.23 since we've dropped support for Python 2.7. Please rely on the official version of six (https://pypi.org/project/six/).\n",
            "  \"(https://pypi.org/project/six/).\", FutureWarning)\n",
            "/usr/local/lib/python3.7/dist-packages/sklearn/utils/deprecation.py:144: FutureWarning: The sklearn.neighbors.base module is  deprecated in version 0.22 and will be removed in version 0.24. The corresponding classes / functions should instead be imported from sklearn.neighbors. Anything that cannot be imported from sklearn.neighbors is now part of the private API.\n",
            "  warnings.warn(message, FutureWarning)\n",
            "/usr/local/lib/python3.7/dist-packages/sklearn/utils/deprecation.py:144: FutureWarning: The sklearn.metrics.classification module is  deprecated in version 0.22 and will be removed in version 0.24. The corresponding classes / functions should instead be imported from sklearn.metrics. Anything that cannot be imported from sklearn.metrics is now part of the private API.\n",
            "  warnings.warn(message, FutureWarning)\n"
          ],
          "name": "stderr"
        }
      ]
    },
    {
      "cell_type": "markdown",
      "metadata": {
        "id": "yXt44ioNxAZY"
      },
      "source": [
        "ADDD XGBOOST"
      ]
    },
    {
      "cell_type": "code",
      "metadata": {
        "id": "zB7KgSFTfciI"
      },
      "source": [
        "import warnings\n",
        "warnings.simplefilter(action='ignore', category=FutureWarning)"
      ],
      "execution_count": 2,
      "outputs": []
    },
    {
      "cell_type": "code",
      "metadata": {
        "colab": {
          "base_uri": "https://localhost:8080/"
        },
        "id": "XQODfSOZdSTj",
        "outputId": "77a67d95-1be3-4e31-fbcf-c48c24098d97"
      },
      "source": [
        "from google.colab import drive\n",
        "drive.mount('/content/drive', force_remount=True)"
      ],
      "execution_count": 3,
      "outputs": [
        {
          "output_type": "stream",
          "text": [
            "Mounted at /content/drive\n"
          ],
          "name": "stdout"
        }
      ]
    },
    {
      "cell_type": "markdown",
      "metadata": {
        "id": "qst_7PWxbW6U"
      },
      "source": [
        ""
      ]
    },
    {
      "cell_type": "code",
      "metadata": {
        "id": "0Exhq4MWldj1",
        "colab": {
          "base_uri": "https://localhost:8080/"
        },
        "outputId": "dd0cb9a4-b3b4-4aab-fc2b-ef5977b51f2f"
      },
      "source": [
        "import sys\n",
        "print(sys.path)"
      ],
      "execution_count": 4,
      "outputs": [
        {
          "output_type": "stream",
          "text": [
            "['', '/content', '/env/python', '/usr/lib/python37.zip', '/usr/lib/python3.7', '/usr/lib/python3.7/lib-dynload', '/usr/local/lib/python3.7/dist-packages', '/usr/lib/python3/dist-packages', '/usr/local/lib/python3.7/dist-packages/IPython/extensions', '/root/.ipython']\n"
          ],
          "name": "stdout"
        }
      ]
    },
    {
      "cell_type": "code",
      "metadata": {
        "id": "c24HmXZKdWcv"
      },
      "source": [
        "import sys\n",
        "sys.path.append('/content/drive/My Drive/')"
      ],
      "execution_count": 5,
      "outputs": []
    },
    {
      "cell_type": "code",
      "metadata": {
        "colab": {
          "base_uri": "https://localhost:8080/"
        },
        "id": "fLYzAwiLeED5",
        "outputId": "b3d528ce-e61f-4546-9fa7-a5f817b48509"
      },
      "source": [
        "import swim_maha\n",
        "swim_maha.SwimMaha()"
      ],
      "execution_count": 6,
      "outputs": [
        {
          "output_type": "execute_result",
          "data": {
            "text/plain": [
              "<swim_maha.SwimMaha at 0x7f01a8b1e590>"
            ]
          },
          "metadata": {
            "tags": []
          },
          "execution_count": 6
        }
      ]
    },
    {
      "cell_type": "code",
      "metadata": {
        "colab": {
          "base_uri": "https://localhost:8080/"
        },
        "id": "WddsjVmgeVb_",
        "outputId": "7037b33e-e515-426d-8561-3cf39d64c379"
      },
      "source": [
        "import mahakil_update as MAHAKIL\n",
        "MAHAKIL.MAHAKIL()"
      ],
      "execution_count": 7,
      "outputs": [
        {
          "output_type": "execute_result",
          "data": {
            "text/plain": [
              "<mahakil_update.MAHAKIL at 0x7f01a8b2ad10>"
            ]
          },
          "metadata": {
            "tags": []
          },
          "execution_count": 7
        }
      ]
    },
    {
      "cell_type": "code",
      "metadata": {
        "id": "z-qnMTUjaXJ-"
      },
      "source": [
        "wine_white = pd.read_csv('/content/drive/MyDrive/winequality-white.csv', delimiter=';')\n",
        "wine_red = pd.read_csv('/content/drive/MyDrive/winequality-red.csv', delimiter=';')"
      ],
      "execution_count": 14,
      "outputs": []
    },
    {
      "cell_type": "code",
      "metadata": {
        "colab": {
          "base_uri": "https://localhost:8080/"
        },
        "id": "aCfLZhz8HM2N",
        "outputId": "da22d279-dfe8-4798-fb30-31214a52c067"
      },
      "source": [
        "wine_white['quality'].value_counts().sort_index(ascending=False)"
      ],
      "execution_count": 15,
      "outputs": [
        {
          "output_type": "execute_result",
          "data": {
            "text/plain": [
              "9       5\n",
              "8     175\n",
              "7     880\n",
              "6    2198\n",
              "5    1457\n",
              "4     163\n",
              "3      20\n",
              "Name: quality, dtype: int64"
            ]
          },
          "metadata": {
            "tags": []
          },
          "execution_count": 15
        }
      ]
    },
    {
      "cell_type": "code",
      "metadata": {
        "colab": {
          "base_uri": "https://localhost:8080/"
        },
        "id": "rPhuBjrdC1JB",
        "outputId": "c69dacfc-246f-4b39-8774-71c8b7598008"
      },
      "source": [
        "# Low Quality Red Wine (3,4)\n",
        "WineW3 = deepcopy(wine_white)\n",
        "WineW3[\"class\"] = \"\"\n",
        "WineW3.loc[WineW3.quality >= 8, \"class\"] = 1\n",
        "WineW3.loc[((WineW3.quality == 7), \"class\")] = 0\n",
        "WineW3.loc[((WineW3.quality == 6), \"class\")] = 0\n",
        "WineW3.loc[((WineW3.quality == 5), \"class\")] = 0\n",
        "WineW3.loc[WineW3.quality <= 4, \"class\"] = 2\n",
        "WineW3['class'] = WineW3['class'].astype(\"category\")\n",
        "WineW3 = WineW3.drop(columns=['quality'])\n",
        "WineW3.name = 'Wine white - 3 class'\n",
        "WineW3['class'].value_counts()"
      ],
      "execution_count": 16,
      "outputs": [
        {
          "output_type": "execute_result",
          "data": {
            "text/plain": [
              "0    4535\n",
              "2     183\n",
              "1     180\n",
              "Name: class, dtype: int64"
            ]
          },
          "metadata": {
            "tags": []
          },
          "execution_count": 16
        }
      ]
    },
    {
      "cell_type": "code",
      "metadata": {
        "colab": {
          "base_uri": "https://localhost:8080/"
        },
        "id": "eLPMF82MISca",
        "outputId": "bc9994a0-d153-41e6-a63c-b2179a7dab2e"
      },
      "source": [
        "# Low Quality Red Wine (3,4)\n",
        "WineW5 = deepcopy(wine_white)\n",
        "WineW5[\"class\"] = \"\"\n",
        "WineW5.loc[WineW5.quality >= 8, \"class\"] = 1\n",
        "WineW5.loc[((WineW5.quality == 7), \"class\")] = 3\n",
        "WineW5.loc[((WineW5.quality == 6), \"class\")] = 0\n",
        "WineW5.loc[((WineW5.quality == 5), \"class\")] = 4\n",
        "WineW5.loc[WineW5.quality <= 4, \"class\"] = 2\n",
        "WineW5['class'] = WineW5['class'].astype(\"category\")\n",
        "WineW5 = WineW5.drop(columns=['quality'])\n",
        "WineW5.name = 'Wine white - 5 class'\n",
        "WineW5['class'].value_counts()"
      ],
      "execution_count": 17,
      "outputs": [
        {
          "output_type": "execute_result",
          "data": {
            "text/plain": [
              "0    2198\n",
              "4    1457\n",
              "3     880\n",
              "2     183\n",
              "1     180\n",
              "Name: class, dtype: int64"
            ]
          },
          "metadata": {
            "tags": []
          },
          "execution_count": 17
        }
      ]
    },
    {
      "cell_type": "code",
      "metadata": {
        "colab": {
          "base_uri": "https://localhost:8080/"
        },
        "id": "eSsIvFQ7aag6",
        "outputId": "54ece8c8-11fa-4ae6-fc8d-2ed95e48310c"
      },
      "source": [
        "# Low Quality Red Wine (3,4)\n",
        "WineW4 = deepcopy(wine_white)\n",
        "WineW4[\"class\"] = \"\"\n",
        "WineW4.loc[WineW4.quality >= 7, \"class\"] = 1\n",
        "WineW4.loc[WineW4.quality == 6, \"class\"] = 0\n",
        "WineW4.loc[WineW4.quality == 5, \"class\"] = 0\n",
        "WineW4.loc[WineW4.quality == 4, \"class\"] = 2\n",
        "WineW4.loc[WineW4.quality <= 3, \"class\"] = 3\n",
        "WineW4['class'] = WineW4['class'].astype(\"category\")\n",
        "WineW4 = WineW4.drop(columns=['quality'])\n",
        "WineW4.name = 'Wine white - 4 class'\n",
        "WineW4['class'].value_counts()"
      ],
      "execution_count": 18,
      "outputs": [
        {
          "output_type": "execute_result",
          "data": {
            "text/plain": [
              "0    3655\n",
              "1    1060\n",
              "2     163\n",
              "3      20\n",
              "Name: class, dtype: int64"
            ]
          },
          "metadata": {
            "tags": []
          },
          "execution_count": 18
        }
      ]
    },
    {
      "cell_type": "code",
      "metadata": {
        "colab": {
          "base_uri": "https://localhost:8080/"
        },
        "id": "Z4AugjdXacvF",
        "outputId": "e4038751-bdf4-4ef1-ac91-abdd7895dc69"
      },
      "source": [
        "wine_red['quality'].value_counts().sort_index(ascending=False)"
      ],
      "execution_count": 19,
      "outputs": [
        {
          "output_type": "execute_result",
          "data": {
            "text/plain": [
              "8     18\n",
              "7    199\n",
              "6    638\n",
              "5    681\n",
              "4     53\n",
              "3     10\n",
              "Name: quality, dtype: int64"
            ]
          },
          "metadata": {
            "tags": []
          },
          "execution_count": 19
        }
      ]
    },
    {
      "cell_type": "code",
      "metadata": {
        "colab": {
          "base_uri": "https://localhost:8080/"
        },
        "id": "iF3T2GrhDRgv",
        "outputId": "7a2fadcb-d999-43ff-fb67-dddd4221c073"
      },
      "source": [
        "# Low Quality Red Wine (3,4)\n",
        "WineR3 = deepcopy(wine_red)\n",
        "WineR3[\"class\"] = \"\"\n",
        "WineR3.loc[WineR3.quality >= 8, \"class\"] = 1\n",
        "WineR3.loc[((WineR3.quality == 7), \"class\")] = 0\n",
        "WineR3.loc[((WineR3.quality == 6), \"class\")] = 0\n",
        "WineR3.loc[((WineR3.quality == 5), \"class\")] = 0\n",
        "WineR3.loc[WineR3.quality <= 4, \"class\"] = 2\n",
        "WineR3['class'] = WineR3['class'].astype(\"category\")\n",
        "WineR3 = WineR3.drop(columns=['quality'])\n",
        "WineR3.name = 'Wine red - 3 class'\n",
        "WineR3['class'].value_counts()"
      ],
      "execution_count": 17,
      "outputs": [
        {
          "output_type": "execute_result",
          "data": {
            "text/plain": [
              "0    1518\n",
              "2      63\n",
              "1      18\n",
              "Name: class, dtype: int64"
            ]
          },
          "metadata": {
            "tags": []
          },
          "execution_count": 17
        }
      ]
    },
    {
      "cell_type": "code",
      "metadata": {
        "colab": {
          "base_uri": "https://localhost:8080/"
        },
        "id": "9pXUhm_6nbNe",
        "outputId": "84b992e1-59f6-41c1-d4ad-18ea49be4bdc"
      },
      "source": [
        "# Low Quality Red Wine (3,4)\n",
        "WineR5 = deepcopy(wine_red)\n",
        "WineR5[\"class\"] = \"\"\n",
        "WineR5.loc[WineR5.quality >= 8, \"class\"] = 1\n",
        "WineR5.loc[((WineR5.quality == 7), \"class\")] = 3\n",
        "WineR5.loc[((WineR5.quality == 6), \"class\")] = 4\n",
        "WineR5.loc[((WineR5.quality == 5), \"class\")] = 0\n",
        "WineR5.loc[WineR5.quality <= 4, \"class\"] = 2\n",
        "WineR5['class'] = WineR5['class'].astype(\"category\")\n",
        "WineR5 = WineR5.drop(columns=['quality'])\n",
        "WineR5.name = 'Wine red - 5 class'\n",
        "WineR5['class'].value_counts()"
      ],
      "execution_count": 20,
      "outputs": [
        {
          "output_type": "execute_result",
          "data": {
            "text/plain": [
              "0    681\n",
              "4    638\n",
              "3    199\n",
              "2     63\n",
              "1     18\n",
              "Name: class, dtype: int64"
            ]
          },
          "metadata": {
            "tags": []
          },
          "execution_count": 20
        }
      ]
    },
    {
      "cell_type": "code",
      "metadata": {
        "colab": {
          "base_uri": "https://localhost:8080/"
        },
        "id": "WF-ASW1BM9jJ",
        "outputId": "bc3fa5b1-5a3d-4ef8-e094-2ff879b188cc"
      },
      "source": [
        "# Low Quality Red Wine (3,4)\n",
        "WineR4 = deepcopy(wine_red)\n",
        "WineR4[\"class\"] = \"\"\n",
        "WineR4.loc[WineR4.quality >= 7, \"class\"] = 1\n",
        "WineR4.loc[WineR4.quality == 6, \"class\"] = 0\n",
        "WineR4.loc[WineR4.quality == 5, \"class\"] = 0\n",
        "WineR4.loc[WineR4.quality == 4, \"class\"] = 2\n",
        "WineR4.loc[WineR4.quality <= 3, \"class\"] = 3\n",
        "WineR4['class'] = WineR4['class'].astype(\"category\")\n",
        "WineR4 = WineR4.drop(columns=['quality'])\n",
        "WineR4.name = 'Wine red - 4 class'\n",
        "WineR4['class'].value_counts()"
      ],
      "execution_count": 21,
      "outputs": [
        {
          "output_type": "execute_result",
          "data": {
            "text/plain": [
              "0    1319\n",
              "1     217\n",
              "2      53\n",
              "3      10\n",
              "Name: class, dtype: int64"
            ]
          },
          "metadata": {
            "tags": []
          },
          "execution_count": 21
        }
      ]
    },
    {
      "cell_type": "code",
      "metadata": {
        "colab": {
          "base_uri": "https://localhost:8080/"
        },
        "id": "L5xql-6ioy4z",
        "outputId": "92159f23-766d-4cce-85dd-cafe7f836c63"
      },
      "source": [
        "# Low Quality Red Wine (3,4)\n",
        "WineRL = deepcopy(wine_red)\n",
        "WineRL[\"class\"] = \"\"\n",
        "WineRL.loc[WineRL.quality >= 5, \"class\"] = 0\n",
        "WineRL.loc[WineRL.quality <= 4, \"class\"] = 1\n",
        "WineRL['class'] = WineRL['class'].astype(\"category\")\n",
        "WineRL = WineRL.drop(columns=['quality'])\n",
        "WineRL.name = 'D11 - Wine_red_low'\n",
        "WineRL['class'].value_counts()"
      ],
      "execution_count": 22,
      "outputs": [
        {
          "output_type": "execute_result",
          "data": {
            "text/plain": [
              "0    1536\n",
              "1      63\n",
              "Name: class, dtype: int64"
            ]
          },
          "metadata": {
            "tags": []
          },
          "execution_count": 22
        }
      ]
    },
    {
      "cell_type": "code",
      "metadata": {
        "id": "SgaEXmOJagWJ"
      },
      "source": [
        "vowel = pd.read_csv('/content/drive/MyDrive/vowel_data.data', header=None)"
      ],
      "execution_count": 19,
      "outputs": []
    },
    {
      "cell_type": "code",
      "metadata": {
        "id": "J6ytm0mtaiS8"
      },
      "source": [
        "vowel = vowel.drop(columns=[10])\n",
        "vowel = vowel.dropna()\n",
        "cols_to_check = [0,9]\n",
        "vowel[cols_to_check] = vowel[cols_to_check].replace({'{':''}, regex=True)\n",
        "vowel[cols_to_check] = vowel[cols_to_check].replace({'}':''}, regex=True)\n",
        "vowel = vowel.reset_index(drop=True)\n",
        "vowel[9] = pd.to_numeric(vowel[9])\n",
        "vowel = vowel.apply(pd.to_numeric)"
      ],
      "execution_count": 20,
      "outputs": []
    },
    {
      "cell_type": "code",
      "metadata": {
        "colab": {
          "base_uri": "https://localhost:8080/",
          "height": 204
        },
        "id": "qW6TTEC4OVmi",
        "outputId": "aac30b77-d779-4539-9ce7-0bea9ccc7bbb"
      },
      "source": [
        "vowel.head()"
      ],
      "execution_count": 21,
      "outputs": [
        {
          "output_type": "execute_result",
          "data": {
            "text/html": [
              "<div>\n",
              "<style scoped>\n",
              "    .dataframe tbody tr th:only-of-type {\n",
              "        vertical-align: middle;\n",
              "    }\n",
              "\n",
              "    .dataframe tbody tr th {\n",
              "        vertical-align: top;\n",
              "    }\n",
              "\n",
              "    .dataframe thead th {\n",
              "        text-align: right;\n",
              "    }\n",
              "</style>\n",
              "<table border=\"1\" class=\"dataframe\">\n",
              "  <thead>\n",
              "    <tr style=\"text-align: right;\">\n",
              "      <th></th>\n",
              "      <th>0</th>\n",
              "      <th>1</th>\n",
              "      <th>2</th>\n",
              "      <th>3</th>\n",
              "      <th>4</th>\n",
              "      <th>5</th>\n",
              "      <th>6</th>\n",
              "      <th>7</th>\n",
              "      <th>8</th>\n",
              "      <th>9</th>\n",
              "    </tr>\n",
              "  </thead>\n",
              "  <tbody>\n",
              "    <tr>\n",
              "      <th>0</th>\n",
              "      <td>-3.639</td>\n",
              "      <td>0.418</td>\n",
              "      <td>-0.670</td>\n",
              "      <td>1.779</td>\n",
              "      <td>-0.168</td>\n",
              "      <td>1.627</td>\n",
              "      <td>-0.388</td>\n",
              "      <td>0.529</td>\n",
              "      <td>-0.874</td>\n",
              "      <td>-0.814</td>\n",
              "    </tr>\n",
              "    <tr>\n",
              "      <th>1</th>\n",
              "      <td>-3.327</td>\n",
              "      <td>0.496</td>\n",
              "      <td>-0.694</td>\n",
              "      <td>1.365</td>\n",
              "      <td>-0.265</td>\n",
              "      <td>1.933</td>\n",
              "      <td>-0.363</td>\n",
              "      <td>0.510</td>\n",
              "      <td>-0.621</td>\n",
              "      <td>-0.488</td>\n",
              "    </tr>\n",
              "    <tr>\n",
              "      <th>2</th>\n",
              "      <td>-2.120</td>\n",
              "      <td>0.894</td>\n",
              "      <td>-1.576</td>\n",
              "      <td>0.147</td>\n",
              "      <td>-0.707</td>\n",
              "      <td>1.559</td>\n",
              "      <td>-0.579</td>\n",
              "      <td>0.676</td>\n",
              "      <td>-0.809</td>\n",
              "      <td>-0.049</td>\n",
              "    </tr>\n",
              "    <tr>\n",
              "      <th>3</th>\n",
              "      <td>-2.287</td>\n",
              "      <td>1.809</td>\n",
              "      <td>-1.498</td>\n",
              "      <td>1.012</td>\n",
              "      <td>-1.053</td>\n",
              "      <td>1.060</td>\n",
              "      <td>-0.567</td>\n",
              "      <td>0.235</td>\n",
              "      <td>-0.091</td>\n",
              "      <td>-0.795</td>\n",
              "    </tr>\n",
              "    <tr>\n",
              "      <th>4</th>\n",
              "      <td>-2.598</td>\n",
              "      <td>1.938</td>\n",
              "      <td>-0.846</td>\n",
              "      <td>1.062</td>\n",
              "      <td>-1.633</td>\n",
              "      <td>0.764</td>\n",
              "      <td>0.394</td>\n",
              "      <td>-0.150</td>\n",
              "      <td>0.277</td>\n",
              "      <td>-0.396</td>\n",
              "    </tr>\n",
              "  </tbody>\n",
              "</table>\n",
              "</div>"
            ],
            "text/plain": [
              "       0      1      2      3      4      5      6      7      8      9\n",
              "0 -3.639  0.418 -0.670  1.779 -0.168  1.627 -0.388  0.529 -0.874 -0.814\n",
              "1 -3.327  0.496 -0.694  1.365 -0.265  1.933 -0.363  0.510 -0.621 -0.488\n",
              "2 -2.120  0.894 -1.576  0.147 -0.707  1.559 -0.579  0.676 -0.809 -0.049\n",
              "3 -2.287  1.809 -1.498  1.012 -1.053  1.060 -0.567  0.235 -0.091 -0.795\n",
              "4 -2.598  1.938 -0.846  1.062 -1.633  0.764  0.394 -0.150  0.277 -0.396"
            ]
          },
          "metadata": {
            "tags": []
          },
          "execution_count": 21
        }
      ]
    },
    {
      "cell_type": "code",
      "metadata": {
        "id": "ilmKyRKrall-"
      },
      "source": [
        "speakers = ['Andrew', 'Bill', 'David', 'Mark', 'Jo', 'Kate', 'Penny', 'Rose', 'Mike', 'Nick', 'Rich', 'Tim', 'Sarah', 'Sue', 'Wendy']\n",
        "words = ['hid', 'hId', 'hEd', 'hAd', 'hYd', 'had', 'hOd', 'hod', 'hUd', 'hud', 'hed']\n",
        "segments = [0,1,2,3,4,5]\n",
        "speakers_1 = []\n",
        "words_1 = []\n",
        "segment = []\n",
        "for s in speakers:\n",
        "  for se in segments:\n",
        "    for w in words:\n",
        "      speakers_1.append(s)\n",
        "      segment.append(se)\n",
        "      words_1.append(w)"
      ],
      "execution_count": 22,
      "outputs": []
    },
    {
      "cell_type": "code",
      "metadata": {
        "id": "sivKeb4LampC"
      },
      "source": [
        "vowel['word'] = np.arange(len(vowel))\n",
        "vowel['speaker'] = np.arange(len(vowel))\n",
        "vowel['segment'] = np.arange(len(vowel))\n",
        "for l in range(len(vowel)):\n",
        "  vowel['speaker'] = vowel['speaker'].replace(l, speakers_1[l])\n",
        "  vowel['word'] = vowel['word'].replace(l, words_1[l])\n",
        "  vowel['segment'] = vowel['segment'].replace(l, segment[l])"
      ],
      "execution_count": 23,
      "outputs": []
    },
    {
      "cell_type": "code",
      "metadata": {
        "colab": {
          "base_uri": "https://localhost:8080/"
        },
        "id": "Z3STWkqSOc8p",
        "outputId": "9aebd2f9-f565-496b-a79c-f04d05c93f3b"
      },
      "source": [
        "vowel['word'].value_counts().sort_index(ascending=False)"
      ],
      "execution_count": 24,
      "outputs": [
        {
          "output_type": "execute_result",
          "data": {
            "text/plain": [
              "hud    90\n",
              "hod    90\n",
              "hid    90\n",
              "hed    90\n",
              "had    90\n",
              "hYd    90\n",
              "hUd    90\n",
              "hOd    90\n",
              "hId    90\n",
              "hEd    90\n",
              "hAd    90\n",
              "Name: word, dtype: int64"
            ]
          },
          "metadata": {
            "tags": []
          },
          "execution_count": 24
        }
      ]
    },
    {
      "cell_type": "code",
      "metadata": {
        "id": "u7psCi70aqdu",
        "colab": {
          "base_uri": "https://localhost:8080/"
        },
        "outputId": "d362b35a-df12-4732-c7cd-db4b0ea4c490"
      },
      "source": [
        "vowel['class']= ''\n",
        "# Vowel 3\n",
        "vowel_3 = deepcopy(vowel)\n",
        "vowel_3.loc[vowel_3.word != 'hid', \"class\"] = 0\n",
        "vowel_3.loc[vowel_3.word == 'hid', \"class\"] = 1\n",
        "vowel_3.loc[vowel_3.word == 'hEd', \"class\"] = 2\n",
        "vowel_3['class'] = vowel_3['class'].astype(\"int\")\n",
        "vowel_3['class'] = vowel_3['class'].astype(\"category\")\n",
        "vowel_3 = vowel_3.drop(columns=['word','speaker','segment'])\n",
        "vowel_3.name = 'Vowel - 3 classes'\n",
        "vowel_3['class'].value_counts()"
      ],
      "execution_count": 25,
      "outputs": [
        {
          "output_type": "execute_result",
          "data": {
            "text/plain": [
              "0    810\n",
              "2     90\n",
              "1     90\n",
              "Name: class, dtype: int64"
            ]
          },
          "metadata": {
            "tags": []
          },
          "execution_count": 25
        }
      ]
    },
    {
      "cell_type": "code",
      "metadata": {
        "colab": {
          "base_uri": "https://localhost:8080/"
        },
        "id": "A8ZXd_EPDtCB",
        "outputId": "6dc9a7e5-4bc0-426f-c41f-145afe56f222"
      },
      "source": [
        "vowel['class']= ''\n",
        "# Vowel 3\n",
        "vowel_3_2 = deepcopy(vowel)\n",
        "vowel_3_2.loc[vowel_3_2.word != 'hYd', \"class\"] = 0\n",
        "vowel_3_2.loc[vowel_3_2.word == 'hYd', \"class\"] = 1\n",
        "vowel_3_2.loc[vowel_3_2.word == 'hId', \"class\"] = 2\n",
        "vowel_3_2['class'] = vowel_3_2['class'].astype(\"int\")\n",
        "vowel_3_2['class'] = vowel_3_2['class'].astype(\"category\")\n",
        "vowel_3_2 = vowel_3_2.drop(columns=['word','speaker','segment'])\n",
        "vowel_3_2.name = 'Vowel - 3 classes - 2'\n",
        "vowel_3_2['class'].value_counts()"
      ],
      "execution_count": 27,
      "outputs": [
        {
          "output_type": "execute_result",
          "data": {
            "text/plain": [
              "0    810\n",
              "2     90\n",
              "1     90\n",
              "Name: class, dtype: int64"
            ]
          },
          "metadata": {
            "tags": []
          },
          "execution_count": 27
        }
      ]
    },
    {
      "cell_type": "code",
      "metadata": {
        "colab": {
          "base_uri": "https://localhost:8080/",
          "height": 204
        },
        "id": "vXwyp-CQmnnT",
        "outputId": "9254ac7d-6a82-4fb4-edf6-978e54b651f1"
      },
      "source": [
        "ecoli = pd.read_csv('/content/drive/MyDrive/ecoli.csv', header=None)\n",
        "ecoli = ecoli.rename(columns={7:'cluster'})\n",
        "ecoli.head()"
      ],
      "execution_count": 30,
      "outputs": [
        {
          "output_type": "execute_result",
          "data": {
            "text/html": [
              "<div>\n",
              "<style scoped>\n",
              "    .dataframe tbody tr th:only-of-type {\n",
              "        vertical-align: middle;\n",
              "    }\n",
              "\n",
              "    .dataframe tbody tr th {\n",
              "        vertical-align: top;\n",
              "    }\n",
              "\n",
              "    .dataframe thead th {\n",
              "        text-align: right;\n",
              "    }\n",
              "</style>\n",
              "<table border=\"1\" class=\"dataframe\">\n",
              "  <thead>\n",
              "    <tr style=\"text-align: right;\">\n",
              "      <th></th>\n",
              "      <th>0</th>\n",
              "      <th>1</th>\n",
              "      <th>2</th>\n",
              "      <th>3</th>\n",
              "      <th>4</th>\n",
              "      <th>5</th>\n",
              "      <th>6</th>\n",
              "      <th>cluster</th>\n",
              "    </tr>\n",
              "  </thead>\n",
              "  <tbody>\n",
              "    <tr>\n",
              "      <th>0</th>\n",
              "      <td>0.49</td>\n",
              "      <td>0.29</td>\n",
              "      <td>0.48</td>\n",
              "      <td>0.5</td>\n",
              "      <td>0.56</td>\n",
              "      <td>0.24</td>\n",
              "      <td>0.35</td>\n",
              "      <td>cp</td>\n",
              "    </tr>\n",
              "    <tr>\n",
              "      <th>1</th>\n",
              "      <td>0.07</td>\n",
              "      <td>0.40</td>\n",
              "      <td>0.48</td>\n",
              "      <td>0.5</td>\n",
              "      <td>0.54</td>\n",
              "      <td>0.35</td>\n",
              "      <td>0.44</td>\n",
              "      <td>cp</td>\n",
              "    </tr>\n",
              "    <tr>\n",
              "      <th>2</th>\n",
              "      <td>0.56</td>\n",
              "      <td>0.40</td>\n",
              "      <td>0.48</td>\n",
              "      <td>0.5</td>\n",
              "      <td>0.49</td>\n",
              "      <td>0.37</td>\n",
              "      <td>0.46</td>\n",
              "      <td>cp</td>\n",
              "    </tr>\n",
              "    <tr>\n",
              "      <th>3</th>\n",
              "      <td>0.59</td>\n",
              "      <td>0.49</td>\n",
              "      <td>0.48</td>\n",
              "      <td>0.5</td>\n",
              "      <td>0.52</td>\n",
              "      <td>0.45</td>\n",
              "      <td>0.36</td>\n",
              "      <td>cp</td>\n",
              "    </tr>\n",
              "    <tr>\n",
              "      <th>4</th>\n",
              "      <td>0.23</td>\n",
              "      <td>0.32</td>\n",
              "      <td>0.48</td>\n",
              "      <td>0.5</td>\n",
              "      <td>0.55</td>\n",
              "      <td>0.25</td>\n",
              "      <td>0.35</td>\n",
              "      <td>cp</td>\n",
              "    </tr>\n",
              "  </tbody>\n",
              "</table>\n",
              "</div>"
            ],
            "text/plain": [
              "      0     1     2    3     4     5     6 cluster\n",
              "0  0.49  0.29  0.48  0.5  0.56  0.24  0.35      cp\n",
              "1  0.07  0.40  0.48  0.5  0.54  0.35  0.44      cp\n",
              "2  0.56  0.40  0.48  0.5  0.49  0.37  0.46      cp\n",
              "3  0.59  0.49  0.48  0.5  0.52  0.45  0.36      cp\n",
              "4  0.23  0.32  0.48  0.5  0.55  0.25  0.35      cp"
            ]
          },
          "metadata": {
            "tags": []
          },
          "execution_count": 30
        }
      ]
    },
    {
      "cell_type": "code",
      "metadata": {
        "colab": {
          "base_uri": "https://localhost:8080/"
        },
        "id": "prlh1I1DvmdL",
        "outputId": "93d2d7c2-09e2-4bac-dc3a-8a27f80a0964"
      },
      "source": [
        "ecoli = ecoli[(ecoli['cluster']!= 'imL') & (ecoli['cluster']!= 'imS')&(ecoli['cluster']!= 'omL')]\n",
        "ecoli['cluster'].value_counts()"
      ],
      "execution_count": 31,
      "outputs": [
        {
          "output_type": "execute_result",
          "data": {
            "text/plain": [
              "cp     143\n",
              "im      77\n",
              "pp      52\n",
              "imU     35\n",
              "om      20\n",
              "Name: cluster, dtype: int64"
            ]
          },
          "metadata": {
            "tags": []
          },
          "execution_count": 31
        }
      ]
    },
    {
      "cell_type": "code",
      "metadata": {
        "colab": {
          "base_uri": "https://localhost:8080/"
        },
        "id": "LybStq-qrIHy",
        "outputId": "5c4268fd-bf96-4361-dc55-3b6a0e966a7d"
      },
      "source": [
        "ecoli = deepcopy(ecoli)\n",
        "ecoli.loc[ecoli.cluster == 'cp', \"class\"] = 0\n",
        "ecoli.loc[ecoli.cluster == 'im', \"class\"] = 1\n",
        "ecoli.loc[ecoli.cluster == 'pp', \"class\"] = 2\n",
        "ecoli.loc[ecoli.cluster == 'imU', \"class\"] = 3\n",
        "ecoli.loc[ecoli.cluster == 'om', \"class\"] = 4\n",
        "ecoli.loc[ecoli.cluster == 'omL', \"class\"] = 5\n",
        "ecoli.loc[ecoli.cluster == 'imS', \"class\"] = 6\n",
        "ecoli.loc[ecoli.cluster == 'imL', \"class\"] = 7\n",
        "ecoli['class'] = ecoli['class'].astype(\"int\")\n",
        "ecoli['class'] = ecoli['class'].astype(\"category\")\n",
        "ecoli = ecoli.drop(columns=['cluster'])\n",
        "ecoli['class'].value_counts()"
      ],
      "execution_count": 32,
      "outputs": [
        {
          "output_type": "execute_result",
          "data": {
            "text/plain": [
              "0    143\n",
              "1     77\n",
              "2     52\n",
              "3     35\n",
              "4     20\n",
              "Name: class, dtype: int64"
            ]
          },
          "metadata": {
            "tags": []
          },
          "execution_count": 32
        }
      ]
    },
    {
      "cell_type": "code",
      "metadata": {
        "colab": {
          "base_uri": "https://localhost:8080/",
          "height": 204
        },
        "id": "m8xFWUZHvV8r",
        "outputId": "e84b291d-0e8f-4317-bb76-08227a7d051f"
      },
      "source": [
        "ecoli = ecoli.drop(columns=3)\n",
        "ecoli.name = 'Ecoli 1'\n",
        "ecoli.head()"
      ],
      "execution_count": 33,
      "outputs": [
        {
          "output_type": "execute_result",
          "data": {
            "text/html": [
              "<div>\n",
              "<style scoped>\n",
              "    .dataframe tbody tr th:only-of-type {\n",
              "        vertical-align: middle;\n",
              "    }\n",
              "\n",
              "    .dataframe tbody tr th {\n",
              "        vertical-align: top;\n",
              "    }\n",
              "\n",
              "    .dataframe thead th {\n",
              "        text-align: right;\n",
              "    }\n",
              "</style>\n",
              "<table border=\"1\" class=\"dataframe\">\n",
              "  <thead>\n",
              "    <tr style=\"text-align: right;\">\n",
              "      <th></th>\n",
              "      <th>0</th>\n",
              "      <th>1</th>\n",
              "      <th>2</th>\n",
              "      <th>4</th>\n",
              "      <th>5</th>\n",
              "      <th>6</th>\n",
              "      <th>class</th>\n",
              "    </tr>\n",
              "  </thead>\n",
              "  <tbody>\n",
              "    <tr>\n",
              "      <th>0</th>\n",
              "      <td>0.49</td>\n",
              "      <td>0.29</td>\n",
              "      <td>0.48</td>\n",
              "      <td>0.56</td>\n",
              "      <td>0.24</td>\n",
              "      <td>0.35</td>\n",
              "      <td>0</td>\n",
              "    </tr>\n",
              "    <tr>\n",
              "      <th>1</th>\n",
              "      <td>0.07</td>\n",
              "      <td>0.40</td>\n",
              "      <td>0.48</td>\n",
              "      <td>0.54</td>\n",
              "      <td>0.35</td>\n",
              "      <td>0.44</td>\n",
              "      <td>0</td>\n",
              "    </tr>\n",
              "    <tr>\n",
              "      <th>2</th>\n",
              "      <td>0.56</td>\n",
              "      <td>0.40</td>\n",
              "      <td>0.48</td>\n",
              "      <td>0.49</td>\n",
              "      <td>0.37</td>\n",
              "      <td>0.46</td>\n",
              "      <td>0</td>\n",
              "    </tr>\n",
              "    <tr>\n",
              "      <th>3</th>\n",
              "      <td>0.59</td>\n",
              "      <td>0.49</td>\n",
              "      <td>0.48</td>\n",
              "      <td>0.52</td>\n",
              "      <td>0.45</td>\n",
              "      <td>0.36</td>\n",
              "      <td>0</td>\n",
              "    </tr>\n",
              "    <tr>\n",
              "      <th>4</th>\n",
              "      <td>0.23</td>\n",
              "      <td>0.32</td>\n",
              "      <td>0.48</td>\n",
              "      <td>0.55</td>\n",
              "      <td>0.25</td>\n",
              "      <td>0.35</td>\n",
              "      <td>0</td>\n",
              "    </tr>\n",
              "  </tbody>\n",
              "</table>\n",
              "</div>"
            ],
            "text/plain": [
              "      0     1     2     4     5     6 class\n",
              "0  0.49  0.29  0.48  0.56  0.24  0.35     0\n",
              "1  0.07  0.40  0.48  0.54  0.35  0.44     0\n",
              "2  0.56  0.40  0.48  0.49  0.37  0.46     0\n",
              "3  0.59  0.49  0.48  0.52  0.45  0.36     0\n",
              "4  0.23  0.32  0.48  0.55  0.25  0.35     0"
            ]
          },
          "metadata": {
            "tags": []
          },
          "execution_count": 33
        }
      ]
    },
    {
      "cell_type": "code",
      "metadata": {
        "id": "xelqX54g5PsW"
      },
      "source": [
        "datasets = ['xaa','xab','xac','xad','xae','xaf','xag','xah','xai']"
      ],
      "execution_count": 34,
      "outputs": []
    },
    {
      "cell_type": "code",
      "metadata": {
        "id": "tBQVjw6s5WsH"
      },
      "source": [
        "vehicle = pd.DataFrame()"
      ],
      "execution_count": 35,
      "outputs": []
    },
    {
      "cell_type": "code",
      "metadata": {
        "colab": {
          "base_uri": "https://localhost:8080/",
          "height": 419
        },
        "id": "IXfzQ8VK5clA",
        "outputId": "5bb2f6c5-1005-4003-bc34-52eda0886f7f"
      },
      "source": [
        "for d in datasets:\n",
        "  subsection = pd.read_csv('/content/drive/MyDrive/'+d+'.dat', header=None, delimiter='\\s+')\n",
        "  vehicle = pd.concat([vehicle, subsection])\n",
        "vehicle = vehicle.reset_index(drop=True)\n",
        "vehicle = vehicle.rename(columns={18:'class'})\n",
        "vehicle"
      ],
      "execution_count": 36,
      "outputs": [
        {
          "output_type": "execute_result",
          "data": {
            "text/html": [
              "<div>\n",
              "<style scoped>\n",
              "    .dataframe tbody tr th:only-of-type {\n",
              "        vertical-align: middle;\n",
              "    }\n",
              "\n",
              "    .dataframe tbody tr th {\n",
              "        vertical-align: top;\n",
              "    }\n",
              "\n",
              "    .dataframe thead th {\n",
              "        text-align: right;\n",
              "    }\n",
              "</style>\n",
              "<table border=\"1\" class=\"dataframe\">\n",
              "  <thead>\n",
              "    <tr style=\"text-align: right;\">\n",
              "      <th></th>\n",
              "      <th>0</th>\n",
              "      <th>1</th>\n",
              "      <th>2</th>\n",
              "      <th>3</th>\n",
              "      <th>4</th>\n",
              "      <th>5</th>\n",
              "      <th>6</th>\n",
              "      <th>7</th>\n",
              "      <th>8</th>\n",
              "      <th>9</th>\n",
              "      <th>10</th>\n",
              "      <th>11</th>\n",
              "      <th>12</th>\n",
              "      <th>13</th>\n",
              "      <th>14</th>\n",
              "      <th>15</th>\n",
              "      <th>16</th>\n",
              "      <th>17</th>\n",
              "      <th>class</th>\n",
              "    </tr>\n",
              "  </thead>\n",
              "  <tbody>\n",
              "    <tr>\n",
              "      <th>0</th>\n",
              "      <td>95</td>\n",
              "      <td>48</td>\n",
              "      <td>83</td>\n",
              "      <td>178</td>\n",
              "      <td>72</td>\n",
              "      <td>10</td>\n",
              "      <td>162</td>\n",
              "      <td>42</td>\n",
              "      <td>20</td>\n",
              "      <td>159</td>\n",
              "      <td>176</td>\n",
              "      <td>379</td>\n",
              "      <td>184</td>\n",
              "      <td>70</td>\n",
              "      <td>6</td>\n",
              "      <td>16</td>\n",
              "      <td>187</td>\n",
              "      <td>197</td>\n",
              "      <td>van</td>\n",
              "    </tr>\n",
              "    <tr>\n",
              "      <th>1</th>\n",
              "      <td>91</td>\n",
              "      <td>41</td>\n",
              "      <td>84</td>\n",
              "      <td>141</td>\n",
              "      <td>57</td>\n",
              "      <td>9</td>\n",
              "      <td>149</td>\n",
              "      <td>45</td>\n",
              "      <td>19</td>\n",
              "      <td>143</td>\n",
              "      <td>170</td>\n",
              "      <td>330</td>\n",
              "      <td>158</td>\n",
              "      <td>72</td>\n",
              "      <td>9</td>\n",
              "      <td>14</td>\n",
              "      <td>189</td>\n",
              "      <td>199</td>\n",
              "      <td>van</td>\n",
              "    </tr>\n",
              "    <tr>\n",
              "      <th>2</th>\n",
              "      <td>104</td>\n",
              "      <td>50</td>\n",
              "      <td>106</td>\n",
              "      <td>209</td>\n",
              "      <td>66</td>\n",
              "      <td>10</td>\n",
              "      <td>207</td>\n",
              "      <td>32</td>\n",
              "      <td>23</td>\n",
              "      <td>158</td>\n",
              "      <td>223</td>\n",
              "      <td>635</td>\n",
              "      <td>220</td>\n",
              "      <td>73</td>\n",
              "      <td>14</td>\n",
              "      <td>9</td>\n",
              "      <td>188</td>\n",
              "      <td>196</td>\n",
              "      <td>saab</td>\n",
              "    </tr>\n",
              "    <tr>\n",
              "      <th>3</th>\n",
              "      <td>93</td>\n",
              "      <td>41</td>\n",
              "      <td>82</td>\n",
              "      <td>159</td>\n",
              "      <td>63</td>\n",
              "      <td>9</td>\n",
              "      <td>144</td>\n",
              "      <td>46</td>\n",
              "      <td>19</td>\n",
              "      <td>143</td>\n",
              "      <td>160</td>\n",
              "      <td>309</td>\n",
              "      <td>127</td>\n",
              "      <td>63</td>\n",
              "      <td>6</td>\n",
              "      <td>10</td>\n",
              "      <td>199</td>\n",
              "      <td>207</td>\n",
              "      <td>van</td>\n",
              "    </tr>\n",
              "    <tr>\n",
              "      <th>4</th>\n",
              "      <td>85</td>\n",
              "      <td>44</td>\n",
              "      <td>70</td>\n",
              "      <td>205</td>\n",
              "      <td>103</td>\n",
              "      <td>52</td>\n",
              "      <td>149</td>\n",
              "      <td>45</td>\n",
              "      <td>19</td>\n",
              "      <td>144</td>\n",
              "      <td>241</td>\n",
              "      <td>325</td>\n",
              "      <td>188</td>\n",
              "      <td>127</td>\n",
              "      <td>9</td>\n",
              "      <td>11</td>\n",
              "      <td>180</td>\n",
              "      <td>183</td>\n",
              "      <td>bus</td>\n",
              "    </tr>\n",
              "    <tr>\n",
              "      <th>...</th>\n",
              "      <td>...</td>\n",
              "      <td>...</td>\n",
              "      <td>...</td>\n",
              "      <td>...</td>\n",
              "      <td>...</td>\n",
              "      <td>...</td>\n",
              "      <td>...</td>\n",
              "      <td>...</td>\n",
              "      <td>...</td>\n",
              "      <td>...</td>\n",
              "      <td>...</td>\n",
              "      <td>...</td>\n",
              "      <td>...</td>\n",
              "      <td>...</td>\n",
              "      <td>...</td>\n",
              "      <td>...</td>\n",
              "      <td>...</td>\n",
              "      <td>...</td>\n",
              "      <td>...</td>\n",
              "    </tr>\n",
              "    <tr>\n",
              "      <th>841</th>\n",
              "      <td>93</td>\n",
              "      <td>39</td>\n",
              "      <td>87</td>\n",
              "      <td>183</td>\n",
              "      <td>64</td>\n",
              "      <td>8</td>\n",
              "      <td>169</td>\n",
              "      <td>40</td>\n",
              "      <td>20</td>\n",
              "      <td>134</td>\n",
              "      <td>200</td>\n",
              "      <td>422</td>\n",
              "      <td>149</td>\n",
              "      <td>72</td>\n",
              "      <td>7</td>\n",
              "      <td>25</td>\n",
              "      <td>188</td>\n",
              "      <td>195</td>\n",
              "      <td>saab</td>\n",
              "    </tr>\n",
              "    <tr>\n",
              "      <th>842</th>\n",
              "      <td>89</td>\n",
              "      <td>46</td>\n",
              "      <td>84</td>\n",
              "      <td>163</td>\n",
              "      <td>66</td>\n",
              "      <td>11</td>\n",
              "      <td>159</td>\n",
              "      <td>43</td>\n",
              "      <td>20</td>\n",
              "      <td>159</td>\n",
              "      <td>173</td>\n",
              "      <td>368</td>\n",
              "      <td>176</td>\n",
              "      <td>72</td>\n",
              "      <td>1</td>\n",
              "      <td>20</td>\n",
              "      <td>186</td>\n",
              "      <td>197</td>\n",
              "      <td>van</td>\n",
              "    </tr>\n",
              "    <tr>\n",
              "      <th>843</th>\n",
              "      <td>106</td>\n",
              "      <td>54</td>\n",
              "      <td>101</td>\n",
              "      <td>222</td>\n",
              "      <td>67</td>\n",
              "      <td>12</td>\n",
              "      <td>222</td>\n",
              "      <td>30</td>\n",
              "      <td>25</td>\n",
              "      <td>173</td>\n",
              "      <td>228</td>\n",
              "      <td>721</td>\n",
              "      <td>200</td>\n",
              "      <td>70</td>\n",
              "      <td>3</td>\n",
              "      <td>4</td>\n",
              "      <td>187</td>\n",
              "      <td>201</td>\n",
              "      <td>saab</td>\n",
              "    </tr>\n",
              "    <tr>\n",
              "      <th>844</th>\n",
              "      <td>86</td>\n",
              "      <td>36</td>\n",
              "      <td>78</td>\n",
              "      <td>146</td>\n",
              "      <td>58</td>\n",
              "      <td>7</td>\n",
              "      <td>135</td>\n",
              "      <td>50</td>\n",
              "      <td>18</td>\n",
              "      <td>124</td>\n",
              "      <td>155</td>\n",
              "      <td>270</td>\n",
              "      <td>148</td>\n",
              "      <td>66</td>\n",
              "      <td>0</td>\n",
              "      <td>25</td>\n",
              "      <td>190</td>\n",
              "      <td>195</td>\n",
              "      <td>saab</td>\n",
              "    </tr>\n",
              "    <tr>\n",
              "      <th>845</th>\n",
              "      <td>85</td>\n",
              "      <td>36</td>\n",
              "      <td>66</td>\n",
              "      <td>123</td>\n",
              "      <td>55</td>\n",
              "      <td>5</td>\n",
              "      <td>120</td>\n",
              "      <td>56</td>\n",
              "      <td>17</td>\n",
              "      <td>128</td>\n",
              "      <td>140</td>\n",
              "      <td>212</td>\n",
              "      <td>131</td>\n",
              "      <td>73</td>\n",
              "      <td>1</td>\n",
              "      <td>18</td>\n",
              "      <td>186</td>\n",
              "      <td>190</td>\n",
              "      <td>van</td>\n",
              "    </tr>\n",
              "  </tbody>\n",
              "</table>\n",
              "<p>846 rows × 19 columns</p>\n",
              "</div>"
            ],
            "text/plain": [
              "       0   1    2    3    4   5    6   7  ...   11   12   13  14  15   16   17  class\n",
              "0     95  48   83  178   72  10  162  42  ...  379  184   70   6  16  187  197    van\n",
              "1     91  41   84  141   57   9  149  45  ...  330  158   72   9  14  189  199    van\n",
              "2    104  50  106  209   66  10  207  32  ...  635  220   73  14   9  188  196   saab\n",
              "3     93  41   82  159   63   9  144  46  ...  309  127   63   6  10  199  207    van\n",
              "4     85  44   70  205  103  52  149  45  ...  325  188  127   9  11  180  183    bus\n",
              "..   ...  ..  ...  ...  ...  ..  ...  ..  ...  ...  ...  ...  ..  ..  ...  ...    ...\n",
              "841   93  39   87  183   64   8  169  40  ...  422  149   72   7  25  188  195   saab\n",
              "842   89  46   84  163   66  11  159  43  ...  368  176   72   1  20  186  197    van\n",
              "843  106  54  101  222   67  12  222  30  ...  721  200   70   3   4  187  201   saab\n",
              "844   86  36   78  146   58   7  135  50  ...  270  148   66   0  25  190  195   saab\n",
              "845   85  36   66  123   55   5  120  56  ...  212  131   73   1  18  186  190    van\n",
              "\n",
              "[846 rows x 19 columns]"
            ]
          },
          "metadata": {
            "tags": []
          },
          "execution_count": 36
        }
      ]
    },
    {
      "cell_type": "code",
      "metadata": {
        "colab": {
          "base_uri": "https://localhost:8080/"
        },
        "id": "yDftBr-i_6lj",
        "outputId": "39aaf0fc-a324-4682-99ce-4f070e79491f"
      },
      "source": [
        "vehicle['class'].value_counts()"
      ],
      "execution_count": 37,
      "outputs": [
        {
          "output_type": "execute_result",
          "data": {
            "text/plain": [
              "bus     218\n",
              "saab    217\n",
              "opel    212\n",
              "van     199\n",
              "Name: class, dtype: int64"
            ]
          },
          "metadata": {
            "tags": []
          },
          "execution_count": 37
        }
      ]
    },
    {
      "cell_type": "code",
      "metadata": {
        "id": "ZWgi0rDNX5lZ"
      },
      "source": [
        "heart = pd.read_csv('/content/drive/MyDrive/processed.cleveland.data', header=None)\n",
        "heart = heart.rename(columns={13:'class'})"
      ],
      "execution_count": 38,
      "outputs": []
    },
    {
      "cell_type": "code",
      "metadata": {
        "colab": {
          "base_uri": "https://localhost:8080/"
        },
        "id": "SObbxcP78Qlb",
        "outputId": "7b25d6ca-7feb-4d26-c619-2e60a3c61d80"
      },
      "source": [
        "heart['class'].value_counts()"
      ],
      "execution_count": 39,
      "outputs": [
        {
          "output_type": "execute_result",
          "data": {
            "text/plain": [
              "0    164\n",
              "1     55\n",
              "2     36\n",
              "3     35\n",
              "4     13\n",
              "Name: class, dtype: int64"
            ]
          },
          "metadata": {
            "tags": []
          },
          "execution_count": 39
        }
      ]
    },
    {
      "cell_type": "code",
      "metadata": {
        "id": "lmygTPHa5Y8g"
      },
      "source": [
        "heart[11] = pd.to_numeric(heart[11], errors='coerce')\n",
        "heart[12] = pd.to_numeric(heart[12], errors='coerce')\n",
        "heart[11] = heart.groupby(\"class\").transform(lambda x: x.fillna(x.median()))\n",
        "heart[12] = heart.groupby(\"class\").transform(lambda x: x.fillna(x.median()))"
      ],
      "execution_count": 40,
      "outputs": []
    },
    {
      "cell_type": "code",
      "metadata": {
        "colab": {
          "base_uri": "https://localhost:8080/",
          "height": 204
        },
        "id": "ZJjBXe8o5vGL",
        "outputId": "76f51a38-df99-4b06-849b-ab8ac8e97bc9"
      },
      "source": [
        "heart.name = 'Heart 1'\n",
        "heart.head()"
      ],
      "execution_count": 41,
      "outputs": [
        {
          "output_type": "execute_result",
          "data": {
            "text/html": [
              "<div>\n",
              "<style scoped>\n",
              "    .dataframe tbody tr th:only-of-type {\n",
              "        vertical-align: middle;\n",
              "    }\n",
              "\n",
              "    .dataframe tbody tr th {\n",
              "        vertical-align: top;\n",
              "    }\n",
              "\n",
              "    .dataframe thead th {\n",
              "        text-align: right;\n",
              "    }\n",
              "</style>\n",
              "<table border=\"1\" class=\"dataframe\">\n",
              "  <thead>\n",
              "    <tr style=\"text-align: right;\">\n",
              "      <th></th>\n",
              "      <th>0</th>\n",
              "      <th>1</th>\n",
              "      <th>2</th>\n",
              "      <th>3</th>\n",
              "      <th>4</th>\n",
              "      <th>5</th>\n",
              "      <th>6</th>\n",
              "      <th>7</th>\n",
              "      <th>8</th>\n",
              "      <th>9</th>\n",
              "      <th>10</th>\n",
              "      <th>11</th>\n",
              "      <th>12</th>\n",
              "      <th>class</th>\n",
              "    </tr>\n",
              "  </thead>\n",
              "  <tbody>\n",
              "    <tr>\n",
              "      <th>0</th>\n",
              "      <td>63.0</td>\n",
              "      <td>1.0</td>\n",
              "      <td>1.0</td>\n",
              "      <td>145.0</td>\n",
              "      <td>233.0</td>\n",
              "      <td>1.0</td>\n",
              "      <td>2.0</td>\n",
              "      <td>150.0</td>\n",
              "      <td>0.0</td>\n",
              "      <td>2.3</td>\n",
              "      <td>3.0</td>\n",
              "      <td>63.0</td>\n",
              "      <td>63.0</td>\n",
              "      <td>0</td>\n",
              "    </tr>\n",
              "    <tr>\n",
              "      <th>1</th>\n",
              "      <td>67.0</td>\n",
              "      <td>1.0</td>\n",
              "      <td>4.0</td>\n",
              "      <td>160.0</td>\n",
              "      <td>286.0</td>\n",
              "      <td>0.0</td>\n",
              "      <td>2.0</td>\n",
              "      <td>108.0</td>\n",
              "      <td>1.0</td>\n",
              "      <td>1.5</td>\n",
              "      <td>2.0</td>\n",
              "      <td>67.0</td>\n",
              "      <td>67.0</td>\n",
              "      <td>2</td>\n",
              "    </tr>\n",
              "    <tr>\n",
              "      <th>2</th>\n",
              "      <td>67.0</td>\n",
              "      <td>1.0</td>\n",
              "      <td>4.0</td>\n",
              "      <td>120.0</td>\n",
              "      <td>229.0</td>\n",
              "      <td>0.0</td>\n",
              "      <td>2.0</td>\n",
              "      <td>129.0</td>\n",
              "      <td>1.0</td>\n",
              "      <td>2.6</td>\n",
              "      <td>2.0</td>\n",
              "      <td>67.0</td>\n",
              "      <td>67.0</td>\n",
              "      <td>1</td>\n",
              "    </tr>\n",
              "    <tr>\n",
              "      <th>3</th>\n",
              "      <td>37.0</td>\n",
              "      <td>1.0</td>\n",
              "      <td>3.0</td>\n",
              "      <td>130.0</td>\n",
              "      <td>250.0</td>\n",
              "      <td>0.0</td>\n",
              "      <td>0.0</td>\n",
              "      <td>187.0</td>\n",
              "      <td>0.0</td>\n",
              "      <td>3.5</td>\n",
              "      <td>3.0</td>\n",
              "      <td>37.0</td>\n",
              "      <td>37.0</td>\n",
              "      <td>0</td>\n",
              "    </tr>\n",
              "    <tr>\n",
              "      <th>4</th>\n",
              "      <td>41.0</td>\n",
              "      <td>0.0</td>\n",
              "      <td>2.0</td>\n",
              "      <td>130.0</td>\n",
              "      <td>204.0</td>\n",
              "      <td>0.0</td>\n",
              "      <td>2.0</td>\n",
              "      <td>172.0</td>\n",
              "      <td>0.0</td>\n",
              "      <td>1.4</td>\n",
              "      <td>1.0</td>\n",
              "      <td>41.0</td>\n",
              "      <td>41.0</td>\n",
              "      <td>0</td>\n",
              "    </tr>\n",
              "  </tbody>\n",
              "</table>\n",
              "</div>"
            ],
            "text/plain": [
              "      0    1    2      3      4    5  ...    8    9   10    11    12  class\n",
              "0  63.0  1.0  1.0  145.0  233.0  1.0  ...  0.0  2.3  3.0  63.0  63.0      0\n",
              "1  67.0  1.0  4.0  160.0  286.0  0.0  ...  1.0  1.5  2.0  67.0  67.0      2\n",
              "2  67.0  1.0  4.0  120.0  229.0  0.0  ...  1.0  2.6  2.0  67.0  67.0      1\n",
              "3  37.0  1.0  3.0  130.0  250.0  0.0  ...  0.0  3.5  3.0  37.0  37.0      0\n",
              "4  41.0  0.0  2.0  130.0  204.0  0.0  ...  0.0  1.4  1.0  41.0  41.0      0\n",
              "\n",
              "[5 rows x 14 columns]"
            ]
          },
          "metadata": {
            "tags": []
          },
          "execution_count": 41
        }
      ]
    },
    {
      "cell_type": "code",
      "metadata": {
        "colab": {
          "base_uri": "https://localhost:8080/",
          "height": 204
        },
        "id": "a5iMTWVi9Zz7",
        "outputId": "85ee3917-743d-454d-ac10-5aafd314d12e"
      },
      "source": [
        "page = pd.read_csv('/content/drive/MyDrive/page-blocks.data', header=None, delimiter='\\s+')\n",
        "page['class']=page[10]-1\n",
        "page = page.drop(columns={10})\n",
        "page.name = 'Page 1'\n",
        "page.head()"
      ],
      "execution_count": 42,
      "outputs": [
        {
          "output_type": "execute_result",
          "data": {
            "text/html": [
              "<div>\n",
              "<style scoped>\n",
              "    .dataframe tbody tr th:only-of-type {\n",
              "        vertical-align: middle;\n",
              "    }\n",
              "\n",
              "    .dataframe tbody tr th {\n",
              "        vertical-align: top;\n",
              "    }\n",
              "\n",
              "    .dataframe thead th {\n",
              "        text-align: right;\n",
              "    }\n",
              "</style>\n",
              "<table border=\"1\" class=\"dataframe\">\n",
              "  <thead>\n",
              "    <tr style=\"text-align: right;\">\n",
              "      <th></th>\n",
              "      <th>0</th>\n",
              "      <th>1</th>\n",
              "      <th>2</th>\n",
              "      <th>3</th>\n",
              "      <th>4</th>\n",
              "      <th>5</th>\n",
              "      <th>6</th>\n",
              "      <th>7</th>\n",
              "      <th>8</th>\n",
              "      <th>9</th>\n",
              "      <th>class</th>\n",
              "    </tr>\n",
              "  </thead>\n",
              "  <tbody>\n",
              "    <tr>\n",
              "      <th>0</th>\n",
              "      <td>5</td>\n",
              "      <td>7</td>\n",
              "      <td>35</td>\n",
              "      <td>1.400</td>\n",
              "      <td>0.400</td>\n",
              "      <td>0.657</td>\n",
              "      <td>2.33</td>\n",
              "      <td>14</td>\n",
              "      <td>23</td>\n",
              "      <td>6</td>\n",
              "      <td>0</td>\n",
              "    </tr>\n",
              "    <tr>\n",
              "      <th>1</th>\n",
              "      <td>6</td>\n",
              "      <td>7</td>\n",
              "      <td>42</td>\n",
              "      <td>1.167</td>\n",
              "      <td>0.429</td>\n",
              "      <td>0.881</td>\n",
              "      <td>3.60</td>\n",
              "      <td>18</td>\n",
              "      <td>37</td>\n",
              "      <td>5</td>\n",
              "      <td>0</td>\n",
              "    </tr>\n",
              "    <tr>\n",
              "      <th>2</th>\n",
              "      <td>6</td>\n",
              "      <td>18</td>\n",
              "      <td>108</td>\n",
              "      <td>3.000</td>\n",
              "      <td>0.287</td>\n",
              "      <td>0.741</td>\n",
              "      <td>4.43</td>\n",
              "      <td>31</td>\n",
              "      <td>80</td>\n",
              "      <td>7</td>\n",
              "      <td>0</td>\n",
              "    </tr>\n",
              "    <tr>\n",
              "      <th>3</th>\n",
              "      <td>5</td>\n",
              "      <td>7</td>\n",
              "      <td>35</td>\n",
              "      <td>1.400</td>\n",
              "      <td>0.371</td>\n",
              "      <td>0.743</td>\n",
              "      <td>4.33</td>\n",
              "      <td>13</td>\n",
              "      <td>26</td>\n",
              "      <td>3</td>\n",
              "      <td>0</td>\n",
              "    </tr>\n",
              "    <tr>\n",
              "      <th>4</th>\n",
              "      <td>6</td>\n",
              "      <td>3</td>\n",
              "      <td>18</td>\n",
              "      <td>0.500</td>\n",
              "      <td>0.500</td>\n",
              "      <td>0.944</td>\n",
              "      <td>2.25</td>\n",
              "      <td>9</td>\n",
              "      <td>17</td>\n",
              "      <td>4</td>\n",
              "      <td>0</td>\n",
              "    </tr>\n",
              "  </tbody>\n",
              "</table>\n",
              "</div>"
            ],
            "text/plain": [
              "   0   1    2      3      4      5     6   7   8  9  class\n",
              "0  5   7   35  1.400  0.400  0.657  2.33  14  23  6      0\n",
              "1  6   7   42  1.167  0.429  0.881  3.60  18  37  5      0\n",
              "2  6  18  108  3.000  0.287  0.741  4.43  31  80  7      0\n",
              "3  5   7   35  1.400  0.371  0.743  4.33  13  26  3      0\n",
              "4  6   3   18  0.500  0.500  0.944  2.25   9  17  4      0"
            ]
          },
          "metadata": {
            "tags": []
          },
          "execution_count": 42
        }
      ]
    },
    {
      "cell_type": "code",
      "metadata": {
        "colab": {
          "base_uri": "https://localhost:8080/"
        },
        "id": "uMYiW0AM-EWN",
        "outputId": "404b6ff9-4608-4272-9905-0cf49be767d0"
      },
      "source": [
        "page['class'].value_counts()"
      ],
      "execution_count": 43,
      "outputs": [
        {
          "output_type": "execute_result",
          "data": {
            "text/plain": [
              "0    4913\n",
              "1     329\n",
              "4     115\n",
              "3      88\n",
              "2      28\n",
              "Name: class, dtype: int64"
            ]
          },
          "metadata": {
            "tags": []
          },
          "execution_count": 43
        }
      ]
    },
    {
      "cell_type": "code",
      "metadata": {
        "id": "fZbsZJziAD-b"
      },
      "source": [
        "glass = pd.read_csv('/content/drive/MyDrive/glass.data', header=None, delimiter=',', index_col=0)\n",
        "glass = glass.rename(columns={10:'class'})"
      ],
      "execution_count": 44,
      "outputs": []
    },
    {
      "cell_type": "code",
      "metadata": {
        "id": "5vCSS8l8DAnO"
      },
      "source": [
        "glass['class'] = glass['class'].map({2: 0, 7:2, 3:3, 5:4, 6:5, 1:1})\n",
        "glass['class'] = glass['class'].fillna(0.0).astype(int)"
      ],
      "execution_count": 45,
      "outputs": []
    },
    {
      "cell_type": "code",
      "metadata": {
        "colab": {
          "base_uri": "https://localhost:8080/"
        },
        "id": "_ShYHtQRAZFX",
        "outputId": "e26fdae3-ac16-4524-d74b-1a527556985f"
      },
      "source": [
        "glass.name = 'Glass 1'\n",
        "glass['class'].value_counts()"
      ],
      "execution_count": 46,
      "outputs": [
        {
          "output_type": "execute_result",
          "data": {
            "text/plain": [
              "0    76\n",
              "1    70\n",
              "2    29\n",
              "3    17\n",
              "4    13\n",
              "5     9\n",
              "Name: class, dtype: int64"
            ]
          },
          "metadata": {
            "tags": []
          },
          "execution_count": 46
        }
      ]
    },
    {
      "cell_type": "code",
      "metadata": {
        "id": "OsUspqauau3P"
      },
      "source": [
        "# train test/ scaling\n",
        "def data_prep (data, seed):\n",
        "  X= data.drop('class',axis=1).copy()\n",
        "  y = data['class'].copy()\n",
        "  y = y.astype('category')\n",
        "  X_train, X_test, y_train, y_test = train_test_split(X, y, test_size=0.25, random_state=seed, shuffle=y, stratify=y) # add ssed\n",
        "\n",
        "  scaler = StandardScaler()\n",
        "  scaler.fit(X_train)\n",
        "  X_train_scaled = scaler.transform(X_train)\n",
        "  X_test_scaled = scaler.transform(X_test)\n",
        "\n",
        "  X_train_scaled = pd.DataFrame(X_train_scaled, columns = X_train.columns)\n",
        "  X_test_scaled = pd.DataFrame(X_test_scaled, columns = X_test.columns)\n",
        "\n",
        "  return X_train_scaled, X_test_scaled, y_train, y_test"
      ],
      "execution_count": 28,
      "outputs": []
    },
    {
      "cell_type": "code",
      "metadata": {
        "id": "SNuXHNsxyhaB"
      },
      "source": [
        "def random_under_minority (data, imbalance_level, seed):\n",
        "  if imbalance_level == 'none':\n",
        "    X_train_scaled, X_test_scaled, y_train, y_test = data_prep(data, 1)\n",
        "    X_train_scaled = X_train_scaled.reset_index(drop=True).values\n",
        "    X_test_scaled = X_test_scaled.reset_index(drop=True).values\n",
        "    y_train = y_train.reset_index(drop=True)\n",
        "    y_test = y_test.reset_index(drop=True)\n",
        "  \n",
        "  else:\n",
        "    X_train_scaled, X_test_scaled, y_train, y_test = data_prep(data, 1)\n",
        "    y_train = y_train.reset_index(drop=True)\n",
        "    X_train_scaled['class'] = y_train\n",
        "\n",
        "    class_counts = X_train_scaled['class'].value_counts().to_frame()\n",
        "\n",
        "    minority_full = pd.DataFrame()\n",
        "    for c in range(1,len(class_counts)):\n",
        "      maj_count = class_counts.iloc[0,0]\n",
        "      min_count = class_counts.iloc[c,0]\n",
        "\n",
        "      majority = X_train_scaled[(X_train_scaled['class'] == 0)]\n",
        "      minority = X_train_scaled[(X_train_scaled['class']== c)]\n",
        "\n",
        "      if imbalance_level == 'absolute':\n",
        "          downsample = 6\n",
        "  \n",
        "      else:\n",
        "        if imbalance_level == 'high':\n",
        "          imbalance = 0.05\n",
        "      \n",
        "        elif imbalance_level == 'extreme':\n",
        "          imbalance = 0.01\n",
        "\n",
        "        downsample = (maj_count * imbalance).round().astype('int')\n",
        "    \n",
        "      if imbalance_level == 'extreme' and downsample < 8:\n",
        "        downsample = 8\n",
        "\n",
        "      if downsample < 6:\n",
        "        downsample = 6 \n",
        " \n",
        "      if downsample >= min_count:\n",
        "        minority_sample = minority\n",
        "      \n",
        "      \n",
        "      else:\n",
        "        minority_sample = minority.sample(n= downsample)\n",
        "\n",
        "      minority_full = pd.concat([minority_full, minority_sample])\n",
        "    final = pd.concat([majority, minority_full])\n",
        "    final = shuffle(final)\n",
        "\n",
        "    X_train_scaled = final.drop('class',axis=1).copy()\n",
        "    y_train = final['class'].copy()\n",
        "    y_train = y_train.astype('category')\n",
        "\n",
        "    X_train_scaled = X_train_scaled.reset_index(drop=True).values\n",
        "    X_test_scaled = X_test_scaled.reset_index(drop=True).values\n",
        "    y_train = y_train.reset_index(drop=True)\n",
        "    y_test = y_test.reset_index(drop=True)\n",
        "  return X_train_scaled, X_test_scaled, y_train, y_test"
      ],
      "execution_count": 29,
      "outputs": []
    },
    {
      "cell_type": "code",
      "metadata": {
        "id": "z8NQNtO3a1dX"
      },
      "source": [
        "def SMOTE_sampling (data, imbalance, seed):\n",
        "  X_train_scaled, X_test_scaled, y_train, y_test = random_under_minority(data, imbalance, seed)\n",
        "\n",
        "  SMOTE_sample = SMOTE()\n",
        "  X_train_scaled, y_train = SMOTE_sample.fit_resample(X_train_scaled, y_train)\n",
        "  \n",
        "  return X_train_scaled, X_test_scaled, y_train, y_test"
      ],
      "execution_count": 30,
      "outputs": []
    },
    {
      "cell_type": "code",
      "metadata": {
        "id": "nu5ULZ_KMl0B"
      },
      "source": [
        "import numpy as np\n",
        "from sklearn.preprocessing import StandardScaler\n",
        "import random\n",
        "\n",
        "class SingularMatrixException(Exception):\n",
        "    def __init__(self):\n",
        "        Exception.__init__(self,\"Singular data matrix... use subspace\") \n",
        "\n",
        "def _msqrt(X):\n",
        "    '''Computes the square root matrix of symmetric square matrix X.'''\n",
        "    (L, V) = np.linalg.eig(X)\n",
        "    return V.dot(np.diag(np.sqrt(L))).dot(V.T) \n",
        "\n",
        "\n",
        "class SwimMaha:\n",
        "\n",
        "    def __init__(self, sd=0.25, minClass=None, subSpaceSampling=False):\n",
        "        self.sd = sd\n",
        "        self.minClass = minClass\n",
        "        self.subSpaceSampling = subSpaceSampling\n",
        "\n",
        "    # the data passed is transposed, so the rows are the features, and the columns are the instances\n",
        "    def mahaSampling(self, data, labels, numSamples):\n",
        "\n",
        "        if self.minClass == None:\n",
        "            self.minClass     = np.argmin(np.bincount(labels.astype(int)))\n",
        "\n",
        "        syntheticInstances  = []\n",
        "        data_maj_orig       = data[np.where(labels!=self.minClass)[0], :]\n",
        "        data_min_orig       = data[np.where(labels==self.minClass)[0], :]\n",
        "        data_min_orig = data_min_orig+0.0001*np.random.rand((data_min_orig.shape)[0],(data_min_orig.shape)[1])\n",
        "\n",
        "        if(np.sum(labels==self.minClass)==1):\n",
        "            data_min_orig = data_min_orig.reshape(1,len(data_min_orig))\n",
        "            # trnMinData    = trnMinData.reshape(1,len(trnMinData))\n",
        "\n",
        "        ## STEP 1: CENTRE\n",
        "        ## CENTRE THE MAJORITY CLASS AND CENTRE THE MINORITY CLASS WITH RESPECT TO THE MAJORITY CLASS\n",
        "        scaler = StandardScaler(with_std=False)\n",
        "        T_maj  = np.transpose(scaler.fit_transform(data_maj_orig))\n",
        "        T_min  = np.transpose(data_min_orig) \n",
        "\n",
        "        ## STEP 2: WHITEN\n",
        "        C_inv = None\n",
        "        C     = np.cov(T_maj) # the covariance matrix - of the majority class\n",
        "\n",
        "        # CALCULATE THE RANK OF THE MAJORITY CLASS DATA MATRIX AND INVERT IT IF POSSIBLE\n",
        "        data_rank = np.linalg.matrix_rank(data_maj_orig) \n",
        "        if data_rank < T_maj.shape[0]: # there are linearly dependent column, so inverse will be singular\n",
        "            if self.subSpaceSampling == False:\n",
        "                print(\"The majority class has linearly dependent columns. Rerun the sampling subSpaceSampling=True. Return original data.\")\n",
        "                return data, labels\n",
        "            else:\n",
        "\n",
        "                QR = np.linalg.qr(data_maj_orig)\n",
        "                indep = QR[1].diagonal() > 0\n",
        "                data = data[:,indep]\n",
        "                print(\"The majority class has linearly dependent columns. Resampled data will be in the \" + str(sum(indep==True)) + \" independent columns of the orginal \" + str(data_maj_orig.shape[1]) + \"-dimensional data.\")\n",
        "\n",
        "        else:\n",
        "            try:\n",
        "                C_inv = np.linalg.inv(C) # inverse of the covariance matrix\n",
        "            except np.linalg.LinAlgError as e:\n",
        "                if 'Singular matrix' in str(e):\n",
        "                    print(\"Majority class data is singular. Degrading to random oversampling with Gaussian jitter\")\n",
        "                    X_new = data_min_orig[np.random.choice(data_min_orig.shape[0], numSamples, replace=True), :]\n",
        "                    X_new = X_new + (0.1 * np.random.normal(0, data_maj_orig.std(0), X_new.shape))\n",
        "                    y_new = np.repeat(self.minClass, numSamples)\n",
        "                    data   = X_new\n",
        "                    labels = y_new\n",
        "                    return data, labels\n",
        "        \n",
        "        try:\n",
        "            M     = _msqrt(C_inv) # C_inv is the inverse of the covariance matrix, and M is the matrix for the whitening transform\n",
        "            M_inv = np.linalg.inv(M) # this is the inverse of the M matrix, we'll use it for getting the data back.\n",
        "\n",
        "            W_min      = M.dot(T_min) # whitening transform - whiten the minority class\n",
        "            W_maj      = M.dot(T_maj) # whitening transform - whiten the majority class\n",
        "        except:\n",
        "            print(\"value excpetion... synthetic instances not generated\")\n",
        "            return data, labels\n",
        "\n",
        "        ## STEP 3: FIND THE MEANS AND FEATURE BOUNDS TO USE IN THE GENERATION PROCESS\n",
        "        min_means  = W_min.mean(1)\n",
        "        min_stds   = W_min.std(1)\n",
        "        min_ranges_bottom = min_means - self.sd*min_stds\n",
        "        min_ranges_top    = min_means + self.sd*min_stds\n",
        "\n",
        " \n",
        "        ## STEP 4: GENERATE SYNTHETIC INSTANCES\n",
        "        # RANDOMLY REPLICATE THE WHITENED MINORITY CLASS INSTNACES <numSamples> TIMES TO GENERATE SYNTHETIC INSTANCES FROM\n",
        "        smpInitPts = W_min[:, np.random.choice(W_min.shape[1], numSamples)]\n",
        "        for smpInd in range(smpInitPts.shape[1]): # repeat \"times\" times, so we get a balanced dataset\n",
        "            new_w_raw = []\n",
        "            new       = None\n",
        "            new_w     = None\n",
        "            smp       = smpInitPts[:, smpInd]\n",
        "            for dim in range(len(min_means)):\n",
        "                new_w_raw.append(random.uniform(smp[dim]-self.sd*min_stds[dim], smp[dim]+self.sd*min_stds[dim]))\n",
        "\n",
        "            ## Step 5: SCALE BACK TO THE ORIGINAL SPACE\n",
        "            new_w = np.array(new_w_raw) / ((np.linalg.norm(new_w_raw)/np.linalg.norm(smp)))\n",
        "            new   = M_inv.dot(np.array(new_w))\n",
        "               \n",
        "            syntheticInstances.append(new)\n",
        "            \n",
        "        new_data   = np.array(syntheticInstances)\n",
        "        new_labels = [self.minClass]*len(syntheticInstances)\n",
        "\n",
        "        return new_data, new_labels"
      ],
      "execution_count": 31,
      "outputs": []
    },
    {
      "cell_type": "code",
      "metadata": {
        "id": "rTVFilIZa4PX"
      },
      "source": [
        "def SWIM_sampling (data, imbalance, seed, num_classes):\n",
        "  X_train_scaled, X_test_scaled, y_train, y_test = random_under_minority(data, imbalance, seed)\n",
        "\n",
        "  X_train_scaled_new = deepcopy(X_train_scaled)\n",
        "  y_train_new = deepcopy(y_train)\n",
        "  for i in range(1, num_classes):\n",
        "    numSamples = np.sum(y_train==0)-np.sum(y_train==i)\n",
        "    label = np.array(y_train[(y_train==0)|(y_train==i)])\n",
        "    data = np.array(X_train_scaled[(y_train==0)|(y_train==i)])\n",
        "    sw = SwimMaha(sd= 2, minClass=i)\n",
        "    data_new, new_labels = sw.mahaSampling(data, label, numSamples)\n",
        "    X_train_scaled_new = np.concatenate([X_train_scaled_new, data_new])\n",
        "    y_train_new = np.append(y_train_new, new_labels)\n",
        "  \n",
        "  return X_train_scaled_new, X_test_scaled, y_train_new, y_test"
      ],
      "execution_count": 32,
      "outputs": []
    },
    {
      "cell_type": "code",
      "metadata": {
        "id": "7jEW-QTuKaSD"
      },
      "source": [
        "class SingularMatrixException(Exception):\n",
        "    def __init__(self):\n",
        "        Exception.__init__(self,\"Singular data matrix... use subspace\") \n",
        "\n",
        "class MAHAKIL(object):\n",
        "    def __init__(self, pfp=0.5):\n",
        "        self.data_t = None  # Save the initial defect sample\n",
        "        self.pfp = pfp  # Proportion of expected defect samples\n",
        "        self.T = 0  # Number of defect samples to be generated\n",
        "        self.new = []  # Store newly generated samples\n",
        "\n",
        "    # Core method\n",
        "    # return : data_new, label_new\n",
        "    def fit_sample(self, data, label, num_classes):\n",
        "        \n",
        "        for i in range(1, num_classes):\n",
        "            \n",
        "            label_f = np.array(label[label==0])\n",
        "            label_t = np.array(label[label== i])\n",
        "            \n",
        "            data_f = np.array(data[label==0])\n",
        "            data_t = np.array(data[label== i])\n",
        "            \n",
        "            data_t = data_t+0.00001*np.random.rand((data_t.shape)[0],(data_t.shape)[1])\n",
        "            self.T = int(len(data_f) / (1 - self.pfp) - len(data_f))\n",
        "            self.data_t = np.array(data_t)\n",
        "            \n",
        "            # Calculate the Mahalanobis distance\n",
        "            d = 0\n",
        "            d = self.mahalanobis_distance(self.data_t)\n",
        "        \n",
        "            d = pd.DataFrame (d,columns=['Malhabonis Distance'])\n",
        "            d = d.reset_index(drop=False)\n",
        "            d = d.values.tolist()\n",
        "        \n",
        "\n",
        "            # Descending order\n",
        "            d.sort(key=lambda x: x[1], reverse=True)\n",
        "            # Divide the set of positive examples into two\n",
        "            k = len(d)\n",
        "            d_index = [d[i][0] for i in range(k)]\n",
        "            d_index = [ int(d) for d in d_index ]\n",
        "            data_t_sorted = [data_t[i] for i in d_index]\n",
        "            \n",
        "            mid = int(k/2)\n",
        "            bin1 = [data_t_sorted[i] for i in range(0, mid)]\n",
        "            bin2 = [data_t_sorted[i] for i in range(mid, k)]\n",
        "            # Loop iteration to generate new samples\n",
        "            l_ = len(bin1)\n",
        "            mark = [1, 3, 7, 15, 31, 63, 127, 255, 511, 1023, 2047, 4095, 8191, 16383, 32767, 65535, 131071, 262143, 524287]\n",
        "            p = self.T / (l_ +0.0)\n",
        "            is_full = True\n",
        "            g = mark.index([m for m in mark if m > p][0]) + 1\n",
        "            cluster = 2 ** (g - 1)  # Number of children of the last generation\n",
        "            if (self.T - mark[g-2]*l_) < cluster:\n",
        "                # Explain that adding more generations is better than keeping a few\n",
        "                is_full = False\n",
        "                g -= 1\n",
        "                k = 0\n",
        "            else:\n",
        "                k = l_ - round((self.T - mark[g-2]*l_)/cluster)\n",
        "            self.generate_new_sample(bin1, bin2, g, l_, k, is_full)\n",
        "            # Return data and labels\n",
        "            label_new = np.ones(len(self.new))+ (i-1)\n",
        "            data = np.append(data, self.new, axis=0)\n",
        "            data = pd.DataFrame(data)\n",
        "            label = np.append(label, label_new, axis=0)\n",
        "        return data, label \n",
        "\n",
        "    def mahalanobis_distance(self, x):\n",
        "        x_mu = x - np.mean(x)\n",
        "        cov = np.cov(x.T)\n",
        "        inv_covmat = np.linalg.inv(cov)\n",
        "        left = np.dot(x_mu, inv_covmat)\n",
        "        mahal = np.dot(left, x_mu.T).diagonal()\n",
        "        return mahal\n",
        "\n",
        "\n",
        "    # Generate new samples\n",
        "    def generate_new_sample(self, bin1, bin2, g, l, k, is_full):\n",
        "        # bin1, bin2 are arrays\n",
        "        # g Hereditary remaining algebra\n",
        "        # l bin1 number of items\n",
        "        # k The number of each node to be cropped in the last generation\n",
        "        # is_full whether it overflows, that is, the last generation is counted, whether it exceeds T, or is not full\n",
        "        assert len(bin1) <= len(bin2)\n",
        "        if g >= 2 or (g == 1 and is_full is False):\n",
        "            lv_0 = []  # Offspring\n",
        "            for i in range(l):\n",
        "                # Generate children\n",
        "                lv_0.append(np.mean(np.append(np.atleast_2d(bin1[i]), np.atleast_2d(bin2[i]), axis=0), axis=0))\n",
        "            self.new.extend(lv_0)\n",
        "            self.generate_new_sample(lv_0, bin1, g-1, l, k, is_full)\n",
        "            self.generate_new_sample(lv_0, bin2, g-1, l, k, is_full)\n",
        "        if g == 1 and is_full:\n",
        "            lv_0 = []  # Offspring\n",
        "            for i in range(l):\n",
        "                # Generate children\n",
        "                lv_0.append(np.mean(np.append(np.atleast_2d(bin1[i]), np.atleast_2d(bin2[i]), axis=0), axis=0))\n",
        "            del lv_0[-1: (-k-1): -1]\n",
        "            self.new.extend(lv_0)"
      ],
      "execution_count": 33,
      "outputs": []
    },
    {
      "cell_type": "code",
      "metadata": {
        "id": "xtA3GN2Sa6ou"
      },
      "source": [
        "def MAHAKIL_sampling (data, imbalance, seed, num_classes):\n",
        "  X_train_scaled, X_test_scaled, y_train, y_test = random_under_minority(data, imbalance, seed)\n",
        "\n",
        "  mk = MAHAKIL(pfp=0.5)\n",
        "  X_train_scaled, y_train = mk.fit_sample(X_train_scaled, y_train, num_classes)\n",
        "\n",
        "  return X_train_scaled, X_test_scaled, y_train, y_test"
      ],
      "execution_count": 37,
      "outputs": []
    },
    {
      "cell_type": "code",
      "metadata": {
        "id": "onLRdNao8J1n"
      },
      "source": [
        "from itertools import combinations\n",
        "def a_value(probabilities, zero_label=0, one_label=1):\n",
        "    # Obtain a list of the probabilities for the specified zero label class\n",
        "    expanded_points = []\n",
        "    for instance in probabilities:\n",
        "        if instance[0] == zero_label or instance[0] == one_label:\n",
        "            expanded_points.append((instance[0], instance[1],zero_label))\n",
        "    sorted_ranks = sorted(expanded_points, key=lambda x: x[1])\n",
        "\n",
        "    n0, n1, sum_ranks = 0, 0, 0\n",
        "    # Iterate through ranks and increment counters for overall count and ranks of class 0\n",
        "    for index, point in enumerate(sorted_ranks):\n",
        "        if point[0] == zero_label:\n",
        "            n0 += 1\n",
        "            sum_ranks += index + 1  # Add 1 as ranks are one-based\n",
        "        elif point[0] == one_label:\n",
        "            n1 += 1\n",
        "        else:\n",
        "            pass  # Not interested in this class\n",
        "        if n0 ==0:\n",
        "          n0 = 1\n",
        "        if n1 == 0:\n",
        "          n1 = 1\n",
        "\n",
        "\n",
        "    return (sum_ranks - (n0*(n0+1)/2.0)) / float(n0 * n1)  # Eqn 3\n",
        "\n",
        "def MAUC(data, num_classes):\n",
        "    # Find all pairwise comparisons of labels\n",
        "    class_pairs = [x for x in combinations(range(num_classes), 2)]\n",
        "\n",
        "    # Have to take average of A value with both classes acting as label 0 as this\n",
        "    # gives different outputs for more than 2 classes\n",
        "    sum_avals = 0\n",
        "    for pairing in class_pairs:\n",
        "        sum_avals += (a_value(data, zero_label=pairing[0], one_label=pairing[1]) +\n",
        "                      a_value(data, zero_label=pairing[1], one_label=pairing[0])) / 2.0\n",
        "\n",
        "    return sum_avals * (2 / float(num_classes * (num_classes-1)))  # Eqn 7"
      ],
      "execution_count": 38,
      "outputs": []
    },
    {
      "cell_type": "code",
      "metadata": {
        "id": "rRIAtvKez30l"
      },
      "source": [
        "def classifier_results (data, imbalance, sampling_method, model, seed):\n",
        "\n",
        "  num_classes = len(data['class'].value_counts())\n",
        "  \n",
        "  if sampling_method == 'none':\n",
        "    X_train_scaled, X_test_scaled, y_train, y_test = random_under_minority(data, imbalance, seed)\n",
        "\n",
        "  if sampling_method == 'SMOTE':\n",
        "    X_train_scaled, X_test_scaled, y_train, y_test = SMOTE_sampling (data, imbalance, seed)\n",
        "  \n",
        "  if sampling_method == 'SWIM':\n",
        "    X_train_scaled, X_test_scaled, y_train, y_test = SWIM_sampling (data, imbalance, seed, num_classes)\n",
        "  \n",
        "  if sampling_method == 'MAHAKIL':\n",
        "    X_train_scaled, X_test_scaled, y_train, y_test = MAHAKIL_sampling(data, imbalance, seed, num_classes)\n",
        "\n",
        "  if model == 'naive_bayes':\n",
        "    model_func = GaussianNB()\n",
        "\n",
        "  elif model == 'K_neighbours':\n",
        "    model_func = KNeighborsClassifier(n_neighbors=3)\n",
        "  \n",
        "  elif model == 'Random_forest':\n",
        "    model_func = RandomForestClassifier()\n",
        "  \n",
        "  elif model == 'SVM':\n",
        "    model_func = SVC(kernel='rbf', gamma=1, C=1, probability=True, decision_function_shape='ovo')\n",
        "\n",
        "  model_base = model_func\n",
        "  model_base.fit(X_train_scaled, y_train)\n",
        "\n",
        "  y_pred = model_base.predict(X_test_scaled)\n",
        "  y_pred_probs = model_base.predict_proba(X_test_scaled)\n",
        "\n",
        "  probabilities = []\n",
        "  for i in range(len(y_pred)):\n",
        "    element = (y_pred_probs[i])\n",
        "    element = np.insert(element, 0, y_pred[i])\n",
        "    probabilities.append(element)\n",
        "  \n",
        "  score_MAUC = MAUC(probabilities, num_classes)\n",
        "\n",
        "  f1 = f1_score(y_test, y_pred, average=None)\n",
        "  score_f1 = sum(f1[1:])/ (len(f1)-1)\n",
        "  GMS = geometric_mean_score(y_test, y_pred, average='macro')\n",
        "\n",
        "\n",
        "  return [data.name, imbalance, sampling_method, model, score_f1, score_MAUC, GMS]"
      ],
      "execution_count": 34,
      "outputs": []
    },
    {
      "cell_type": "code",
      "metadata": {
        "id": "tLTej1Um6tqs"
      },
      "source": [
        "def MDO_sampling (data, imbalance, seed, num_classes):\n",
        "  X_train_scaled, X_test_scaled, y_train, y_test = random_under_minority(data, imbalance, seed)\n",
        "\n",
        "  mk = MAHAKIL(pfp=0.5)\n",
        "  X_train_scaled, y_train = mk.fit_sample(X_train_scaled, y_train, num_classes)\n",
        "\n",
        "  return X_train_scaled, X_test_scaled, y_train, y_test"
      ],
      "execution_count": null,
      "outputs": []
    },
    {
      "cell_type": "code",
      "metadata": {
        "id": "B_Mn6FqJjv8k"
      },
      "source": [
        "all_results = []\n",
        "datasets = [WineW3, WineR3, vowel_3, vowel_3_2, WineW4, WineW5, WineR4, WineR5, vowel_3, ecoli, heart, glass]\n",
        "imbalance = ['none','high','extreme','absolute']\n",
        "sampling_method = ['none','SMOTE', 'MAHAKIL','SWIM']\n",
        "models = ['naive_bayes', 'K_neighbours', 'Random_forest']\n",
        "for data in datasets:\n",
        "  for i in imbalance: \n",
        "    for s in sampling_method:\n",
        "      for m in models:\n",
        "        for seed in range(3):\n",
        "          try:\n",
        "            results = classifier_results (data, i, s, m, seed) \n",
        "            all_results.append(results) \n",
        "          except:\n",
        "            pass\n",
        "\n",
        "df = pd.DataFrame(all_results, columns=['Data', 'Imbalance_level','Sampling_method', 'Model', 'F1', 'MAUC', 'G_mean'])\n",
        "df_save = df.to_json(\"/content/drive/MyDrive/multi-test-all.json\")"
      ],
      "execution_count": null,
      "outputs": []
    },
    {
      "cell_type": "code",
      "metadata": {
        "colab": {
          "base_uri": "https://localhost:8080/",
          "height": 419
        },
        "id": "kq0v0moHdSeu",
        "outputId": "c31c7cad-9a42-4900-dde5-de3da6c70074"
      },
      "source": [
        "test = df3.groupby(\n",
        "   ['Sampling_method', 'Data','Imbalance_level']\n",
        ").agg(\n",
        "    {  \n",
        "         'F1': \"max\",  \n",
        "         'MAUC': 'max',\n",
        "         'G_mean': \"max\",  \n",
        "    }\n",
        ").round(decimals=3)\n",
        "test = test.reset_index()\n",
        "test"
      ],
      "execution_count": 43,
      "outputs": [
        {
          "output_type": "execute_result",
          "data": {
            "text/html": [
              "<div>\n",
              "<style scoped>\n",
              "    .dataframe tbody tr th:only-of-type {\n",
              "        vertical-align: middle;\n",
              "    }\n",
              "\n",
              "    .dataframe tbody tr th {\n",
              "        vertical-align: top;\n",
              "    }\n",
              "\n",
              "    .dataframe thead th {\n",
              "        text-align: right;\n",
              "    }\n",
              "</style>\n",
              "<table border=\"1\" class=\"dataframe\">\n",
              "  <thead>\n",
              "    <tr style=\"text-align: right;\">\n",
              "      <th></th>\n",
              "      <th>Sampling_method</th>\n",
              "      <th>Data</th>\n",
              "      <th>Imbalance_level</th>\n",
              "      <th>F1</th>\n",
              "      <th>MAUC</th>\n",
              "      <th>G_mean</th>\n",
              "    </tr>\n",
              "  </thead>\n",
              "  <tbody>\n",
              "    <tr>\n",
              "      <th>0</th>\n",
              "      <td>MAHAKIL</td>\n",
              "      <td>Vowel - 3 classes</td>\n",
              "      <td>absolute</td>\n",
              "      <td>0.733</td>\n",
              "      <td>0.470</td>\n",
              "      <td>0.833</td>\n",
              "    </tr>\n",
              "    <tr>\n",
              "      <th>1</th>\n",
              "      <td>MAHAKIL</td>\n",
              "      <td>Vowel - 3 classes</td>\n",
              "      <td>extreme</td>\n",
              "      <td>0.737</td>\n",
              "      <td>0.468</td>\n",
              "      <td>0.817</td>\n",
              "    </tr>\n",
              "    <tr>\n",
              "      <th>2</th>\n",
              "      <td>MAHAKIL</td>\n",
              "      <td>Vowel - 3 classes</td>\n",
              "      <td>high</td>\n",
              "      <td>0.933</td>\n",
              "      <td>0.473</td>\n",
              "      <td>0.975</td>\n",
              "    </tr>\n",
              "    <tr>\n",
              "      <th>3</th>\n",
              "      <td>MAHAKIL</td>\n",
              "      <td>Vowel - 3 classes</td>\n",
              "      <td>none</td>\n",
              "      <td>0.988</td>\n",
              "      <td>0.472</td>\n",
              "      <td>0.994</td>\n",
              "    </tr>\n",
              "    <tr>\n",
              "      <th>4</th>\n",
              "      <td>MAHAKIL</td>\n",
              "      <td>Vowel - 3 classes - 2</td>\n",
              "      <td>absolute</td>\n",
              "      <td>0.483</td>\n",
              "      <td>0.475</td>\n",
              "      <td>0.718</td>\n",
              "    </tr>\n",
              "    <tr>\n",
              "      <th>...</th>\n",
              "      <td>...</td>\n",
              "      <td>...</td>\n",
              "      <td>...</td>\n",
              "      <td>...</td>\n",
              "      <td>...</td>\n",
              "      <td>...</td>\n",
              "    </tr>\n",
              "    <tr>\n",
              "      <th>59</th>\n",
              "      <td>none</td>\n",
              "      <td>Wine red - 3 class</td>\n",
              "      <td>none</td>\n",
              "      <td>0.125</td>\n",
              "      <td>0.452</td>\n",
              "      <td>0.551</td>\n",
              "    </tr>\n",
              "    <tr>\n",
              "      <th>60</th>\n",
              "      <td>none</td>\n",
              "      <td>Wine white - 3 class</td>\n",
              "      <td>absolute</td>\n",
              "      <td>0.090</td>\n",
              "      <td>0.469</td>\n",
              "      <td>0.498</td>\n",
              "    </tr>\n",
              "    <tr>\n",
              "      <th>61</th>\n",
              "      <td>none</td>\n",
              "      <td>Wine white - 3 class</td>\n",
              "      <td>extreme</td>\n",
              "      <td>0.176</td>\n",
              "      <td>0.442</td>\n",
              "      <td>0.528</td>\n",
              "    </tr>\n",
              "    <tr>\n",
              "      <th>62</th>\n",
              "      <td>none</td>\n",
              "      <td>Wine white - 3 class</td>\n",
              "      <td>high</td>\n",
              "      <td>0.429</td>\n",
              "      <td>0.487</td>\n",
              "      <td>0.631</td>\n",
              "    </tr>\n",
              "    <tr>\n",
              "      <th>63</th>\n",
              "      <td>none</td>\n",
              "      <td>Wine white - 3 class</td>\n",
              "      <td>none</td>\n",
              "      <td>0.429</td>\n",
              "      <td>0.487</td>\n",
              "      <td>0.631</td>\n",
              "    </tr>\n",
              "  </tbody>\n",
              "</table>\n",
              "<p>64 rows × 6 columns</p>\n",
              "</div>"
            ],
            "text/plain": [
              "   Sampling_method                   Data Imbalance_level     F1   MAUC  G_mean\n",
              "0          MAHAKIL      Vowel - 3 classes        absolute  0.733  0.470   0.833\n",
              "1          MAHAKIL      Vowel - 3 classes         extreme  0.737  0.468   0.817\n",
              "2          MAHAKIL      Vowel - 3 classes            high  0.933  0.473   0.975\n",
              "3          MAHAKIL      Vowel - 3 classes            none  0.988  0.472   0.994\n",
              "4          MAHAKIL  Vowel - 3 classes - 2        absolute  0.483  0.475   0.718\n",
              "..             ...                    ...             ...    ...    ...     ...\n",
              "59            none     Wine red - 3 class            none  0.125  0.452   0.551\n",
              "60            none   Wine white - 3 class        absolute  0.090  0.469   0.498\n",
              "61            none   Wine white - 3 class         extreme  0.176  0.442   0.528\n",
              "62            none   Wine white - 3 class            high  0.429  0.487   0.631\n",
              "63            none   Wine white - 3 class            none  0.429  0.487   0.631\n",
              "\n",
              "[64 rows x 6 columns]"
            ]
          },
          "metadata": {
            "tags": []
          },
          "execution_count": 43
        }
      ]
    },
    {
      "cell_type": "code",
      "metadata": {
        "id": "Iy8R7KGDghK3",
        "colab": {
          "base_uri": "https://localhost:8080/",
          "height": 545
        },
        "outputId": "95cdf936-e8c3-4acf-a215-22d7a8055871"
      },
      "source": [
        "group = df3.copy(deep=True)\n",
        "high = group[(group['Imbalance_level']== 'none')]\n",
        "high = high.groupby(\n",
        "   ['Data', 'Sampling_method']\n",
        ").agg(\n",
        "    {  \n",
        "         'F1': \"mean\",  \n",
        "         'MAUC': 'mean',\n",
        "         'G_mean': 'mean'  \n",
        "    }\n",
        ").round(decimals=3)\n",
        "high = high.reset_index()\n",
        "high"
      ],
      "execution_count": 44,
      "outputs": [
        {
          "output_type": "execute_result",
          "data": {
            "text/html": [
              "<div>\n",
              "<style scoped>\n",
              "    .dataframe tbody tr th:only-of-type {\n",
              "        vertical-align: middle;\n",
              "    }\n",
              "\n",
              "    .dataframe tbody tr th {\n",
              "        vertical-align: top;\n",
              "    }\n",
              "\n",
              "    .dataframe thead th {\n",
              "        text-align: right;\n",
              "    }\n",
              "</style>\n",
              "<table border=\"1\" class=\"dataframe\">\n",
              "  <thead>\n",
              "    <tr style=\"text-align: right;\">\n",
              "      <th></th>\n",
              "      <th>Data</th>\n",
              "      <th>Sampling_method</th>\n",
              "      <th>F1</th>\n",
              "      <th>MAUC</th>\n",
              "      <th>G_mean</th>\n",
              "    </tr>\n",
              "  </thead>\n",
              "  <tbody>\n",
              "    <tr>\n",
              "      <th>0</th>\n",
              "      <td>Vowel - 3 classes</td>\n",
              "      <td>MAHAKIL</td>\n",
              "      <td>0.865</td>\n",
              "      <td>0.470</td>\n",
              "      <td>0.951</td>\n",
              "    </tr>\n",
              "    <tr>\n",
              "      <th>1</th>\n",
              "      <td>Vowel - 3 classes</td>\n",
              "      <td>SMOTE</td>\n",
              "      <td>0.898</td>\n",
              "      <td>0.472</td>\n",
              "      <td>0.964</td>\n",
              "    </tr>\n",
              "    <tr>\n",
              "      <th>2</th>\n",
              "      <td>Vowel - 3 classes</td>\n",
              "      <td>SWIM</td>\n",
              "      <td>0.805</td>\n",
              "      <td>0.477</td>\n",
              "      <td>0.953</td>\n",
              "    </tr>\n",
              "    <tr>\n",
              "      <th>3</th>\n",
              "      <td>Vowel - 3 classes</td>\n",
              "      <td>none</td>\n",
              "      <td>0.885</td>\n",
              "      <td>0.468</td>\n",
              "      <td>0.930</td>\n",
              "    </tr>\n",
              "    <tr>\n",
              "      <th>4</th>\n",
              "      <td>Vowel - 3 classes - 2</td>\n",
              "      <td>MAHAKIL</td>\n",
              "      <td>0.765</td>\n",
              "      <td>0.473</td>\n",
              "      <td>0.890</td>\n",
              "    </tr>\n",
              "    <tr>\n",
              "      <th>5</th>\n",
              "      <td>Vowel - 3 classes - 2</td>\n",
              "      <td>SMOTE</td>\n",
              "      <td>0.819</td>\n",
              "      <td>0.474</td>\n",
              "      <td>0.929</td>\n",
              "    </tr>\n",
              "    <tr>\n",
              "      <th>6</th>\n",
              "      <td>Vowel - 3 classes - 2</td>\n",
              "      <td>SWIM</td>\n",
              "      <td>0.701</td>\n",
              "      <td>0.480</td>\n",
              "      <td>0.914</td>\n",
              "    </tr>\n",
              "    <tr>\n",
              "      <th>7</th>\n",
              "      <td>Vowel - 3 classes - 2</td>\n",
              "      <td>none</td>\n",
              "      <td>0.813</td>\n",
              "      <td>0.469</td>\n",
              "      <td>0.889</td>\n",
              "    </tr>\n",
              "    <tr>\n",
              "      <th>8</th>\n",
              "      <td>Wine red - 3 class</td>\n",
              "      <td>MAHAKIL</td>\n",
              "      <td>0.072</td>\n",
              "      <td>0.314</td>\n",
              "      <td>0.533</td>\n",
              "    </tr>\n",
              "    <tr>\n",
              "      <th>9</th>\n",
              "      <td>Wine red - 3 class</td>\n",
              "      <td>SMOTE</td>\n",
              "      <td>0.083</td>\n",
              "      <td>0.452</td>\n",
              "      <td>0.537</td>\n",
              "    </tr>\n",
              "    <tr>\n",
              "      <th>10</th>\n",
              "      <td>Wine red - 3 class</td>\n",
              "      <td>SWIM</td>\n",
              "      <td>0.128</td>\n",
              "      <td>0.486</td>\n",
              "      <td>0.651</td>\n",
              "    </tr>\n",
              "    <tr>\n",
              "      <th>11</th>\n",
              "      <td>Wine red - 3 class</td>\n",
              "      <td>none</td>\n",
              "      <td>0.062</td>\n",
              "      <td>0.323</td>\n",
              "      <td>0.509</td>\n",
              "    </tr>\n",
              "    <tr>\n",
              "      <th>12</th>\n",
              "      <td>Wine white - 3 class</td>\n",
              "      <td>MAHAKIL</td>\n",
              "      <td>0.302</td>\n",
              "      <td>0.486</td>\n",
              "      <td>0.648</td>\n",
              "    </tr>\n",
              "    <tr>\n",
              "      <th>13</th>\n",
              "      <td>Wine white - 3 class</td>\n",
              "      <td>SMOTE</td>\n",
              "      <td>0.299</td>\n",
              "      <td>0.488</td>\n",
              "      <td>0.662</td>\n",
              "    </tr>\n",
              "    <tr>\n",
              "      <th>14</th>\n",
              "      <td>Wine white - 3 class</td>\n",
              "      <td>SWIM</td>\n",
              "      <td>0.222</td>\n",
              "      <td>0.495</td>\n",
              "      <td>0.680</td>\n",
              "    </tr>\n",
              "    <tr>\n",
              "      <th>15</th>\n",
              "      <td>Wine white - 3 class</td>\n",
              "      <td>none</td>\n",
              "      <td>0.245</td>\n",
              "      <td>0.445</td>\n",
              "      <td>0.565</td>\n",
              "    </tr>\n",
              "  </tbody>\n",
              "</table>\n",
              "</div>"
            ],
            "text/plain": [
              "                     Data Sampling_method     F1   MAUC  G_mean\n",
              "0       Vowel - 3 classes         MAHAKIL  0.865  0.470   0.951\n",
              "1       Vowel - 3 classes           SMOTE  0.898  0.472   0.964\n",
              "2       Vowel - 3 classes            SWIM  0.805  0.477   0.953\n",
              "3       Vowel - 3 classes            none  0.885  0.468   0.930\n",
              "4   Vowel - 3 classes - 2         MAHAKIL  0.765  0.473   0.890\n",
              "5   Vowel - 3 classes - 2           SMOTE  0.819  0.474   0.929\n",
              "6   Vowel - 3 classes - 2            SWIM  0.701  0.480   0.914\n",
              "7   Vowel - 3 classes - 2            none  0.813  0.469   0.889\n",
              "8      Wine red - 3 class         MAHAKIL  0.072  0.314   0.533\n",
              "9      Wine red - 3 class           SMOTE  0.083  0.452   0.537\n",
              "10     Wine red - 3 class            SWIM  0.128  0.486   0.651\n",
              "11     Wine red - 3 class            none  0.062  0.323   0.509\n",
              "12   Wine white - 3 class         MAHAKIL  0.302  0.486   0.648\n",
              "13   Wine white - 3 class           SMOTE  0.299  0.488   0.662\n",
              "14   Wine white - 3 class            SWIM  0.222  0.495   0.680\n",
              "15   Wine white - 3 class            none  0.245  0.445   0.565"
            ]
          },
          "metadata": {
            "tags": []
          },
          "execution_count": 44
        }
      ]
    },
    {
      "cell_type": "code",
      "metadata": {
        "id": "Ww1pC5eJBsW_"
      },
      "source": [
        "df = pd.read_json(\"/content/drive/MyDrive/Comparison_datasets.json\")\n",
        "df = df.replace({'none': 'None', 'high': 'High', 'extreme':'Extreme', 'absolute':'Absolute'})"
      ],
      "execution_count": null,
      "outputs": []
    },
    {
      "cell_type": "code",
      "metadata": {
        "id": "jwyohXdLUWjl"
      },
      "source": [
        "df"
      ],
      "execution_count": null,
      "outputs": []
    },
    {
      "cell_type": "code",
      "metadata": {
        "id": "YuXiJezeHrRq"
      },
      "source": [
        "group = df.copy(deep=True)\n",
        "high = group[(group['Imbalance_level']== 'High')]\n",
        "high = high.groupby(\n",
        "   ['Sampling_method', 'Data']\n",
        ").agg(\n",
        "    {  \n",
        "         'F1': \"mean\",  \n",
        "         'AUC': 'mean',\n",
        "         'G_mean': \"mean\",  \n",
        "    }\n",
        ").round(decimals=3)\n",
        "high = high.reset_index()\n",
        "high = high.sort_values(by=['Data', 'Sampling_method'])\n",
        "high"
      ],
      "execution_count": null,
      "outputs": []
    },
    {
      "cell_type": "code",
      "metadata": {
        "id": "IbHqgvzHH6Nd"
      },
      "source": [
        "group = df.copy(deep=True)\n",
        "extreme = group[(group['Imbalance_level']== 'High')]\n",
        "extreme = extreme.groupby(\n",
        "   ['Sampling_method', 'Data']\n",
        ").agg(\n",
        "    {  \n",
        "         'F1': \"mean\",  \n",
        "         'AUC': 'mean',\n",
        "         'G_mean': \"mean\",  \n",
        "    }\n",
        ").round(decimals=3)\n",
        "extreme = extreme.reset_index()\n",
        "extreme = extreme.sort_values(by=['Data', 'Sampling_method'])\n",
        "extreme"
      ],
      "execution_count": null,
      "outputs": []
    },
    {
      "cell_type": "code",
      "metadata": {
        "id": "tnoUTZiZIIEY"
      },
      "source": [
        "group = df.copy(deep=True)\n",
        "absolute = group[(group['Imbalance_level']== 'High')]\n",
        "absolute = absolute.groupby(\n",
        "   ['Sampling_method', 'Data']\n",
        ").agg(\n",
        "    {  \n",
        "         'F1': \"mean\",  \n",
        "         'AUC': 'mean',\n",
        "         'G_mean': \"mean\",  \n",
        "    }\n",
        ").round(decimals=3)\n",
        "absolute = absolute.reset_index()\n",
        "absolute"
      ],
      "execution_count": null,
      "outputs": []
    },
    {
      "cell_type": "code",
      "metadata": {
        "id": "38g43F__EB53"
      },
      "source": [
        "df[\"Imbalance_level/ Sampling method\"] = df[\"Imbalance_level\"] + \"/\" + df[\"Sampling_method\"]\n",
        "df[\"Imbalance_level/ Sampling method\"].unique()"
      ],
      "execution_count": null,
      "outputs": []
    },
    {
      "cell_type": "code",
      "metadata": {
        "id": "v5rt-KAVArta"
      },
      "source": [
        "fig, axes = plt.subplots(1, 3, figsize=(20, 5), sharey=True)\n",
        "fig.suptitle('F1 Model Score by Data Imbalance')\n",
        "high = df[(df['Imbalance_level']== 'High')]\n",
        "extreme = df[(df['Imbalance_level']== 'Extreme')]\n",
        "absolute = df[(df['Imbalance_level']== 'Absolute')]\n",
        "sns.boxplot(ax=axes[0], x=\"Model\", y=\"F1\", data=high, palette=\"mako\")\n",
        "axes[0].set_title(\"High Imbalance\")\n",
        "sns.boxplot(ax=axes[1], x=\"Model\", y=\"F1\", data=extreme, palette=\"mako\")\n",
        "axes[1].set_title(\"Extreme Imbalance\")\n",
        "sns.boxplot(ax=axes[2], x=\"Model\", y=\"F1\", data= absolute, palette=\"mako\")\n",
        "axes[2].set_title(\"Absolute Imbalance\")"
      ],
      "execution_count": null,
      "outputs": []
    },
    {
      "cell_type": "markdown",
      "metadata": {
        "id": "Q2vkK8LtFevj"
      },
      "source": [
        ""
      ]
    },
    {
      "cell_type": "code",
      "metadata": {
        "id": "Qd-wfXJhBbWw"
      },
      "source": [
        "plt.figure(figsize=(20,4))\n",
        "sns.boxplot(x=\"Imbalance_level/ Sampling method\", y=\"F1\", data=df, palette=\"mako\")\n",
        "plt.axvline(x=3.5, ymin=0, ymax=40000, color='black')\n",
        "plt.axvline(x=7.5, ymin=0, ymax=40000, color='black')\n",
        "plt.axvline(x=11.5, ymin=0, ymax=40000, color='black')\n",
        "plt.title('F1 score per sampling method - for three imbalance levels ')"
      ],
      "execution_count": null,
      "outputs": []
    },
    {
      "cell_type": "code",
      "metadata": {
        "id": "LdBAO-7eOBBo"
      },
      "source": [
        "plt.figure(figsize=(20,4))\n",
        "sns.boxplot(x=\"Imbalance_level/ Sampling method\", y=\"AUC\", data=df, palette=\"mako\")\n",
        "plt.axvline(x=3.5, ymin=0, ymax=40000, color='black')\n",
        "plt.axvline(x=7.5, ymin=0, ymax=40000, color='black')\n",
        "plt.axvline(x=11.5, ymin=0, ymax=40000, color='black')\n",
        "plt.title('AUC score per sampling method - for three imbalance levels ')"
      ],
      "execution_count": null,
      "outputs": []
    },
    {
      "cell_type": "code",
      "metadata": {
        "id": "4rCm11AJNJh_"
      },
      "source": [
        "plt.figure(figsize=(20,4))\n",
        "sns.boxplot(x=\"Imbalance_level/ Sampling method\", y=\"G_mean\", data=df, palette=\"mako\")\n",
        "plt.axvline(x=3.5, ymin=0, ymax=40000, color='black')\n",
        "plt.axvline(x=7.5, ymin=0, ymax=40000, color='black')\n",
        "plt.axvline(x=11.5, ymin=0, ymax=40000, color='black')\n",
        "plt.title('Geometric mean score per sampling method - for three imbalance levels ')"
      ],
      "execution_count": null,
      "outputs": []
    },
    {
      "cell_type": "code",
      "metadata": {
        "id": "1U7UHHdGNS90"
      },
      "source": [
        "import multi_imbalance.resampling.mdo as sample_mdo"
      ],
      "execution_count": null,
      "outputs": []
    },
    {
      "cell_type": "code",
      "metadata": {
        "id": "ASgYOYxZEz8r"
      },
      "source": [
        " !pip install multi_imbalance"
      ],
      "execution_count": null,
      "outputs": []
    }
  ]
}