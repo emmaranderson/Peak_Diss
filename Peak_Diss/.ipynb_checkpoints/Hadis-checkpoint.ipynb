{
 "cells": [
  {
   "cell_type": "code",
   "execution_count": 3,
   "id": "53d9519a-0bc3-4443-bd7e-83e58a83778f",
   "metadata": {},
   "outputs": [],
   "source": [
    "import pandas as pd\n",
    "import numpy as np\n",
    "from copy import deepcopy\n",
    "from random import randint \n",
    "import time\n",
    "import random \n",
    "import matplotlib.pyplot as plt\n",
    "from sklearn.model_selection import train_test_split\n",
    "from sklearn.preprocessing import LabelEncoder, MinMaxScaler, StandardScaler\n",
    "from sklearn.naive_bayes import GaussianNB\n",
    "from sklearn.neighbors import KNeighborsClassifier\n",
    "from sklearn.ensemble import RandomForestClassifier\n",
    "from sklearn.cluster import KMeans\n",
    "from sklearn.metrics import silhouette_score\n",
    "from sklearn.decomposition import PCA\n",
    "from sklearn.model_selection import GridSearchCV\n",
    "from sklearn.metrics import f1_score, recall_score, precision_score, confusion_matrix, plot_confusion_matrix\n",
    "from imblearn.metrics import geometric_mean_score\n",
    "from sklearn.metrics import roc_auc_score\n",
    "from collections import Counter\n",
    "from sklearn.datasets import make_classification\n",
    "from imblearn.over_sampling import SMOTE\n",
    "from sklearn.utils import shuffle\n",
    "from sklearn import metrics"
   ]
  },
  {
   "cell_type": "code",
   "execution_count": 4,
   "id": "3d1127aa-5215-49b7-acbd-552ffbdb8be7",
   "metadata": {},
   "outputs": [],
   "source": [
    "#from orion.contrib.envs import load_env\n",
    "#load_env()\n",
    "import boto3\n",
    "#from orion.sources import S3Source\n",
    "aws_bucket = 'kilimanjaro-prod-datalake'\n",
    "s3 = boto3.client('s3')"
   ]
  },
  {
   "cell_type": "code",
   "execution_count": 5,
   "id": "5fd4f2ea-70f8-4936-aa35-1fd3c705d507",
   "metadata": {},
   "outputs": [],
   "source": [
    "import warnings\n",
    "warnings.simplefilter(action='ignore', category=FutureWarning)"
   ]
  },
  {
   "cell_type": "code",
   "execution_count": 6,
   "id": "be7d5ecc-65e7-4272-b4d5-56685b95a468",
   "metadata": {},
   "outputs": [],
   "source": [
    "object_ = 'masters/datascience/emma/retail.csv'\n",
    "retail = s3.get_object(Bucket=aws_bucket, Key=object_)\n",
    "retail = pd.read_csv(retail['Body'], index_col=0)"
   ]
  },
  {
   "cell_type": "code",
   "execution_count": 7,
   "id": "9b83a439-6ee4-4008-8128-d1a9c64f1ef1",
   "metadata": {},
   "outputs": [
    {
     "data": {
      "text/html": [
       "<div>\n",
       "<style scoped>\n",
       "    .dataframe tbody tr th:only-of-type {\n",
       "        vertical-align: middle;\n",
       "    }\n",
       "\n",
       "    .dataframe tbody tr th {\n",
       "        vertical-align: top;\n",
       "    }\n",
       "\n",
       "    .dataframe thead th {\n",
       "        text-align: right;\n",
       "    }\n",
       "</style>\n",
       "<table border=\"1\" class=\"dataframe\">\n",
       "  <thead>\n",
       "    <tr style=\"text-align: right;\">\n",
       "      <th></th>\n",
       "      <th>ASP</th>\n",
       "      <th>cluster</th>\n",
       "      <th>loyaltyaccount_No</th>\n",
       "      <th>loyaltyaccount_Yes</th>\n",
       "      <th>gender_female</th>\n",
       "      <th>gender_male</th>\n",
       "      <th>gender_unknown</th>\n",
       "      <th>shipcountry_Albania</th>\n",
       "      <th>shipcountry_Armenia</th>\n",
       "      <th>shipcountry_Australia</th>\n",
       "      <th>...</th>\n",
       "      <th>category_Childrens</th>\n",
       "      <th>category_Infant</th>\n",
       "      <th>category_Junior</th>\n",
       "      <th>category_Mens</th>\n",
       "      <th>category_Miscellaneous</th>\n",
       "      <th>category_Nursery</th>\n",
       "      <th>category_Womens</th>\n",
       "      <th>divisioncode_ACCESSORY</th>\n",
       "      <th>divisioncode_APPAREL</th>\n",
       "      <th>divisioncode_FOOTWEAR</th>\n",
       "    </tr>\n",
       "  </thead>\n",
       "  <tbody>\n",
       "    <tr>\n",
       "      <th>0</th>\n",
       "      <td>59.92</td>\n",
       "      <td>0</td>\n",
       "      <td>0</td>\n",
       "      <td>1</td>\n",
       "      <td>1</td>\n",
       "      <td>0</td>\n",
       "      <td>0</td>\n",
       "      <td>0</td>\n",
       "      <td>0</td>\n",
       "      <td>0</td>\n",
       "      <td>...</td>\n",
       "      <td>0</td>\n",
       "      <td>0</td>\n",
       "      <td>0</td>\n",
       "      <td>1</td>\n",
       "      <td>0</td>\n",
       "      <td>0</td>\n",
       "      <td>0</td>\n",
       "      <td>0</td>\n",
       "      <td>1</td>\n",
       "      <td>0</td>\n",
       "    </tr>\n",
       "  </tbody>\n",
       "</table>\n",
       "<p>1 rows × 85 columns</p>\n",
       "</div>"
      ],
      "text/plain": [
       "     ASP  cluster  loyaltyaccount_No  loyaltyaccount_Yes  gender_female  \\\n",
       "0  59.92        0                  0                   1              1   \n",
       "\n",
       "   gender_male  gender_unknown  shipcountry_Albania  shipcountry_Armenia  \\\n",
       "0            0               0                    0                    0   \n",
       "\n",
       "   shipcountry_Australia  ...  category_Childrens  category_Infant  \\\n",
       "0                      0  ...                   0                0   \n",
       "\n",
       "   category_Junior  category_Mens  category_Miscellaneous  category_Nursery  \\\n",
       "0                0              1                       0                 0   \n",
       "\n",
       "   category_Womens  divisioncode_ACCESSORY  divisioncode_APPAREL  \\\n",
       "0                0                       0                     1   \n",
       "\n",
       "   divisioncode_FOOTWEAR  \n",
       "0                      0  \n",
       "\n",
       "[1 rows x 85 columns]"
      ]
     },
     "execution_count": 7,
     "metadata": {},
     "output_type": "execute_result"
    }
   ],
   "source": [
    "retail = retail.rename(columns={'class':'cluster'})\n",
    "retail.head(1)"
   ]
  },
  {
   "cell_type": "code",
   "execution_count": 8,
   "id": "49394401-fabf-48c8-bff2-1e8e5deb34d8",
   "metadata": {},
   "outputs": [],
   "source": [
    "wine_white = pd.read_csv('winequality-white.csv', delimiter=';')\n",
    "wine_red = pd.read_csv('winequality-red.csv', delimiter=';')"
   ]
  },
  {
   "cell_type": "code",
   "execution_count": 9,
   "id": "f108e656-9516-408c-bae6-24defad0ff6b",
   "metadata": {},
   "outputs": [
    {
     "name": "stdout",
     "output_type": "stream",
     "text": [
      "0    217\n",
      "1     63\n",
      "Name: class, dtype: int64\n"
     ]
    }
   ],
   "source": [
    "# Red Wine Quality Low vs High\n",
    "WineRLvH = deepcopy(wine_red)\n",
    "WineRLvH = WineRLvH[(WineRLvH['quality'] <5)| (WineRLvH['quality'] >6)]\n",
    "WineRLvH.loc[WineRLvH.quality >= 7, \"class\"] = 0\n",
    "WineRLvH.loc[WineRLvH.quality <= 4, \"class\"] = 1\n",
    "WineRLvH['class'] = WineRLvH['class'].astype(\"int\")\n",
    "WineRLvH['class'] = WineRLvH['class'].astype(\"category\")\n",
    "WineRLvH = WineRLvH.drop(columns=['quality'])\n",
    "print(WineRLvH['class'].value_counts())\n",
    "WineRLvH.name ='D12 - Wine_red_LvH'"
   ]
  },
  {
   "cell_type": "code",
   "execution_count": 10,
   "id": "6555cfd9-0927-41f5-83d5-5021d02cd772",
   "metadata": {},
   "outputs": [
    {
     "name": "stdout",
     "output_type": "stream",
     "text": [
      "0    1060\n",
      "1     183\n",
      "Name: class, dtype: int64\n"
     ]
    }
   ],
   "source": [
    "# White Wine Quality Low vs High\n",
    "WineWLvH = deepcopy(wine_white)\n",
    "WineWLvH = WineWLvH[(WineWLvH['quality'] <5)| (WineWLvH['quality'] >6)]\n",
    "WineWLvH.loc[WineWLvH.quality >= 7, \"class\"] = 0\n",
    "WineWLvH.loc[WineWLvH.quality <= 4, \"class\"] = 1\n",
    "WineWLvH['class'] = WineWLvH['class'].astype(\"int\")\n",
    "WineWLvH['class'] = WineWLvH['class'].astype(\"category\")\n",
    "WineWLvH = WineWLvH.drop(columns=['quality'])\n",
    "print(WineWLvH['class'].value_counts())\n",
    "WineWLvH.name = 'D10 - Wine_white_LvH'"
   ]
  },
  {
   "cell_type": "code",
   "execution_count": 11,
   "id": "0176c23a-ac11-4294-9ec0-9e5cf07f430e",
   "metadata": {},
   "outputs": [
    {
     "name": "stdout",
     "output_type": "stream",
     "text": [
      "0    1935848\n",
      "1     269025\n",
      "Name: class, dtype: int64\n"
     ]
    }
   ],
   "source": [
    "# Cust Summary focusing on singular minority\n",
    "cust_sum2 = deepcopy(retail)\n",
    "cust_sum2.loc[cust_sum2.cluster ==0, \"class\"] = 0\n",
    "cust_sum2.loc[cust_sum2.cluster >= 1, \"class\"] = 1\n",
    "cust_sum2['class'] = cust_sum2['class'].astype(\"int\")\n",
    "cust_sum2['class'] = cust_sum2['class'].astype(\"category\")\n",
    "cust_sum2 = cust_sum2.drop(columns=['cluster'])\n",
    "print(cust_sum2['class'].value_counts())\n",
    "cust_sum2.name ='Retail Data -2'"
   ]
  },
  {
   "cell_type": "code",
   "execution_count": 12,
   "id": "5a0d8f45-847a-4e5b-b1d1-c9d01e4e0d43",
   "metadata": {},
   "outputs": [],
   "source": [
    "# train test/ scaling\n",
    "def data_prep (data, seed):\n",
    "  X= data.drop('class',axis=1).copy()\n",
    "  y = data['class'].copy()\n",
    "  y = y.astype('category')\n",
    "  X_train, X_test, y_train, y_test = train_test_split(X, y, test_size=0.25, random_state=seed, shuffle=y, stratify=y) # add ssed\n",
    "\n",
    "  scaler = StandardScaler()\n",
    "  scaler.fit(X_train)\n",
    "  X_train_scaled = scaler.transform(X_train)\n",
    "  X_test_scaled = scaler.transform(X_test)\n",
    "\n",
    "  X_train_scaled = pd.DataFrame(X_train_scaled, columns = X_train.columns)\n",
    "  X_test_scaled = pd.DataFrame(X_test_scaled, columns = X_test.columns)\n",
    "\n",
    "  return X_train_scaled, X_test_scaled, y_train, y_test"
   ]
  },
  {
   "cell_type": "code",
   "execution_count": 13,
   "id": "9f6b59f2-c5f7-4491-9ea9-2d4303ea2b5f",
   "metadata": {},
   "outputs": [],
   "source": [
    "def random_under_minority (data, imbalance_level, seed):\n",
    "\n",
    "  random.seed(seed)\n",
    "  \n",
    "  X_train_scaled, X_test_scaled, y_train, y_test = data_prep(data, seed)\n",
    "  y_train = y_train.reset_index(drop=True)\n",
    "  X_train_scaled['class'] = y_train\n",
    "\n",
    "  class_counts = X_train_scaled['class'].value_counts().to_frame()\n",
    "  maj_count = class_counts.iloc[0,0]\n",
    "  min_count = class_counts.iloc[1,0]\n",
    "\n",
    "  majority = X_train_scaled[(X_train_scaled['class'] == 0)]\n",
    "  minority = X_train_scaled[(X_train_scaled['class']== 1)]\n",
    "\n",
    "  if imbalance_level == 'absolute':\n",
    "    downsample = 6\n",
    "  \n",
    "  else:\n",
    "    if imbalance_level == 'high':\n",
    "      imbalance = 0.05\n",
    "      \n",
    "    elif imbalance_level == 'extreme':\n",
    "      imbalance = 0.01\n",
    "\n",
    "    downsample = (maj_count * imbalance).round().astype('int')\n",
    "    \n",
    "    if imbalance_level == 'extreme' and downsample < 8:\n",
    "      downsample = 8\n",
    " \n",
    "  if downsample >= min_count:\n",
    "    minority_sample = minority\n",
    "      \n",
    "  else:\n",
    "    minority_sample = minority.sample(n= downsample)\n",
    "\n",
    "  final = pd.concat([majority, minority_sample])\n",
    "  final = shuffle(final)\n",
    "\n",
    "  X_train_scaled = final.drop('class',axis=1).copy()\n",
    "  y_train = final['class'].copy()\n",
    "  y_train = y_train.astype('category')\n",
    "\n",
    "  X_train_scaled = X_train_scaled\n",
    "  X_test_scaled = X_test_scaled\n",
    "  y_train = y_train.reset_index(drop=True)\n",
    "  y_test = y_test.reset_index(drop=True)\n",
    "\n",
    "  return X_train_scaled, X_test_scaled, y_train, y_test"
   ]
  },
  {
   "cell_type": "code",
   "execution_count": 14,
   "id": "748fa21d-a199-4865-8d64-5aad0494f2a0",
   "metadata": {},
   "outputs": [],
   "source": [
    "X_train_scaled, X_test_scaled, y_train, y_test = random_under_minority(cust_sum2, 'high', 3)"
   ]
  },
  {
   "cell_type": "code",
   "execution_count": 26,
   "id": "1cb1d4f6-96fc-4b26-abe2-c2f9d5e158a9",
   "metadata": {},
   "outputs": [],
   "source": [
    "class SingularMatrixException(Exception):\n",
    "    def __init__(self):\n",
    "        Exception.__init__(self,\"Singular data matrix... use subspace\") \n",
    "\n",
    "class MAHAKIL(object):\n",
    "    def __init__(self, pfp=0.5):\n",
    "        self.data_t = None  # Save the initial defect sample\n",
    "        self.pfp = pfp  # Proportion of expected defect samples\n",
    "        self.T = 0  # Number of defect samples to be generated\n",
    "        self.new = []  # Store newly generated samples\n",
    "\n",
    "    # Core method\n",
    "    # return : data_new, label_new\n",
    "    def fit_sample(self, data, label):\n",
    "        \n",
    "        label = label.reset_index(drop=True)\n",
    "        data = data.reset_index(drop=True)\n",
    "        \n",
    "        label_f = np.array(label[label==0])\n",
    "        label_t = np.array(label[label==1])\n",
    "        \n",
    "        data_f = np.array(data[label==0])\n",
    "        data_t = np.array(data[label==1])\n",
    "        \n",
    "        data_t = data_t+0.00001*np.random.rand((data_t.shape)[0],(data_t.shape)[1])\n",
    "  \n",
    "        self.T = len(data_f) / (1 - self.pfp) - len(data_f)\n",
    "        self.data_t = np.array(data_t)\n",
    "        print('sorted data')\n",
    "        # Calculate the Mahalanobis distance\n",
    "        d = self.mahalanobis_distance(self.data_t)\n",
    "        \n",
    "        d = pd.DataFrame (d,columns=['Malhabonis Distance'])\n",
    "        d = d.reset_index(drop=False)\n",
    "        d = d.values.tolist()\n",
    "        \n",
    "        print('calculated distance')\n",
    "        # Descending order\n",
    "        d.sort(key=lambda x: x[1], reverse=True)\n",
    "        # Divide the set of positive examples into two\n",
    "        k = len(d)\n",
    "        d_index = [d[i][0] for i in range(k)]\n",
    "        d_index = [ int(d) for d in d_index ]\n",
    "        data_t_sorted = [data_t[i] for i in d_index]\n",
    "        mid = int(k/2)\n",
    "        bin1 = [data_t_sorted[i] for i in range(0, mid)]\n",
    "        bin2 = [data_t_sorted[i] for i in range(mid, k)]\n",
    "        # Loop iteration to generate new samples\n",
    "        l_ = len(bin1)\n",
    "        mark = [1, 3, 7, 15, 31, 63, 127, 255, 511]\n",
    "        p = self.T / l_\n",
    "        is_full = True\n",
    "        g = mark.index([m for m in mark if m > p][0]) + 1\n",
    "        cluster = 2 ** (g - 1)  # Number of children of the last generation\n",
    "        if (self.T - mark[g-2]*l_) < cluster:\n",
    "            # Explain that adding more generations is better than keeping a few\n",
    "            is_full = False\n",
    "            g -= 1\n",
    "            k = 0\n",
    "        else:\n",
    "            k = l_ - round((self.T - mark[g-2]*l_)/cluster)\n",
    "        self.generate_new_sample(bin1, bin2, g, l_, k, is_full)\n",
    "        # Return data and labels\n",
    "        label_new = np.ones(len(self.new))\n",
    "        print(type(data))\n",
    "        return np.append(data, self.new, axis=0), np.append(label, label_new, axis=0)\n",
    "\n",
    "    def mahalanobis_distance(self, x):\n",
    "        x_mu = x - np.mean(x)\n",
    "        cov = np.cov(x.T)\n",
    "        inv_covmat = np.linalg.inv(cov)\n",
    "        left = np.dot(x_mu, inv_covmat)\n",
    "        mahal = np.dot(left, x_mu.T).diagonal()\n",
    "        return mahal\n",
    "\n",
    "\n",
    "    # Generate new samples\n",
    "    def generate_new_sample(self, bin1, bin2, g, l, k, is_full):\n",
    "        # bin1, bin2 are arrays\n",
    "        # g Hereditary remaining algebra\n",
    "        # l bin1 number of items\n",
    "        # k The number of each node to be cropped in the last generation\n",
    "        # is_full whether it overflows, that is, the last generation is counted, whether it exceeds T, or is not full\n",
    "        assert len(bin1) <= len(bin2)\n",
    "        if g >= 2 or (g == 1 and is_full is False):\n",
    "            print('reached')\n",
    "            lv_0 = []  # Offspring\n",
    "            for i in range(l):\n",
    "                # Generate children\n",
    "                lv_0.append(np.mean(np.append(np.atleast_2d(bin1[i]), np.atleast_2d(bin2[i]), axis=0), axis=0))\n",
    "            self.new.extend(lv_0)\n",
    "            self.generate_new_sample(lv_0, bin1, g-1, l, k, is_full)\n",
    "            self.generate_new_sample(lv_0, bin2, g-1, l, k, is_full)\n",
    "        if g == 1 and is_full:\n",
    "            lv_0 = []  # Offspring\n",
    "            for i in range(l):\n",
    "                # Generate children\n",
    "                lv_0.append(np.mean(np.append(np.atleast_2d(bin1[i]), np.atleast_2d(bin2[i]), axis=0), axis=0))\n",
    "            del lv_0[-1: (-k-1): -1]\n",
    "            self.new.extend(lv_0)"
   ]
  },
  {
   "cell_type": "code",
   "execution_count": 33,
   "id": "613eacee-5591-46dd-bb8a-a1d145863bcd",
   "metadata": {},
   "outputs": [],
   "source": [
    "X_train_scaled, X_test_scaled, y_train, y_test = random_under_minority(cust_sum2, 'high', 3)"
   ]
  },
  {
   "cell_type": "code",
   "execution_count": 34,
   "id": "5e39b793-b367-4b71-bb56-1c697eaaf180",
   "metadata": {},
   "outputs": [],
   "source": [
    "mk = MAHAKIL(pfp=0.5)"
   ]
  },
  {
   "cell_type": "code",
   "execution_count": 35,
   "id": "f56c1c70-4d2b-45c9-af74-fbc2e754f9cc",
   "metadata": {},
   "outputs": [
    {
     "name": "stdout",
     "output_type": "stream",
     "text": [
      "sorted data\n",
      "calculated distance\n",
      "reached\n",
      "reached\n",
      "reached\n",
      "reached\n",
      "reached\n",
      "reached\n",
      "reached\n",
      "reached\n",
      "reached\n",
      "reached\n",
      "reached\n",
      "reached\n",
      "reached\n",
      "reached\n",
      "reached\n",
      "reached\n",
      "reached\n",
      "reached\n",
      "reached\n",
      "reached\n",
      "reached\n",
      "reached\n",
      "reached\n",
      "reached\n",
      "reached\n",
      "reached\n",
      "reached\n",
      "reached\n",
      "reached\n",
      "reached\n",
      "reached\n",
      "<class 'pandas.core.frame.DataFrame'>\n"
     ]
    }
   ],
   "source": [
    "X_train_scaled, y_train = mk.fit_sample(X_train_scaled, y_train)"
   ]
  },
  {
   "cell_type": "code",
   "execution_count": 13,
   "id": "c2bfedc7-fbc7-44b0-aef5-384cf865b0d6",
   "metadata": {},
   "outputs": [],
   "source": [
    "y_train = y_train.reset_index(drop=True)\n",
    "X_train_scaled = X_train_scaled.reset_index(drop=True)"
   ]
  },
  {
   "cell_type": "code",
   "execution_count": 14,
   "id": "6cd59987-7e4c-44bc-accc-6e748279030d",
   "metadata": {},
   "outputs": [],
   "source": [
    "label_f = np.array(y_train[y_train==0])\n",
    "label_t = np.array(y_train[y_train==1])"
   ]
  },
  {
   "cell_type": "code",
   "execution_count": 15,
   "id": "4883f652-8a81-425b-9215-952e498f54f9",
   "metadata": {},
   "outputs": [],
   "source": [
    "data_f = np.array(X_train_scaled[y_train==0])\n",
    "data_t = np.array(X_train_scaled[y_train==1])"
   ]
  },
  {
   "cell_type": "code",
   "execution_count": 16,
   "id": "297af9f4-26b7-43aa-8a73-bf3cdf69f2d0",
   "metadata": {},
   "outputs": [],
   "source": [
    "data_t = data_t+0.00001*np.random.rand((data_t.shape)[0],(data_t.shape)[1])"
   ]
  },
  {
   "cell_type": "code",
   "execution_count": 17,
   "id": "2413e89c-4d9d-47d9-acaf-66299d2712ac",
   "metadata": {},
   "outputs": [],
   "source": [
    "x_mu = data_t - np.mean(data_t)\n",
    "cov = np.cov(data_t.T)\n",
    "inv_covmat = np.linalg.inv(cov)\n",
    "left = np.dot(x_mu, inv_covmat)\n",
    "mahal = np.dot(left, x_mu.T).diagonal()"
   ]
  },
  {
   "cell_type": "code",
   "execution_count": 26,
   "id": "0758be83-4cca-4494-92e5-8eef4384af37",
   "metadata": {},
   "outputs": [
    {
     "ename": "NameError",
     "evalue": "name 'mahal' is not defined",
     "output_type": "error",
     "traceback": [
      "\u001b[0;31m---------------------------------------------------------------------------\u001b[0m",
      "\u001b[0;31mNameError\u001b[0m                                 Traceback (most recent call last)",
      "\u001b[0;32m<ipython-input-26-aaa44c9d1434>\u001b[0m in \u001b[0;36m<module>\u001b[0;34m\u001b[0m\n\u001b[0;32m----> 1\u001b[0;31m \u001b[0md\u001b[0m\u001b[0;34m=\u001b[0m \u001b[0mmahal\u001b[0m\u001b[0;34m\u001b[0m\u001b[0;34m\u001b[0m\u001b[0m\n\u001b[0m",
      "\u001b[0;31mNameError\u001b[0m: name 'mahal' is not defined"
     ]
    }
   ],
   "source": [
    "d= mahal"
   ]
  },
  {
   "cell_type": "code",
   "execution_count": null,
   "id": "68b90e8c-3880-4091-9dc6-3aa0ec763763",
   "metadata": {},
   "outputs": [],
   "source": [
    "d = pd.DataFrame (mahal,columns=['Malhabonis Distance'])\n",
    "d = d.reset_index(drop=False)\n",
    "d = d.values.tolist()"
   ]
  },
  {
   "cell_type": "code",
   "execution_count": 21,
   "id": "a5dfac67-471c-44da-b852-4c1af001ab02",
   "metadata": {},
   "outputs": [],
   "source": [
    "md.sort(key=lambda x: x[1], reverse=True)"
   ]
  },
  {
   "cell_type": "code",
   "execution_count": 22,
   "id": "fbec89c0-78f9-4c56-be40-8fcfd90f331c",
   "metadata": {},
   "outputs": [],
   "source": [
    "d=md"
   ]
  },
  {
   "cell_type": "code",
   "execution_count": 24,
   "id": "ac8e581d-9381-4161-8c9b-21f9ec77e0ad",
   "metadata": {},
   "outputs": [
    {
     "data": {
      "text/plain": [
       "72594"
      ]
     },
     "execution_count": 24,
     "metadata": {},
     "output_type": "execute_result"
    }
   ],
   "source": [
    "k = len(d)\n",
    "k"
   ]
  },
  {
   "cell_type": "code",
   "execution_count": 26,
   "id": "72a05daa-14bd-48c1-b996-607a6fac634e",
   "metadata": {},
   "outputs": [],
   "source": [
    "d_index = [d[i][0] for i in range(k)]"
   ]
  },
  {
   "cell_type": "code",
   "execution_count": 27,
   "id": "d1446134-18f4-4dbb-badb-d6d553620533",
   "metadata": {},
   "outputs": [],
   "source": [
    "d_index = [ int(d) for d in d_index ]"
   ]
  },
  {
   "cell_type": "code",
   "execution_count": 28,
   "id": "aadc6f1d-ab96-4040-995f-13a3ee70697a",
   "metadata": {},
   "outputs": [],
   "source": [
    "data_t_sorted = [data_t[i] for i in d_index]"
   ]
  },
  {
   "cell_type": "code",
   "execution_count": 25,
   "id": "225cd57f-df31-4a7e-b0fc-d05b2d29b309",
   "metadata": {},
   "outputs": [],
   "source": [
    "mid = int(k/2)"
   ]
  },
  {
   "cell_type": "code",
   "execution_count": 29,
   "id": "fc4119e1-47ed-43b2-9c24-15f9bb0a2308",
   "metadata": {},
   "outputs": [],
   "source": [
    "bin1 = [data_t_sorted[i] for i in range(0, mid)]\n",
    "bin2 = [data_t_sorted[i] for i in range(mid, k)]"
   ]
  },
  {
   "cell_type": "code",
   "execution_count": 148,
   "id": "d3e8b783-492d-4851-ad07-a5e6e5095abd",
   "metadata": {},
   "outputs": [],
   "source": [
    "k = len(d)\n",
    "d_index = [d[i][0] for i in range(k)]\n",
    "d_index = [ int(d) for d in d_index ]\n",
    "data_t_sorted = [data_t[i] for i in d_index]\n",
    "mid = int(k/2)\n",
    "bin1 = [data_t_sorted[i] for i in range(0, mid)]\n",
    "bin2 = [data_t_sorted[i] for i in range(mid, k)]"
   ]
  },
  {
   "cell_type": "code",
   "execution_count": 122,
   "id": "8a1b7fa9-7099-42d7-991a-8af6d0d98628",
   "metadata": {},
   "outputs": [],
   "source": [
    "def fit_sample(data, label):\n",
    "        # data: sample array containing metric information\n",
    "        # label: sample label array\n",
    "        data_t, data_f, label_t, label_f = [], [], [], []\n",
    "        # Divide the data set according to positive examples and negative examples\n",
    "        for i in range(label.shape[0]):\n",
    "            if label[i] == 1:\n",
    "                data_t.append(data[i])\n",
    "                label_t.append(label[i])\n",
    "            if label[i] == 0:\n",
    "                data_f.append(data[i])\n",
    "                label_f.append(label[i])\n",
    "        data_t = np.array(data_t)\n",
    "        print('sorted data')\n",
    "        # Calculate the Mahalanobis distance\n",
    "        d = mahalanobis_distance(data_t)\n",
    "        print(d)\n",
    "        print('calculated distance')\n",
    "        print(type(d))\n",
    "        # Descending order\n",
    "        d.sort(key=lambda x: x[1], reverse=True)\n",
    "        print(d)\n",
    "        print(type(data_t))\n",
    "        "
   ]
  },
  {
   "cell_type": "code",
   "execution_count": 127,
   "id": "8d00e725-1c4d-4054-acc0-da5915d5905d",
   "metadata": {},
   "outputs": [],
   "source": [
    "X_train_scaledw, X_test_scaledw, y_trainw, y_testw = random_under_minority(WineRLvH, 'high', 3)"
   ]
  },
  {
   "cell_type": "code",
   "execution_count": 128,
   "id": "e9742494-9746-487b-bfe6-ba89f3255118",
   "metadata": {},
   "outputs": [],
   "source": [
    "X_train_scaledw = X_train_scaledw.values\n",
    "y_trainw = y_trainw.values"
   ]
  },
  {
   "cell_type": "code",
   "execution_count": 132,
   "id": "87eb5526-deb1-4d8f-a9f7-48d42faa605b",
   "metadata": {},
   "outputs": [
    {
     "name": "stdout",
     "output_type": "stream",
     "text": [
      "sorted data\n",
      "[(0, 2.6809826641406698), (1, 0.8095923412214483), (2, 1.2052161935969954), (3, 0.9058553549091795), (4, 1.1019685282270388), (5, 0.9408875271837776), (6, 0.8884113402518116), (7, 0.7949815004522905)]\n",
      "calculated distance\n",
      "<class 'list'>\n",
      "[(0, 2.6809826641406698), (2, 1.2052161935969954), (4, 1.1019685282270388), (5, 0.9408875271837776), (3, 0.9058553549091795), (6, 0.8884113402518116), (1, 0.8095923412214483), (7, 0.7949815004522905)]\n",
      "<class 'numpy.ndarray'>\n"
     ]
    }
   ],
   "source": [
    "d = fit_sample(X_train_scaledw, y_trainw )"
   ]
  },
  {
   "cell_type": "code",
   "execution_count": 130,
   "id": "172380a5-b02e-45a9-8219-e942dc81c471",
   "metadata": {},
   "outputs": [],
   "source": [
    "def mahalanobis_distance(x):\n",
    "        # x: array\n",
    "        mu = np.mean(x, axis=0)  # Mean\n",
    "        d = []\n",
    "        for i in range(x.shape[0]):\n",
    "            x_mu = np.atleast_2d(x[i] - mu)\n",
    "            s = cov(x)\n",
    "            d_squre = np.dot(np.dot(x_mu, np.linalg.inv(s)), np.transpose(x_mu))[0][0]\n",
    "            d_tuple = (i, d_squre)\n",
    "            d.append(d_tuple)\n",
    "        return d\n"
   ]
  },
  {
   "cell_type": "code",
   "execution_count": 131,
   "id": "543ab96d-7061-42ba-b3db-9cbca403a82b",
   "metadata": {},
   "outputs": [],
   "source": [
    "\n",
    "    def cov(x):\n",
    "        # x: array\n",
    "        s = np.zeros((x.shape[1], x.shape[1]))\n",
    "        mu = np.mean(x, axis=0)  # Mean\n",
    "        for i in range(x.shape[0]):\n",
    "            x_xbr = np.atleast_2d(x - mu)\n",
    "            s_i = np.dot(np.transpose(x_xbr), x_xbr)\n",
    "            s = s + s_i\n",
    "        return np.divide(s, x.shape[0])"
   ]
  },
  {
   "cell_type": "code",
   "execution_count": null,
   "id": "0d9f9969-1fc8-4241-8b3c-4c9d795e69f2",
   "metadata": {},
   "outputs": [],
   "source": []
  }
 ],
 "metadata": {
  "kernelspec": {
   "display_name": "Python 3",
   "language": "python",
   "name": "python3"
  },
  "language_info": {
   "codemirror_mode": {
    "name": "ipython",
    "version": 3
   },
   "file_extension": ".py",
   "mimetype": "text/x-python",
   "name": "python",
   "nbconvert_exporter": "python",
   "pygments_lexer": "ipython3",
   "version": "3.8.10"
  }
 },
 "nbformat": 4,
 "nbformat_minor": 5
}
