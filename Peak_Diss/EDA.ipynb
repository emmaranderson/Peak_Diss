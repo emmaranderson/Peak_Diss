{
 "cells": [
  {
   "cell_type": "code",
   "execution_count": 2,
   "id": "14655e56-13d1-474e-9a6a-d8955d85a98c",
   "metadata": {},
   "outputs": [],
   "source": [
    "import pandas as pd\n",
    "import numpy as np\n",
    "from datetime import datetime as dt\n",
    "from copy import deepcopy\n",
    "import random\n",
    "import matplotlib.pyplot as plt\n",
    "import seaborn as sns\n",
    "import calendar\n",
    "#from orion.contrib.envs import load_env\n",
    "#load_env()\n",
    "import boto3\n",
    "#from orion.sources import S3Source\n",
    "aws_bucket = 'kilimanjaro-prod-datalake'\n",
    "s3 = boto3.client('s3')"
   ]
  },
  {
   "cell_type": "code",
   "execution_count": 3,
   "id": "f8f0ca29-bc1d-47f0-b230-4791441ec227",
   "metadata": {},
   "outputs": [
    {
     "data": {
      "text/html": [
       "<div>\n",
       "<style scoped>\n",
       "    .dataframe tbody tr th:only-of-type {\n",
       "        vertical-align: middle;\n",
       "    }\n",
       "\n",
       "    .dataframe tbody tr th {\n",
       "        vertical-align: top;\n",
       "    }\n",
       "\n",
       "    .dataframe thead th {\n",
       "        text-align: right;\n",
       "    }\n",
       "</style>\n",
       "<table border=\"1\" class=\"dataframe\">\n",
       "  <thead>\n",
       "    <tr style=\"text-align: right;\">\n",
       "      <th></th>\n",
       "      <th>Unnamed: 0</th>\n",
       "      <th>orderdate</th>\n",
       "      <th>customerkey</th>\n",
       "      <th>unitssold</th>\n",
       "      <th>grosssales</th>\n",
       "    </tr>\n",
       "  </thead>\n",
       "  <tbody>\n",
       "    <tr>\n",
       "      <th>0</th>\n",
       "      <td>0</td>\n",
       "      <td>2015-07-01</td>\n",
       "      <td>1355</td>\n",
       "      <td>3688</td>\n",
       "      <td>128550.58</td>\n",
       "    </tr>\n",
       "    <tr>\n",
       "      <th>1</th>\n",
       "      <td>1</td>\n",
       "      <td>2015-07-02</td>\n",
       "      <td>1742</td>\n",
       "      <td>5177</td>\n",
       "      <td>162852.24</td>\n",
       "    </tr>\n",
       "    <tr>\n",
       "      <th>2</th>\n",
       "      <td>2</td>\n",
       "      <td>2015-07-03</td>\n",
       "      <td>1271</td>\n",
       "      <td>3618</td>\n",
       "      <td>115651.29</td>\n",
       "    </tr>\n",
       "    <tr>\n",
       "      <th>3</th>\n",
       "      <td>3</td>\n",
       "      <td>2015-07-04</td>\n",
       "      <td>1302</td>\n",
       "      <td>3304</td>\n",
       "      <td>113969.56</td>\n",
       "    </tr>\n",
       "    <tr>\n",
       "      <th>4</th>\n",
       "      <td>4</td>\n",
       "      <td>2015-07-05</td>\n",
       "      <td>1845</td>\n",
       "      <td>5192</td>\n",
       "      <td>171758.21</td>\n",
       "    </tr>\n",
       "  </tbody>\n",
       "</table>\n",
       "</div>"
      ],
      "text/plain": [
       "   Unnamed: 0   orderdate  customerkey  unitssold  grosssales\n",
       "0           0  2015-07-01         1355       3688   128550.58\n",
       "1           1  2015-07-02         1742       5177   162852.24\n",
       "2           2  2015-07-03         1271       3618   115651.29\n",
       "3           3  2015-07-04         1302       3304   113969.56\n",
       "4           4  2015-07-05         1845       5192   171758.21"
      ]
     },
     "execution_count": 3,
     "metadata": {},
     "output_type": "execute_result"
    }
   ],
   "source": [
    "time = pd.read_csv('transaction_time.csv')\n",
    "time.head()"
   ]
  },
  {
   "cell_type": "code",
   "execution_count": 4,
   "id": "a2070040-3505-4404-ac05-e981c5c8a089",
   "metadata": {},
   "outputs": [],
   "source": [
    "time['orderdate'] = pd.to_datetime(time['orderdate'], errors='coerce')\n",
    "time['year'] = time['orderdate'].dt.year\n",
    "time['month'] = time['orderdate'].dt.month\n",
    "time['dayofweek'] = time['orderdate'].dt.dayofweek"
   ]
  },
  {
   "cell_type": "code",
   "execution_count": 5,
   "id": "8219af49-c852-4521-afd6-929b078b7e74",
   "metadata": {},
   "outputs": [
    {
     "ename": "NameError",
     "evalue": "name 'tips' is not defined",
     "output_type": "error",
     "traceback": [
      "\u001b[0;31m---------------------------------------------------------------------------\u001b[0m",
      "\u001b[0;31mNameError\u001b[0m                                 Traceback (most recent call last)",
      "\u001b[0;32m<ipython-input-5-e6f69ab92e6b>\u001b[0m in \u001b[0;36m<module>\u001b[0;34m\u001b[0m\n\u001b[0;32m----> 1\u001b[0;31m ax = sns.violinplot(x=\"time\", y=\"tip\", data=tips,\n\u001b[0m\u001b[1;32m      2\u001b[0m                     order=[\"Dinner\", \"Lunch\"])\n",
      "\u001b[0;31mNameError\u001b[0m: name 'tips' is not defined"
     ]
    }
   ],
   "source": [
    "ax = sns.violinplot(x=\"time\", y=\"tip\", data=tips,\n",
    "                    order=[\"Dinner\", \"Lunch\"])"
   ]
  },
  {
   "cell_type": "code",
   "execution_count": 6,
   "id": "390f5fd7-4f9e-42ee-9388-0ad3e517de07",
   "metadata": {},
   "outputs": [
    {
     "data": {
      "text/plain": [
       "<matplotlib.legend.Legend at 0x7fed2a783910>"
      ]
     },
     "execution_count": 6,
     "metadata": {},
     "output_type": "execute_result"
    },
    {
     "data": {
      "image/png": "[encoded data removed]",
      "text/plain": [
       "<Figure size 432x288 with 1 Axes>"
      ]
     },
     "metadata": {
      "needs_background": "light"
     },
     "output_type": "display_data"
    }
   ],
   "source": [
    "DayofWeek = time[[\"grosssales\", \"dayofweek\"]]\n",
    "DayofWeek = DayofWeek.groupby('dayofweek').mean()\n",
    "DayofWeek=DayofWeek.reset_index()\n",
    "DayofWeek[\"dayofweek\"]=DayofWeek[\"dayofweek\"].replace({0: 'Mon', 1: 'Tue', 2: 'Weds', 3: 'Thur', 4:'Fri', 5:'Sat',6:'Sun'})\n",
    "DayofWeek[\"dayofweek\"] = pd.Categorical(DayofWeek.dayofweek, ordered=True)\n",
    "dayplot = DayofWeek.plot.bar(x='dayofweek', y='grosssales', rot=0, color='teal')\n",
    "plt.legend(loc=\"upper center\", bbox_to_anchor=(0.5, 1.15))"
   ]
  },
  {
   "cell_type": "code",
   "execution_count": 7,
   "id": "802a1c79-5d8f-48fa-8c41-a6b8d74618ff",
   "metadata": {},
   "outputs": [
    {
     "data": {
      "image/png": "[encoded data removed]",
      "text/plain": [
       "<Figure size 432x288 with 1 Axes>"
      ]
     },
     "metadata": {
      "needs_background": "light"
     },
     "output_type": "display_data"
    }
   ],
   "source": [
    "Month = time[[\"grosssales\", \"month\"]]\n",
    "Month = Month.groupby('month').mean()\n",
    "Month= Month.reset_index()\n",
    "Month['month']=Month['month'].replace({1: 'Jan', 2: 'Feb', 3: 'Mar', 4: 'Apr', 5:'May',6:'Jun',7:'Jul',8:'Aug',9:'Sep',10:'Oct',11:'Nov',12:'Dec'})\n",
    "Monthplot = Month.plot.bar(x='month', y='grosssales', rot=0, color='teal')"
   ]
  },
  {
   "cell_type": "code",
   "execution_count": 8,
   "id": "53b60d5f-bf79-491a-9d7b-64dcd46047d8",
   "metadata": {},
   "outputs": [
    {
     "data": {
      "text/plain": [
       "Text(0, 0.5, 'Mean Sales')"
      ]
     },
     "execution_count": 8,
     "metadata": {},
     "output_type": "execute_result"
    },
    {
     "data": {
      "image/png": "[encoded data removed]",
      "text/plain": [
       "<Figure size 432x288 with 1 Axes>"
      ]
     },
     "metadata": {
      "needs_background": "light"
     },
     "output_type": "display_data"
    }
   ],
   "source": [
    "Year = time[[\"grosssales\", \"year\"]]\n",
    "Year = Year.groupby('year').mean()\n",
    "Year= Year.reset_index()\n",
    "Yearplot = Year.plot.bar(x='year', y='grosssales', rot=0, color='teal')\n",
    "plt.ylabel('Mean Sales')"
   ]
  },
  {
   "cell_type": "code",
   "execution_count": 9,
   "id": "742ed3ab-255d-4820-a08a-9883e78a2831",
   "metadata": {},
   "outputs": [],
   "source": [
    "#### bring in time"
   ]
  },
  {
   "cell_type": "code",
   "execution_count": 10,
   "id": "ca607168-3ac9-47c6-ab99-c1e95a90b2d0",
   "metadata": {},
   "outputs": [
    {
     "data": {
      "text/html": [
       "<div>\n",
       "<style scoped>\n",
       "    .dataframe tbody tr th:only-of-type {\n",
       "        vertical-align: middle;\n",
       "    }\n",
       "\n",
       "    .dataframe tbody tr th {\n",
       "        vertical-align: top;\n",
       "    }\n",
       "\n",
       "    .dataframe thead th {\n",
       "        text-align: right;\n",
       "    }\n",
       "</style>\n",
       "<table border=\"1\" class=\"dataframe\">\n",
       "  <thead>\n",
       "    <tr style=\"text-align: right;\">\n",
       "      <th></th>\n",
       "      <th>Unnamed: 0</th>\n",
       "      <th>customerkey</th>\n",
       "      <th>orders</th>\n",
       "      <th>unitssold</th>\n",
       "      <th>grosssales</th>\n",
       "      <th>gsales_perunit</th>\n",
       "      <th>loyaltyaccount</th>\n",
       "      <th>gender</th>\n",
       "    </tr>\n",
       "  </thead>\n",
       "  <tbody>\n",
       "    <tr>\n",
       "      <th>0</th>\n",
       "      <td>3</td>\n",
       "      <td>3ebe433c81198a609bc5149c75475076bab5bdac</td>\n",
       "      <td>40</td>\n",
       "      <td>234</td>\n",
       "      <td>3687.13</td>\n",
       "      <td>18.02</td>\n",
       "      <td>Yes</td>\n",
       "      <td>male</td>\n",
       "    </tr>\n",
       "    <tr>\n",
       "      <th>1</th>\n",
       "      <td>5</td>\n",
       "      <td>f91a83c41bc2e316c74fe6714cb75a1aba4eed85</td>\n",
       "      <td>35</td>\n",
       "      <td>145</td>\n",
       "      <td>5612.27</td>\n",
       "      <td>39.04</td>\n",
       "      <td>Yes</td>\n",
       "      <td>male</td>\n",
       "    </tr>\n",
       "    <tr>\n",
       "      <th>2</th>\n",
       "      <td>7</td>\n",
       "      <td>649cca818138ed8152825855e0538ed7360bd55a</td>\n",
       "      <td>31</td>\n",
       "      <td>98</td>\n",
       "      <td>4037.72</td>\n",
       "      <td>43.12</td>\n",
       "      <td>Yes</td>\n",
       "      <td>female</td>\n",
       "    </tr>\n",
       "    <tr>\n",
       "      <th>3</th>\n",
       "      <td>8</td>\n",
       "      <td>ee823deafb4564bea9acc70453b975dd58cfa282</td>\n",
       "      <td>31</td>\n",
       "      <td>87</td>\n",
       "      <td>4716.21</td>\n",
       "      <td>59.20</td>\n",
       "      <td>Yes</td>\n",
       "      <td>male</td>\n",
       "    </tr>\n",
       "    <tr>\n",
       "      <th>4</th>\n",
       "      <td>10</td>\n",
       "      <td>35d17f77612459a698d0179b7525c6eedacc6fd6</td>\n",
       "      <td>25</td>\n",
       "      <td>52</td>\n",
       "      <td>2463.30</td>\n",
       "      <td>53.33</td>\n",
       "      <td>Yes</td>\n",
       "      <td>female</td>\n",
       "    </tr>\n",
       "  </tbody>\n",
       "</table>\n",
       "</div>"
      ],
      "text/plain": [
       "   Unnamed: 0                               customerkey  orders  unitssold  \\\n",
       "0           3  3ebe433c81198a609bc5149c75475076bab5bdac      40        234   \n",
       "1           5  f91a83c41bc2e316c74fe6714cb75a1aba4eed85      35        145   \n",
       "2           7  649cca818138ed8152825855e0538ed7360bd55a      31         98   \n",
       "3           8  ee823deafb4564bea9acc70453b975dd58cfa282      31         87   \n",
       "4          10  35d17f77612459a698d0179b7525c6eedacc6fd6      25         52   \n",
       "\n",
       "   grosssales  gsales_perunit loyaltyaccount  gender  \n",
       "0     3687.13           18.02            Yes    male  \n",
       "1     5612.27           39.04            Yes    male  \n",
       "2     4037.72           43.12            Yes  female  \n",
       "3     4716.21           59.20            Yes    male  \n",
       "4     2463.30           53.33            Yes  female  "
      ]
     },
     "execution_count": 10,
     "metadata": {},
     "output_type": "execute_result"
    }
   ],
   "source": [
    "cust = pd.read_csv('Cust_freq_full.csv')\n",
    "cust.head()"
   ]
  },
  {
   "cell_type": "code",
   "execution_count": 11,
   "id": "838c4a60-a857-40c1-8030-20005c3f267c",
   "metadata": {},
   "outputs": [
    {
     "data": {
      "text/plain": [
       "female     124315\n",
       "male       116285\n",
       "unknown       206\n",
       "Name: gender, dtype: int64"
      ]
     },
     "execution_count": 11,
     "metadata": {},
     "output_type": "execute_result"
    }
   ],
   "source": [
    "cust['gender'].value_counts()"
   ]
  },
  {
   "cell_type": "code",
   "execution_count": 20,
   "id": "79a1ccc7-2d3f-4c3e-9b79-38709863e8db",
   "metadata": {},
   "outputs": [
    {
     "data": {
      "text/plain": [
       "<matplotlib.legend.Legend at 0x7fecc8716940>"
      ]
     },
     "execution_count": 20,
     "metadata": {},
     "output_type": "execute_result"
    },
    {
     "data": {
      "image/png": "[encoded data removed]",
      "text/plain": [
       "<Figure size 432x288 with 1 Axes>"
      ]
     },
     "metadata": {
      "needs_background": "light"
     },
     "output_type": "display_data"
    }
   ],
   "source": [
    "gend = cust[[\"orders\", \"gender\"]]\n",
    "gend = gend.groupby('gender').mean()\n",
    "gend= gend.reset_index()\n",
    "gend = gend.plot.bar(x='gender', y='orders', rot=0, color='teal')\n",
    "plt.legend(loc=\"upper center\", bbox_to_anchor=(0.5, 1.15))"
   ]
  },
  {
   "cell_type": "code",
   "execution_count": 21,
   "id": "8d70ace4-960e-4fdb-9567-a7ecdda62c9f",
   "metadata": {},
   "outputs": [
    {
     "data": {
      "text/plain": [
       "<AxesSubplot:xlabel='gender', ylabel='orders'>"
      ]
     },
     "execution_count": 21,
     "metadata": {},
     "output_type": "execute_result"
    },
    {
     "data": {
      "image/png": "[encoded data removed]",
      "text/plain": [
       "<Figure size 432x720 with 1 Axes>"
      ]
     },
     "metadata": {
      "needs_background": "light"
     },
     "output_type": "display_data"
    }
   ],
   "source": [
    "plt.figure(figsize=(6,10))\n",
    "gender = cust[[\"orders\", \"gender\"]]\n",
    "sns.boxplot(x=\"gender\", y=\"orders\", data=gender, palette=\"mako\")"
   ]
  },
  {
   "cell_type": "code",
   "execution_count": 22,
   "id": "4de2905e-1a7f-4110-afa6-224f8100a71b",
   "metadata": {},
   "outputs": [
    {
     "data": {
      "text/plain": [
       "<matplotlib.legend.Legend at 0x7fecc85759a0>"
      ]
     },
     "execution_count": 22,
     "metadata": {},
     "output_type": "execute_result"
    },
    {
     "data": {
      "image/png": "[encoded data removed]",
      "text/plain": [
       "<Figure size 432x288 with 1 Axes>"
      ]
     },
     "metadata": {
      "needs_background": "light"
     },
     "output_type": "display_data"
    }
   ],
   "source": [
    "loyal = cust[[\"grosssales\", \"loyaltyaccount\"]]\n",
    "loyal = loyal.groupby('loyaltyaccount').mean()\n",
    "loyal= loyal.reset_index()\n",
    "loyal = loyal.plot.bar(x='loyaltyaccount', y='grosssales', rot=0, color='teal')\n",
    "plt.legend(loc=\"upper center\", bbox_to_anchor=(0.5, 1.15))"
   ]
  },
  {
   "cell_type": "code",
   "execution_count": 15,
   "id": "f43cdefd-8cac-4605-8fc4-7dca53685b89",
   "metadata": {},
   "outputs": [
    {
     "data": {
      "text/plain": [
       "<matplotlib.legend.Legend at 0x7fecc8bc38b0>"
      ]
     },
     "execution_count": 15,
     "metadata": {},
     "output_type": "execute_result"
    },
    {
     "data": {
      "image/png": "[encoded data removed]",
      "text/plain": [
       "<Figure size 432x288 with 1 Axes>"
      ]
     },
     "metadata": {
      "needs_background": "light"
     },
     "output_type": "display_data"
    }
   ],
   "source": [
    "gendf = cust[[\"orders\", \"gender\"]]\n",
    "gendf = gendf.groupby('gender').mean()\n",
    "gendf= gendf.reset_index()\n",
    "gendf = gendf.plot.bar(x='gender', y='orders', rot=0, color='teal')\n",
    "plt.legend(loc=\"upper center\", bbox_to_anchor=(0.5, 1.15))"
   ]
  },
  {
   "cell_type": "code",
   "execution_count": null,
   "id": "d0f97b8a-8469-4e8c-8d17-d1839be798dd",
   "metadata": {},
   "outputs": [],
   "source": [
    "gross_sales = orders.grosssales.values\n",
    "ax = sns.histplot(gross_sales, stat=\"density\", binwidth=100, kde=True)\n",
    "plt.title('Histogram showing distribution of gross sales per order')\n",
    "plt.show()"
   ]
  },
  {
   "cell_type": "code",
   "execution_count": 16,
   "id": "14633691-ffae-42ab-8eb0-57d46e819ac4",
   "metadata": {},
   "outputs": [
    {
     "data": {
      "text/plain": [
       "<matplotlib.legend.Legend at 0x7fecc882f520>"
      ]
     },
     "execution_count": 16,
     "metadata": {},
     "output_type": "execute_result"
    },
    {
     "data": {
      "image/png": "[encoded data removed]",
      "text/plain": [
       "<Figure size 432x288 with 1 Axes>"
      ]
     },
     "metadata": {
      "needs_background": "light"
     },
     "output_type": "display_data"
    }
   ],
   "source": [
    "loyalf = cust[[\"orders\", \"loyaltyaccount\"]]\n",
    "loyalf = loyalf.groupby('loyaltyaccount').mean()\n",
    "loyalf= loyalf.reset_index()\n",
    "loyalf = loyalf.plot.bar(x='loyaltyaccount', y='orders', rot=0, color='teal')\n",
    "plt.legend(loc=\"upper center\", bbox_to_anchor=(0.5, 1.15))"
   ]
  },
  {
   "cell_type": "code",
   "execution_count": 18,
   "id": "174f2109-6bba-4ce3-ac26-9d667786841b",
   "metadata": {},
   "outputs": [
    {
     "data": {
      "text/plain": [
       "<AxesSubplot:xlabel='loyaltyaccount', ylabel='orders'>"
      ]
     },
     "execution_count": 18,
     "metadata": {},
     "output_type": "execute_result"
    },
    {
     "data": {
      "image/png": "[encoded data removed]",
      "text/plain": [
       "<Figure size 432x720 with 1 Axes>"
      ]
     },
     "metadata": {
      "needs_background": "light"
     },
     "output_type": "display_data"
    }
   ],
   "source": [
    "plt.figure(figsize=(6,10))\n",
    "loyalf = cust[[\"orders\", \"loyaltyaccount\"]]\n",
    "sns.boxplot(x=\"loyaltyaccount\", y=\"orders\", data=loyalf, palette=\"mako\")"
   ]
  },
  {
   "cell_type": "code",
   "execution_count": 20,
   "id": "966f8546-739f-4365-941d-689b8dda7a35",
   "metadata": {},
   "outputs": [],
   "source": [
    "orders = pd.read_csv('orders.csv')"
   ]
  },
  {
   "cell_type": "code",
   "execution_count": 21,
   "id": "e4cf1db8-4b57-4595-972c-0a4258786a98",
   "metadata": {},
   "outputs": [
    {
     "data": {
      "image/png": "[encoded data removed]",
      "text/plain": [
       "<Figure size 432x288 with 1 Axes>"
      ]
     },
     "metadata": {
      "needs_background": "light"
     },
     "output_type": "display_data"
    }
   ],
   "source": [
    "gross_sales = orders.grosssales.values\n",
    "ax = sns.histplot(gross_sales, stat=\"density\", binwidth=100, kde=True)\n",
    "plt.title('Histogram showing distribution of gross sales per order')\n",
    "plt.show()"
   ]
  },
  {
   "cell_type": "code",
   "execution_count": 22,
   "id": "da79a8b6-915c-45b2-82c0-562c38123faa",
   "metadata": {},
   "outputs": [],
   "source": [
    "freq = pd.read_csv('customer_orderfreq.csv')"
   ]
  },
  {
   "cell_type": "code",
   "execution_count": 23,
   "id": "b8448942-764a-48ad-bc76-cc3f70d2c044",
   "metadata": {},
   "outputs": [
    {
     "data": {
      "image/png": "[encoded data removed]",
      "text/plain": [
       "<Figure size 432x288 with 1 Axes>"
      ]
     },
     "metadata": {
      "needs_background": "light"
     },
     "output_type": "display_data"
    }
   ],
   "source": [
    "frequency = freq.orders.values\n",
    "ax = sns.histplot(frequency, stat=\"density\", binwidth=1)\n",
    "plt.title('Histogram showing distribution of order frequency')\n",
    "plt.show()"
   ]
  },
  {
   "cell_type": "code",
   "execution_count": 24,
   "id": "4795a885-e94e-45e4-b113-d3685bff82ef",
   "metadata": {},
   "outputs": [
    {
     "name": "stdout",
     "output_type": "stream",
     "text": [
      "334734\n",
      "44849\n",
      "0.13398399923521362\n"
     ]
    }
   ],
   "source": [
    "single_purchase = len(freq[(freq['orders'] == 1)])\n",
    "multi_purchase = len(freq[(freq['orders'] != 1)])\n",
    "print(single_purchase)\n",
    "print(multi_purchase)\n",
    "print(multi_purchase/ single_purchase)"
   ]
  },
  {
   "cell_type": "code",
   "execution_count": 26,
   "id": "a99924e8-5e38-4723-8cc2-bcfd01df3c52",
   "metadata": {},
   "outputs": [],
   "source": [
    "test_view = pd.read_csv('returns.csv')"
   ]
  },
  {
   "cell_type": "code",
   "execution_count": 27,
   "id": "f6df9281-4ce8-4ce8-afb6-a4c18c73cbd1",
   "metadata": {},
   "outputs": [
    {
     "data": {
      "image/png": "[encoded data removed]",
      "text/plain": [
       "<Figure size 432x288 with 1 Axes>"
      ]
     },
     "metadata": {
      "needs_background": "light"
     },
     "output_type": "display_data"
    }
   ],
   "source": [
    "ret = test_view['%_returned'].values\n",
    "ax = sns.histplot(ret, stat=\"density\", binwidth=0.1)\n",
    "plt.title('Histogram showing distribution of return %')\n",
    "plt.show()"
   ]
  },
  {
   "cell_type": "code",
   "execution_count": null,
   "id": "7d96939e-f8a0-4e27-ad57-a8cc7569ff2d",
   "metadata": {},
   "outputs": [],
   "source": [
    "freq_cust.to_csv('Cust_freq_full.csv')"
   ]
  }
 ],
 "metadata": {
  "kernelspec": {
   "display_name": "Python 3",
   "language": "python",
   "name": "python3"
  },
  "language_info": {
   "codemirror_mode": {
    "name": "ipython",
    "version": 3
   },
   "file_extension": ".py",
   "mimetype": "text/x-python",
   "name": "python",
   "nbconvert_exporter": "python",
   "pygments_lexer": "ipython3",
   "version": "3.8.10"
  }
 },
 "nbformat": 4,
 "nbformat_minor": 5
}
