{
 "cells": [
  {
   "cell_type": "code",
   "execution_count": null,
   "id": "53d9519a-0bc3-4443-bd7e-83e58a83778f",
   "metadata": {},
   "outputs": [],
   "source": [
    "import pandas as pd\n",
    "import numpy as np\n",
    "from copy import deepcopy\n",
    "from random import randint \n",
    "import time\n",
    "import random \n",
    "import matplotlib.pyplot as plt\n",
    "from sklearn.model_selection import train_test_split\n",
    "from sklearn.preprocessing import LabelEncoder, MinMaxScaler, StandardScaler\n",
    "from sklearn.naive_bayes import GaussianNB\n",
    "from sklearn.neighbors import KNeighborsClassifier\n",
    "from sklearn.ensemble import RandomForestClassifier\n",
    "from sklearn.cluster import KMeans\n",
    "from sklearn.metrics import silhouette_score\n",
    "from sklearn.decomposition import PCA\n",
    "from sklearn.model_selection import GridSearchCV\n",
    "from sklearn.metrics import f1_score, recall_score, precision_score, confusion_matrix, plot_confusion_matrix\n",
    "from imblearn.metrics import geometric_mean_score\n",
    "from sklearn.metrics import roc_auc_score\n",
    "from collections import Counter\n",
    "from sklearn.datasets import make_classification\n",
    "from imblearn.over_sampling import SMOTE\n",
    "from sklearn.utils import shuffle\n",
    "from sklearn import metrics"
   ]
  },
  {
   "cell_type": "code",
   "execution_count": null,
   "id": "3d1127aa-5215-49b7-acbd-552ffbdb8be7",
   "metadata": {},
   "outputs": [],
   "source": [
    "#from orion.contrib.envs import load_env\n",
    "#load_env()\n",
    "import boto3\n",
    "#from orion.sources import S3Source\n",
    "aws_bucket = 'kilimanjaro-prod-datalake'\n",
    "s3 = boto3.client('s3')"
   ]
  },
  {
   "cell_type": "code",
   "execution_count": null,
   "id": "5fd4f2ea-70f8-4936-aa35-1fd3c705d507",
   "metadata": {},
   "outputs": [],
   "source": [
    "import warnings\n",
    "warnings.simplefilter(action='ignore', category=FutureWarning)"
   ]
  },
  {
   "cell_type": "code",
   "execution_count": null,
   "id": "be7d5ecc-65e7-4272-b4d5-56685b95a468",
   "metadata": {},
   "outputs": [],
   "source": [
    "object_ = 'masters/datascience/emma/retail.csv'\n",
    "retail = s3.get_object(Bucket=aws_bucket, Key=object_)\n",
    "retail = pd.read_csv(retail['Body'], index_col=0)"
   ]
  },
  {
   "cell_type": "code",
   "execution_count": null,
   "id": "9b83a439-6ee4-4008-8128-d1a9c64f1ef1",
   "metadata": {},
   "outputs": [],
   "source": [
    "retail = retail.rename(columns={'class':'cluster'})\n",
    "retail.head(1)"
   ]
  },
  {
   "cell_type": "code",
   "execution_count": null,
   "id": "49394401-fabf-48c8-bff2-1e8e5deb34d8",
   "metadata": {},
   "outputs": [],
   "source": [
    "wine_white = pd.read_csv('winequality-white.csv', delimiter=';')\n",
    "wine_red = pd.read_csv('winequality-red.csv', delimiter=';')"
   ]
  },
  {
   "cell_type": "code",
   "execution_count": null,
   "id": "f108e656-9516-408c-bae6-24defad0ff6b",
   "metadata": {},
   "outputs": [],
   "source": [
    "# Red Wine Quality Low vs High\n",
    "WineRLvH = deepcopy(wine_red)\n",
    "WineRLvH = WineRLvH[(WineRLvH['quality'] <5)| (WineRLvH['quality'] >6)]\n",
    "WineRLvH.loc[WineRLvH.quality >= 7, \"class\"] = 0\n",
    "WineRLvH.loc[WineRLvH.quality <= 4, \"class\"] = 1\n",
    "WineRLvH['class'] = WineRLvH['class'].astype(\"int\")\n",
    "WineRLvH['class'] = WineRLvH['class'].astype(\"category\")\n",
    "WineRLvH = WineRLvH.drop(columns=['quality'])\n",
    "print(WineRLvH['class'].value_counts())\n",
    "WineRLvH.name ='D12 - Wine_red_LvH'"
   ]
  },
  {
   "cell_type": "code",
   "execution_count": null,
   "id": "7e85ab7f-646b-4429-ade0-f5ddb24ff284",
   "metadata": {},
   "outputs": [],
   "source": [
    "# Low Quality Red Wine (3,4)\n",
    "WineT = deepcopy(wine_red)\n",
    "WineT[\"class\"] = \"\"\n",
    "WineT.loc[WineT.quality >= 7, \"class\"] = 1\n",
    "WineT.loc[WineT.quality == 6, \"class\"] = 0\n",
    "WineT.loc[WineT.quality == 5, \"class\"] = 0\n",
    "WineT.loc[WineT.quality <= 4, \"class\"] = 2\n",
    "WineT['class'] = WineT['class'].astype(\"category\")\n",
    "WineT = WineT.drop(columns=['quality'])\n",
    "WineT.name = 'Wine test'\n",
    "WineT['class'].value_counts()"
   ]
  },
  {
   "cell_type": "code",
   "execution_count": null,
   "id": "6555cfd9-0927-41f5-83d5-5021d02cd772",
   "metadata": {},
   "outputs": [],
   "source": [
    "# White Wine Quality Low vs High\n",
    "WineWLvH = deepcopy(wine_white)\n",
    "WineWLvH = WineWLvH[(WineWLvH['quality'] <5)| (WineWLvH['quality'] >6)]\n",
    "WineWLvH.loc[WineWLvH.quality >= 7, \"class\"] = 0\n",
    "WineWLvH.loc[WineWLvH.quality <= 4, \"class\"] = 1\n",
    "WineWLvH['class'] = WineWLvH['class'].astype(\"int\")\n",
    "WineWLvH['class'] = WineWLvH['class'].astype(\"category\")\n",
    "WineWLvH = WineWLvH.drop(columns=['quality'])\n",
    "print(WineWLvH['class'].value_counts())\n",
    "WineWLvH.name = 'D10 - Wine_white_LvH'"
   ]
  },
  {
   "cell_type": "code",
   "execution_count": null,
   "id": "0176c23a-ac11-4294-9ec0-9e5cf07f430e",
   "metadata": {},
   "outputs": [],
   "source": [
    "# Cust Summary focusing on singular minority\n",
    "cust_sum2 = deepcopy(retail)\n",
    "cust_sum2.loc[cust_sum2.cluster ==0, \"class\"] = 0\n",
    "cust_sum2.loc[cust_sum2.cluster >= 1, \"class\"] = 1\n",
    "cust_sum2['class'] = cust_sum2['class'].astype(\"int\")\n",
    "cust_sum2['class'] = cust_sum2['class'].astype(\"category\")\n",
    "cust_sum2 = cust_sum2.drop(columns=['cluster'])\n",
    "print(cust_sum2['class'].value_counts())\n",
    "cust_sum2.name ='Retail Data -2'"
   ]
  },
  {
   "cell_type": "code",
   "execution_count": 70,
   "id": "5a0d8f45-847a-4e5b-b1d1-c9d01e4e0d43",
   "metadata": {},
   "outputs": [],
   "source": [
    "# train test/ scaling\n",
    "def data_prep (data, seed):\n",
    "  X= data.drop('class',axis=1).copy()\n",
    "  y = data['class'].copy()\n",
    "  y = y.astype('category')\n",
    "  X_train, X_test, y_train, y_test = train_test_split(X, y, test_size=0.25, random_state=seed, shuffle=y, stratify=y) # add ssed\n",
    "\n",
    "  scaler = StandardScaler()\n",
    "  scaler.fit(X_train)\n",
    "  X_train_scaled = scaler.transform(X_train)\n",
    "  X_test_scaled = scaler.transform(X_test)\n",
    "\n",
    "  X_train_scaled = pd.DataFrame(X_train_scaled, columns = X_train.columns)\n",
    "  X_test_scaled = pd.DataFrame(X_test_scaled, columns = X_test.columns)\n",
    "\n",
    "  return X_train_scaled, X_test_scaled, y_train, y_test"
   ]
  },
  {
   "cell_type": "code",
   "execution_count": 72,
   "id": "9f6b59f2-c5f7-4491-9ea9-2d4303ea2b5f",
   "metadata": {},
   "outputs": [],
   "source": [
    "def random_under_minority (data, imbalance_level, seed):\n",
    "\n",
    "  random.seed(seed)\n",
    "  \n",
    "  X_train_scaled, X_test_scaled, y_train, y_test = data_prep(data, seed)\n",
    "  y_train = y_train.reset_index(drop=True)\n",
    "  X_train_scaled['class'] = y_train\n",
    "\n",
    "  class_counts = X_train_scaled['class'].value_counts().to_frame()\n",
    "  maj_count = class_counts.iloc[0,0]\n",
    "  min_count = class_counts.iloc[1,0]\n",
    "\n",
    "  majority = X_train_scaled[(X_train_scaled['class'] == 0)]\n",
    "  minority = X_train_scaled[(X_train_scaled['class']== 1)]\n",
    "\n",
    "  if imbalance_level == 'absolute':\n",
    "    downsample = 6\n",
    "  \n",
    "  else:\n",
    "    if imbalance_level == 'high':\n",
    "      imbalance = 0.05\n",
    "      \n",
    "    elif imbalance_level == 'extreme':\n",
    "      imbalance = 0.01\n",
    "\n",
    "    downsample = (maj_count * imbalance).round().astype('int')\n",
    "    \n",
    "    if imbalance_level == 'extreme' and downsample < 8:\n",
    "      downsample = 8\n",
    " \n",
    "  if downsample >= min_count:\n",
    "    minority_sample = minority\n",
    "      \n",
    "  else:\n",
    "    minority_sample = minority.sample(n= downsample)\n",
    "\n",
    "  final = pd.concat([majority, minority_sample])\n",
    "  final = shuffle(final)\n",
    "\n",
    "  X_train_scaled = final.drop('class',axis=1).copy()\n",
    "  y_train = final['class'].copy()\n",
    "  y_train = y_train.astype('category')\n",
    "\n",
    "  X_train_scaled = X_train_scaled\n",
    "  X_test_scaled = X_test_scaled\n",
    "  y_train = y_train.reset_index(drop=True)\n",
    "  y_test = y_test.reset_index(drop=True)\n",
    "\n",
    "  return X_train_scaled, X_test_scaled, y_train, y_test"
   ]
  },
  {
   "cell_type": "code",
   "execution_count": 393,
   "id": "748fa21d-a199-4865-8d64-5aad0494f2a0",
   "metadata": {},
   "outputs": [],
   "source": [
    "X_train_scaled, X_test_scaled, y_train, y_test = random_under_minority(WineRLvH,'high', 2)"
   ]
  },
  {
   "cell_type": "code",
   "execution_count": 366,
   "id": "fec8e2cd-074a-41ac-83ba-3f733f51fc60",
   "metadata": {},
   "outputs": [],
   "source": [
    "y_train = y_train.reset_index(drop=True)"
   ]
  },
  {
   "cell_type": "code",
   "execution_count": 367,
   "id": "cabd3aeb-0c86-4c5b-b851-2d237f73e42c",
   "metadata": {},
   "outputs": [
    {
     "data": {
      "text/plain": [
       "0    989\n",
       "1    163\n",
       "2     47\n",
       "Name: class, dtype: int64"
      ]
     },
     "execution_count": 367,
     "metadata": {},
     "output_type": "execute_result"
    }
   ],
   "source": [
    "y_train.value_counts()"
   ]
  },
  {
   "cell_type": "code",
   "execution_count": 345,
   "id": "02dff1c4-87f4-4c30-a872-044368e5ce31",
   "metadata": {},
   "outputs": [
    {
     "data": {
      "text/html": [
       "<div>\n",
       "<style scoped>\n",
       "    .dataframe tbody tr th:only-of-type {\n",
       "        vertical-align: middle;\n",
       "    }\n",
       "\n",
       "    .dataframe tbody tr th {\n",
       "        vertical-align: top;\n",
       "    }\n",
       "\n",
       "    .dataframe thead th {\n",
       "        text-align: right;\n",
       "    }\n",
       "</style>\n",
       "<table border=\"1\" class=\"dataframe\">\n",
       "  <thead>\n",
       "    <tr style=\"text-align: right;\">\n",
       "      <th></th>\n",
       "      <th>fixed acidity</th>\n",
       "      <th>volatile acidity</th>\n",
       "      <th>citric acid</th>\n",
       "      <th>residual sugar</th>\n",
       "      <th>chlorides</th>\n",
       "      <th>free sulfur dioxide</th>\n",
       "      <th>total sulfur dioxide</th>\n",
       "      <th>density</th>\n",
       "      <th>pH</th>\n",
       "      <th>sulphates</th>\n",
       "      <th>alcohol</th>\n",
       "    </tr>\n",
       "  </thead>\n",
       "  <tbody>\n",
       "    <tr>\n",
       "      <th>0</th>\n",
       "      <td>-0.493186</td>\n",
       "      <td>-0.200761</td>\n",
       "      <td>-0.422799</td>\n",
       "      <td>-0.436785</td>\n",
       "      <td>-0.243628</td>\n",
       "      <td>-0.562582</td>\n",
       "      <td>-0.077561</td>\n",
       "      <td>-0.576077</td>\n",
       "      <td>0.536405</td>\n",
       "      <td>-0.686870</td>\n",
       "      <td>-0.667028</td>\n",
       "    </tr>\n",
       "    <tr>\n",
       "      <th>1</th>\n",
       "      <td>1.064921</td>\n",
       "      <td>-1.043492</td>\n",
       "      <td>1.066376</td>\n",
       "      <td>-0.303840</td>\n",
       "      <td>-0.747991</td>\n",
       "      <td>-1.028679</td>\n",
       "      <td>-1.151054</td>\n",
       "      <td>-1.178037</td>\n",
       "      <td>-0.693574</td>\n",
       "      <td>0.168507</td>\n",
       "      <td>1.604767</td>\n",
       "    </tr>\n",
       "    <tr>\n",
       "      <th>2</th>\n",
       "      <td>0.949505</td>\n",
       "      <td>-0.987310</td>\n",
       "      <td>1.015025</td>\n",
       "      <td>-0.370312</td>\n",
       "      <td>-0.558855</td>\n",
       "      <td>-0.935459</td>\n",
       "      <td>-1.089712</td>\n",
       "      <td>-0.495458</td>\n",
       "      <td>-0.499367</td>\n",
       "      <td>-0.800920</td>\n",
       "      <td>1.510109</td>\n",
       "    </tr>\n",
       "    <tr>\n",
       "      <th>3</th>\n",
       "      <td>0.199306</td>\n",
       "      <td>0.838608</td>\n",
       "      <td>-0.884957</td>\n",
       "      <td>-0.636203</td>\n",
       "      <td>0.050584</td>\n",
       "      <td>-1.121898</td>\n",
       "      <td>-1.089712</td>\n",
       "      <td>0.364485</td>\n",
       "      <td>0.018519</td>\n",
       "      <td>-0.059593</td>\n",
       "      <td>-0.809015</td>\n",
       "    </tr>\n",
       "    <tr>\n",
       "      <th>4</th>\n",
       "      <td>0.949505</td>\n",
       "      <td>-0.200761</td>\n",
       "      <td>-0.371448</td>\n",
       "      <td>5.612233</td>\n",
       "      <td>-0.348704</td>\n",
       "      <td>-0.282924</td>\n",
       "      <td>0.106467</td>\n",
       "      <td>2.541215</td>\n",
       "      <td>-0.952517</td>\n",
       "      <td>0.168507</td>\n",
       "      <td>-1.140319</td>\n",
       "    </tr>\n",
       "    <tr>\n",
       "      <th>...</th>\n",
       "      <td>...</td>\n",
       "      <td>...</td>\n",
       "      <td>...</td>\n",
       "      <td>...</td>\n",
       "      <td>...</td>\n",
       "      <td>...</td>\n",
       "      <td>...</td>\n",
       "      <td>...</td>\n",
       "      <td>...</td>\n",
       "      <td>...</td>\n",
       "      <td>...</td>\n",
       "    </tr>\n",
       "    <tr>\n",
       "      <th>1194</th>\n",
       "      <td>0.141598</td>\n",
       "      <td>-0.200761</td>\n",
       "      <td>0.039359</td>\n",
       "      <td>-0.436785</td>\n",
       "      <td>0.470886</td>\n",
       "      <td>0.369612</td>\n",
       "      <td>2.744194</td>\n",
       "      <td>0.230119</td>\n",
       "      <td>-2.441438</td>\n",
       "      <td>7.353672</td>\n",
       "      <td>-0.477712</td>\n",
       "    </tr>\n",
       "    <tr>\n",
       "      <th>1195</th>\n",
       "      <td>-0.089233</td>\n",
       "      <td>1.203791</td>\n",
       "      <td>-0.936307</td>\n",
       "      <td>-0.370312</td>\n",
       "      <td>-0.432764</td>\n",
       "      <td>-1.028679</td>\n",
       "      <td>-1.120383</td>\n",
       "      <td>-1.393023</td>\n",
       "      <td>-0.175688</td>\n",
       "      <td>-0.515794</td>\n",
       "      <td>1.320793</td>\n",
       "    </tr>\n",
       "    <tr>\n",
       "      <th>1196</th>\n",
       "      <td>0.026183</td>\n",
       "      <td>0.529606</td>\n",
       "      <td>-0.782255</td>\n",
       "      <td>-0.503258</td>\n",
       "      <td>-0.327689</td>\n",
       "      <td>2.047561</td>\n",
       "      <td>-0.016218</td>\n",
       "      <td>-0.930804</td>\n",
       "      <td>0.471669</td>\n",
       "      <td>1.309009</td>\n",
       "      <td>1.320793</td>\n",
       "    </tr>\n",
       "    <tr>\n",
       "      <th>1197</th>\n",
       "      <td>2.334489</td>\n",
       "      <td>-0.594035</td>\n",
       "      <td>1.117727</td>\n",
       "      <td>1.357979</td>\n",
       "      <td>-0.306674</td>\n",
       "      <td>0.276393</td>\n",
       "      <td>-0.108232</td>\n",
       "      <td>0.552597</td>\n",
       "      <td>-1.858817</td>\n",
       "      <td>-0.287694</td>\n",
       "      <td>-0.856344</td>\n",
       "    </tr>\n",
       "    <tr>\n",
       "      <th>1198</th>\n",
       "      <td>-1.070263</td>\n",
       "      <td>-0.032214</td>\n",
       "      <td>-0.833606</td>\n",
       "      <td>-0.503258</td>\n",
       "      <td>-0.306674</td>\n",
       "      <td>-0.282924</td>\n",
       "      <td>-0.261588</td>\n",
       "      <td>-0.683570</td>\n",
       "      <td>0.212726</td>\n",
       "      <td>-0.800920</td>\n",
       "      <td>-1.045660</td>\n",
       "    </tr>\n",
       "  </tbody>\n",
       "</table>\n",
       "<p>1199 rows × 11 columns</p>\n",
       "</div>"
      ],
      "text/plain": [
       "      fixed acidity  volatile acidity  citric acid  residual sugar  chlorides  \\\n",
       "0         -0.493186         -0.200761    -0.422799       -0.436785  -0.243628   \n",
       "1          1.064921         -1.043492     1.066376       -0.303840  -0.747991   \n",
       "2          0.949505         -0.987310     1.015025       -0.370312  -0.558855   \n",
       "3          0.199306          0.838608    -0.884957       -0.636203   0.050584   \n",
       "4          0.949505         -0.200761    -0.371448        5.612233  -0.348704   \n",
       "...             ...               ...          ...             ...        ...   \n",
       "1194       0.141598         -0.200761     0.039359       -0.436785   0.470886   \n",
       "1195      -0.089233          1.203791    -0.936307       -0.370312  -0.432764   \n",
       "1196       0.026183          0.529606    -0.782255       -0.503258  -0.327689   \n",
       "1197       2.334489         -0.594035     1.117727        1.357979  -0.306674   \n",
       "1198      -1.070263         -0.032214    -0.833606       -0.503258  -0.306674   \n",
       "\n",
       "      free sulfur dioxide  total sulfur dioxide   density        pH  \\\n",
       "0               -0.562582             -0.077561 -0.576077  0.536405   \n",
       "1               -1.028679             -1.151054 -1.178037 -0.693574   \n",
       "2               -0.935459             -1.089712 -0.495458 -0.499367   \n",
       "3               -1.121898             -1.089712  0.364485  0.018519   \n",
       "4               -0.282924              0.106467  2.541215 -0.952517   \n",
       "...                   ...                   ...       ...       ...   \n",
       "1194             0.369612              2.744194  0.230119 -2.441438   \n",
       "1195            -1.028679             -1.120383 -1.393023 -0.175688   \n",
       "1196             2.047561             -0.016218 -0.930804  0.471669   \n",
       "1197             0.276393             -0.108232  0.552597 -1.858817   \n",
       "1198            -0.282924             -0.261588 -0.683570  0.212726   \n",
       "\n",
       "      sulphates   alcohol  \n",
       "0     -0.686870 -0.667028  \n",
       "1      0.168507  1.604767  \n",
       "2     -0.800920  1.510109  \n",
       "3     -0.059593 -0.809015  \n",
       "4      0.168507 -1.140319  \n",
       "...         ...       ...  \n",
       "1194   7.353672 -0.477712  \n",
       "1195  -0.515794  1.320793  \n",
       "1196   1.309009  1.320793  \n",
       "1197  -0.287694 -0.856344  \n",
       "1198  -0.800920 -1.045660  \n",
       "\n",
       "[1199 rows x 11 columns]"
      ]
     },
     "execution_count": 345,
     "metadata": {},
     "output_type": "execute_result"
    }
   ],
   "source": [
    "X_train_scaled"
   ]
  },
  {
   "cell_type": "code",
   "execution_count": 134,
   "id": "da889df9-d272-4e45-914d-c204746cb941",
   "metadata": {},
   "outputs": [],
   "source": [
    "data = X_train_scaled"
   ]
  },
  {
   "cell_type": "code",
   "execution_count": 136,
   "id": "bb41686a-feff-4492-bc2a-4f330d341fbd",
   "metadata": {},
   "outputs": [],
   "source": [
    "data = data.reset_index(drop=True)\n",
    "            \n",
    "label_f = np.array(label[label==0])\n",
    "label_t = np.array(label[label== 1])\n",
    "            \n",
    "data_f = np.array(data[label==0])\n",
    "data_t = np.array(data[label== 1])"
   ]
  },
  {
   "cell_type": "code",
   "execution_count": 60,
   "id": "1960e979-e1b9-48bc-8639-d2cfd65c3b7b",
   "metadata": {},
   "outputs": [],
   "source": [
    "label = y_train"
   ]
  },
  {
   "cell_type": "code",
   "execution_count": 388,
   "id": "1cb1d4f6-96fc-4b26-abe2-c2f9d5e158a9",
   "metadata": {},
   "outputs": [],
   "source": [
    "class SingularMatrixException(Exception):\n",
    "    def __init__(self):\n",
    "        Exception.__init__(self,\"Singular data matrix... use subspace\") \n",
    "\n",
    "class MAHAKIL(object):\n",
    "    def __init__(self, pfp=0.5):\n",
    "        self.data_t = None  # Save the initial defect sample\n",
    "        self.pfp = pfp  # Proportion of expected defect samples\n",
    "        self.T = 0  # Number of defect samples to be generated\n",
    "        self.new = []  # Store newly generated samples\n",
    "\n",
    "    # Core method\n",
    "    # return : data_new, label_new\n",
    "    def fit_sample(self, data, label):\n",
    "        \n",
    "        for i in range(1, 3):\n",
    "            print(type(data))\n",
    "            \n",
    "            label_f = np.array(label[label==0])\n",
    "            label_t = np.array(label[label== i])\n",
    "            \n",
    "            data_f = np.array(data[label==0])\n",
    "            data_t = np.array(data[label== i])\n",
    "            \n",
    "            data_t = data_t+0.00001*np.random.rand((data_t.shape)[0],(data_t.shape)[1])\n",
    "            self.T = int(len(data_f) / (1 - self.pfp) - len(data_f))\n",
    "            self.data_t = np.array(data_t)\n",
    "            \n",
    "            # Calculate the Mahalanobis distance\n",
    "            d = 0\n",
    "            d = self.mahalanobis_distance(self.data_t)\n",
    "        \n",
    "            d = pd.DataFrame (d,columns=['Malhabonis Distance'])\n",
    "            d = d.reset_index(drop=False)\n",
    "            d = d.values.tolist()\n",
    "        \n",
    "\n",
    "            # Descending order\n",
    "            d.sort(key=lambda x: x[1], reverse=True)\n",
    "            # Divide the set of positive examples into two\n",
    "            k = len(d)\n",
    "            d_index = [d[i][0] for i in range(k)]\n",
    "            d_index = [ int(d) for d in d_index ]\n",
    "            data_t_sorted = [data_t[i] for i in d_index]\n",
    "            \n",
    "            mid = int(k/2)\n",
    "            bin1 = [data_t_sorted[i] for i in range(0, mid)]\n",
    "            bin2 = [data_t_sorted[i] for i in range(mid, k)]\n",
    "            # Loop iteration to generate new samples\n",
    "            l_ = len(bin1)\n",
    "            print(\"l\", l_)\n",
    "            mark = [1, 3, 7, 15, 31, 63, 127, 255, 511, 1023, 2047, 4095, 8191, 16383, 32767, 65535, 131071, 262143, 524287]\n",
    "            p = self.T / (l_ +0.0)\n",
    "            is_full = True\n",
    "            g = mark.index([m for m in mark if m > p][0]) + 1\n",
    "            cluster = 2 ** (g - 1)  # Number of children of the last generation\n",
    "            if (self.T - mark[g-2]*l_) < cluster:\n",
    "                # Explain that adding more generations is better than keeping a few\n",
    "                is_full = False\n",
    "                g -= 1\n",
    "                k = 0\n",
    "            else:\n",
    "                k = l_ - round((self.T - mark[g-2]*l_)/cluster)\n",
    "            self.generate_new_sample(bin1, bin2, g, l_, k, is_full)\n",
    "            # Return data and labels\n",
    "            label_new = np.ones(len(self.new))+ (i-1)\n",
    "            data = np.append(data, self.new, axis=0)\n",
    "            data = pd.DataFrame(data)\n",
    "            label = np.append(label, label_new, axis=0)\n",
    "        return data, label \n",
    "\n",
    "    def mahalanobis_distance(self, x):\n",
    "        x_mu = x - np.mean(x)\n",
    "        cov = np.cov(x.T)\n",
    "        inv_covmat = np.linalg.inv(cov)\n",
    "        left = np.dot(x_mu, inv_covmat)\n",
    "        mahal = np.dot(left, x_mu.T).diagonal()\n",
    "        return mahal\n",
    "\n",
    "\n",
    "    # Generate new samples\n",
    "    def generate_new_sample(self, bin1, bin2, g, l, k, is_full):\n",
    "        # bin1, bin2 are arrays\n",
    "        # g Hereditary remaining algebra\n",
    "        # l bin1 number of items\n",
    "        # k The number of each node to be cropped in the last generation\n",
    "        # is_full whether it overflows, that is, the last generation is counted, whether it exceeds T, or is not full\n",
    "        assert len(bin1) <= len(bin2)\n",
    "        if g >= 2 or (g == 1 and is_full is False):\n",
    "            lv_0 = []  # Offspring\n",
    "            for i in range(l):\n",
    "                # Generate children\n",
    "                lv_0.append(np.mean(np.append(np.atleast_2d(bin1[i]), np.atleast_2d(bin2[i]), axis=0), axis=0))\n",
    "            self.new.extend(lv_0)\n",
    "            self.generate_new_sample(lv_0, bin1, g-1, l, k, is_full)\n",
    "            self.generate_new_sample(lv_0, bin2, g-1, l, k, is_full)\n",
    "        if g == 1 and is_full:\n",
    "            lv_0 = []  # Offspring\n",
    "            for i in range(l):\n",
    "                # Generate children\n",
    "                lv_0.append(np.mean(np.append(np.atleast_2d(bin1[i]), np.atleast_2d(bin2[i]), axis=0), axis=0))\n",
    "            del lv_0[-1: (-k-1): -1]\n",
    "            self.new.extend(lv_0)\n"
   ]
  },
  {
   "cell_type": "code",
   "execution_count": 389,
   "id": "5e39b793-b367-4b71-bb56-1c697eaaf180",
   "metadata": {},
   "outputs": [],
   "source": [
    "mk = MAHAKIL(pfp=0.5)"
   ]
  },
  {
   "cell_type": "code",
   "execution_count": 390,
   "id": "0ed103ac-af21-4922-b1fd-24642732d670",
   "metadata": {},
   "outputs": [
    {
     "ename": "AttributeError",
     "evalue": "'numpy.ndarray' object has no attribute 'reset_index'",
     "output_type": "error",
     "traceback": [
      "\u001b[0;31m---------------------------------------------------------------------------\u001b[0m",
      "\u001b[0;31mAttributeError\u001b[0m                            Traceback (most recent call last)",
      "\u001b[0;32m<ipython-input-390-6322d3ac1f67>\u001b[0m in \u001b[0;36m<module>\u001b[0;34m\u001b[0m\n\u001b[1;32m      1\u001b[0m \u001b[0mX_train_scaled\u001b[0m \u001b[0;34m=\u001b[0m \u001b[0mX_train_scaled\u001b[0m\u001b[0;34m.\u001b[0m\u001b[0mreset_index\u001b[0m\u001b[0;34m(\u001b[0m\u001b[0mdrop\u001b[0m\u001b[0;34m=\u001b[0m\u001b[0;32mTrue\u001b[0m\u001b[0;34m)\u001b[0m\u001b[0;34m\u001b[0m\u001b[0;34m\u001b[0m\u001b[0m\n\u001b[0;32m----> 2\u001b[0;31m \u001b[0my_train\u001b[0m \u001b[0;34m=\u001b[0m \u001b[0my_train\u001b[0m\u001b[0;34m.\u001b[0m\u001b[0mreset_index\u001b[0m\u001b[0;34m(\u001b[0m\u001b[0mdrop\u001b[0m\u001b[0;34m=\u001b[0m\u001b[0;32mTrue\u001b[0m\u001b[0;34m)\u001b[0m\u001b[0;34m\u001b[0m\u001b[0;34m\u001b[0m\u001b[0m\n\u001b[0m",
      "\u001b[0;31mAttributeError\u001b[0m: 'numpy.ndarray' object has no attribute 'reset_index'"
     ]
    }
   ],
   "source": [
    "X_train_scaled = X_train_scaled.reset_index(drop=True)\n",
    "y_train = y_train.reset_index(drop=True)"
   ]
  },
  {
   "cell_type": "code",
   "execution_count": 391,
   "id": "29d1b87b-ada3-4760-a9e1-b017ccb0b256",
   "metadata": {},
   "outputs": [
    {
     "ename": "AttributeError",
     "evalue": "'numpy.ndarray' object has no attribute 'reset_index'",
     "output_type": "error",
     "traceback": [
      "\u001b[0;31m---------------------------------------------------------------------------\u001b[0m",
      "\u001b[0;31mAttributeError\u001b[0m                            Traceback (most recent call last)",
      "\u001b[0;32m<ipython-input-391-d69da45363c0>\u001b[0m in \u001b[0;36m<module>\u001b[0;34m\u001b[0m\n\u001b[0;32m----> 1\u001b[0;31m \u001b[0my_train\u001b[0m \u001b[0;34m=\u001b[0m \u001b[0my_train\u001b[0m\u001b[0;34m.\u001b[0m\u001b[0mreset_index\u001b[0m\u001b[0;34m(\u001b[0m\u001b[0mdrop\u001b[0m\u001b[0;34m=\u001b[0m\u001b[0;32mTrue\u001b[0m\u001b[0;34m)\u001b[0m\u001b[0;34m\u001b[0m\u001b[0;34m\u001b[0m\u001b[0m\n\u001b[0m",
      "\u001b[0;31mAttributeError\u001b[0m: 'numpy.ndarray' object has no attribute 'reset_index'"
     ]
    }
   ],
   "source": [
    "y_train = y_train.reset_index(drop=True)"
   ]
  },
  {
   "cell_type": "code",
   "execution_count": 386,
   "id": "f56c1c70-4d2b-45c9-af74-fbc2e754f9cc",
   "metadata": {},
   "outputs": [
    {
     "name": "stdout",
     "output_type": "stream",
     "text": [
      "<class 'pandas.core.frame.DataFrame'>\n",
      "l 81\n",
      "p 12.209876543209877\n",
      "T 989\n",
      "<class 'pandas.core.frame.DataFrame'>\n",
      "l 23\n",
      "p 43.0\n",
      "T 989\n"
     ]
    }
   ],
   "source": [
    "X_train_scaled, y_train = mk.fit_sample(X_train_scaled, y_train)"
   ]
  },
  {
   "cell_type": "code",
   "execution_count": 387,
   "id": "4f88ed06-0a80-4357-9e19-aa9af86a9ca9",
   "metadata": {},
   "outputs": [
    {
     "data": {
      "text/plain": [
       "2.0    2039\n",
       "1.0    1154\n",
       "0.0     989\n",
       "dtype: int64"
      ]
     },
     "execution_count": 387,
     "metadata": {},
     "output_type": "execute_result"
    }
   ],
   "source": [
    "pd.DataFrame(y_train).value_counts()"
   ]
  },
  {
   "cell_type": "code",
   "execution_count": 360,
   "id": "7bc1d3b6-5854-431c-a4ab-bc8d940ca546",
   "metadata": {},
   "outputs": [],
   "source": [
    "model_base = GaussianNB()\n",
    "model_base.fit(X_train_scaled, y_train)\n",
    "\n",
    "y_pred = model_base.predict(X_test_scaled)\n",
    "score_f1 = f1_score(y_test, y_pred, average=\"macro\")\n",
    "GMS = geometric_mean_score(y_test, y_pred, average = 'multiclass')\n",
    "conf = confusion_matrix(y_test, y_pred)"
   ]
  },
  {
   "cell_type": "code",
   "execution_count": 361,
   "id": "cac2e774-8514-44eb-bdba-a3f3dbd51d58",
   "metadata": {},
   "outputs": [
    {
     "data": {
      "text/plain": [
       "0.37150976885616244"
      ]
     },
     "execution_count": 361,
     "metadata": {},
     "output_type": "execute_result"
    }
   ],
   "source": [
    "score_f1"
   ]
  },
  {
   "cell_type": "code",
   "execution_count": 362,
   "id": "ae7f77af-09af-407d-9651-3029ab6a53cb",
   "metadata": {},
   "outputs": [
    {
     "data": {
      "text/plain": [
       "array([[121,  69, 140],\n",
       "       [  6,  40,   8],\n",
       "       [  6,   1,   9]])"
      ]
     },
     "execution_count": 362,
     "metadata": {},
     "output_type": "execute_result"
    }
   ],
   "source": [
    "conf"
   ]
  },
  {
   "cell_type": "code",
   "execution_count": 319,
   "id": "9f38c045-3554-4a50-9634-cde5843e850e",
   "metadata": {},
   "outputs": [],
   "source": [
    "y_train = y_train"
   ]
  },
  {
   "cell_type": "code",
   "execution_count": 320,
   "id": "3bf0da54-48e1-4136-8635-c465581063a6",
   "metadata": {},
   "outputs": [],
   "source": [
    "X_train_scaled = pd.DataFrame(X_train_scaled)"
   ]
  },
  {
   "cell_type": "code",
   "execution_count": 321,
   "id": "c2bfedc7-fbc7-44b0-aef5-384cf865b0d6",
   "metadata": {},
   "outputs": [],
   "source": [
    "X_train_scaled = X_train_scaled.reset_index(drop=True)"
   ]
  },
  {
   "cell_type": "code",
   "execution_count": 322,
   "id": "be6502c6-6f79-4586-a90b-ef301a92e7c4",
   "metadata": {},
   "outputs": [
    {
     "data": {
      "text/plain": [
       "array([1., 0., 0., ..., 1., 1., 1.])"
      ]
     },
     "execution_count": 322,
     "metadata": {},
     "output_type": "execute_result"
    }
   ],
   "source": [
    "y_train"
   ]
  },
  {
   "cell_type": "code",
   "execution_count": 323,
   "id": "0d88e418-b5d4-402d-a300-8399be6d4f50",
   "metadata": {},
   "outputs": [
    {
     "data": {
      "text/html": [
       "<div>\n",
       "<style scoped>\n",
       "    .dataframe tbody tr th:only-of-type {\n",
       "        vertical-align: middle;\n",
       "    }\n",
       "\n",
       "    .dataframe tbody tr th {\n",
       "        vertical-align: top;\n",
       "    }\n",
       "\n",
       "    .dataframe thead th {\n",
       "        text-align: right;\n",
       "    }\n",
       "</style>\n",
       "<table border=\"1\" class=\"dataframe\">\n",
       "  <thead>\n",
       "    <tr style=\"text-align: right;\">\n",
       "      <th></th>\n",
       "      <th>0</th>\n",
       "      <th>1</th>\n",
       "      <th>2</th>\n",
       "      <th>3</th>\n",
       "      <th>4</th>\n",
       "      <th>5</th>\n",
       "      <th>6</th>\n",
       "      <th>7</th>\n",
       "      <th>8</th>\n",
       "      <th>9</th>\n",
       "      <th>10</th>\n",
       "    </tr>\n",
       "  </thead>\n",
       "  <tbody>\n",
       "    <tr>\n",
       "      <th>0</th>\n",
       "      <td>1.007213</td>\n",
       "      <td>-0.874946</td>\n",
       "      <td>0.347464</td>\n",
       "      <td>-0.104422</td>\n",
       "      <td>-0.054492</td>\n",
       "      <td>-1.028679</td>\n",
       "      <td>-0.905684</td>\n",
       "      <td>0.031257</td>\n",
       "      <td>-0.887781</td>\n",
       "      <td>-0.059593</td>\n",
       "      <td>0.184895</td>\n",
       "    </tr>\n",
       "    <tr>\n",
       "      <th>1</th>\n",
       "      <td>0.083890</td>\n",
       "      <td>-0.874946</td>\n",
       "      <td>-0.371448</td>\n",
       "      <td>0.161469</td>\n",
       "      <td>0.050584</td>\n",
       "      <td>0.183173</td>\n",
       "      <td>0.351837</td>\n",
       "      <td>0.660090</td>\n",
       "      <td>0.212726</td>\n",
       "      <td>0.225532</td>\n",
       "      <td>-0.761686</td>\n",
       "    </tr>\n",
       "    <tr>\n",
       "      <th>2</th>\n",
       "      <td>-0.666309</td>\n",
       "      <td>2.664525</td>\n",
       "      <td>-1.398465</td>\n",
       "      <td>0.294415</td>\n",
       "      <td>0.302765</td>\n",
       "      <td>-0.842240</td>\n",
       "      <td>-0.936356</td>\n",
       "      <td>-0.490083</td>\n",
       "      <td>0.795348</td>\n",
       "      <td>-1.143071</td>\n",
       "      <td>-0.383054</td>\n",
       "    </tr>\n",
       "    <tr>\n",
       "      <th>3</th>\n",
       "      <td>-0.320063</td>\n",
       "      <td>-0.762581</td>\n",
       "      <td>0.758271</td>\n",
       "      <td>-0.370312</td>\n",
       "      <td>-0.033477</td>\n",
       "      <td>-0.655801</td>\n",
       "      <td>-0.782999</td>\n",
       "      <td>-0.812561</td>\n",
       "      <td>0.536405</td>\n",
       "      <td>-0.002568</td>\n",
       "      <td>1.131476</td>\n",
       "    </tr>\n",
       "    <tr>\n",
       "      <th>4</th>\n",
       "      <td>0.083890</td>\n",
       "      <td>0.726244</td>\n",
       "      <td>1.117727</td>\n",
       "      <td>2.355069</td>\n",
       "      <td>0.723067</td>\n",
       "      <td>1.674683</td>\n",
       "      <td>3.204263</td>\n",
       "      <td>2.272483</td>\n",
       "      <td>0.018519</td>\n",
       "      <td>2.734638</td>\n",
       "      <td>-1.045660</td>\n",
       "    </tr>\n",
       "    <tr>\n",
       "      <th>...</th>\n",
       "      <td>...</td>\n",
       "      <td>...</td>\n",
       "      <td>...</td>\n",
       "      <td>...</td>\n",
       "      <td>...</td>\n",
       "      <td>...</td>\n",
       "      <td>...</td>\n",
       "      <td>...</td>\n",
       "      <td>...</td>\n",
       "      <td>...</td>\n",
       "      <td>...</td>\n",
       "    </tr>\n",
       "    <tr>\n",
       "      <th>2033</th>\n",
       "      <td>0.456294</td>\n",
       "      <td>-1.317378</td>\n",
       "      <td>0.330618</td>\n",
       "      <td>-0.314745</td>\n",
       "      <td>-0.515837</td>\n",
       "      <td>-0.291659</td>\n",
       "      <td>-0.593693</td>\n",
       "      <td>-0.822296</td>\n",
       "      <td>-0.309204</td>\n",
       "      <td>1.002509</td>\n",
       "      <td>1.245367</td>\n",
       "    </tr>\n",
       "    <tr>\n",
       "      <th>2034</th>\n",
       "      <td>1.057714</td>\n",
       "      <td>-0.220065</td>\n",
       "      <td>1.828622</td>\n",
       "      <td>0.222758</td>\n",
       "      <td>-0.327029</td>\n",
       "      <td>-0.568408</td>\n",
       "      <td>-0.633471</td>\n",
       "      <td>0.010096</td>\n",
       "      <td>-0.948464</td>\n",
       "      <td>0.712928</td>\n",
       "      <td>1.976007</td>\n",
       "    </tr>\n",
       "    <tr>\n",
       "      <th>2035</th>\n",
       "      <td>-0.589662</td>\n",
       "      <td>0.111753</td>\n",
       "      <td>-1.305383</td>\n",
       "      <td>-0.497024</td>\n",
       "      <td>0.107393</td>\n",
       "      <td>-0.660166</td>\n",
       "      <td>-0.965587</td>\n",
       "      <td>-0.868154</td>\n",
       "      <td>0.262297</td>\n",
       "      <td>-0.409761</td>\n",
       "      <td>0.578321</td>\n",
       "    </tr>\n",
       "    <tr>\n",
       "      <th>2036</th>\n",
       "      <td>-1.136077</td>\n",
       "      <td>0.241682</td>\n",
       "      <td>-0.789468</td>\n",
       "      <td>-0.176083</td>\n",
       "      <td>0.656091</td>\n",
       "      <td>0.840084</td>\n",
       "      <td>-0.298483</td>\n",
       "      <td>-0.887047</td>\n",
       "      <td>1.057332</td>\n",
       "      <td>0.292365</td>\n",
       "      <td>0.887439</td>\n",
       "    </tr>\n",
       "    <tr>\n",
       "      <th>2037</th>\n",
       "      <td>0.881883</td>\n",
       "      <td>0.006419</td>\n",
       "      <td>1.515699</td>\n",
       "      <td>-0.068068</td>\n",
       "      <td>0.107067</td>\n",
       "      <td>1.268310</td>\n",
       "      <td>0.149123</td>\n",
       "      <td>0.172012</td>\n",
       "      <td>-0.747174</td>\n",
       "      <td>0.555213</td>\n",
       "      <td>1.138881</td>\n",
       "    </tr>\n",
       "  </tbody>\n",
       "</table>\n",
       "<p>2038 rows × 11 columns</p>\n",
       "</div>"
      ],
      "text/plain": [
       "            0         1         2         3         4         5         6   \\\n",
       "0     1.007213 -0.874946  0.347464 -0.104422 -0.054492 -1.028679 -0.905684   \n",
       "1     0.083890 -0.874946 -0.371448  0.161469  0.050584  0.183173  0.351837   \n",
       "2    -0.666309  2.664525 -1.398465  0.294415  0.302765 -0.842240 -0.936356   \n",
       "3    -0.320063 -0.762581  0.758271 -0.370312 -0.033477 -0.655801 -0.782999   \n",
       "4     0.083890  0.726244  1.117727  2.355069  0.723067  1.674683  3.204263   \n",
       "...        ...       ...       ...       ...       ...       ...       ...   \n",
       "2033  0.456294 -1.317378  0.330618 -0.314745 -0.515837 -0.291659 -0.593693   \n",
       "2034  1.057714 -0.220065  1.828622  0.222758 -0.327029 -0.568408 -0.633471   \n",
       "2035 -0.589662  0.111753 -1.305383 -0.497024  0.107393 -0.660166 -0.965587   \n",
       "2036 -1.136077  0.241682 -0.789468 -0.176083  0.656091  0.840084 -0.298483   \n",
       "2037  0.881883  0.006419  1.515699 -0.068068  0.107067  1.268310  0.149123   \n",
       "\n",
       "            7         8         9         10  \n",
       "0     0.031257 -0.887781 -0.059593  0.184895  \n",
       "1     0.660090  0.212726  0.225532 -0.761686  \n",
       "2    -0.490083  0.795348 -1.143071 -0.383054  \n",
       "3    -0.812561  0.536405 -0.002568  1.131476  \n",
       "4     2.272483  0.018519  2.734638 -1.045660  \n",
       "...        ...       ...       ...       ...  \n",
       "2033 -0.822296 -0.309204  1.002509  1.245367  \n",
       "2034  0.010096 -0.948464  0.712928  1.976007  \n",
       "2035 -0.868154  0.262297 -0.409761  0.578321  \n",
       "2036 -0.887047  1.057332  0.292365  0.887439  \n",
       "2037  0.172012 -0.747174  0.555213  1.138881  \n",
       "\n",
       "[2038 rows x 11 columns]"
      ]
     },
     "execution_count": 323,
     "metadata": {},
     "output_type": "execute_result"
    }
   ],
   "source": [
    "X_train_scaled"
   ]
  },
  {
   "cell_type": "code",
   "execution_count": 324,
   "id": "6cd59987-7e4c-44bc-accc-6e748279030d",
   "metadata": {},
   "outputs": [],
   "source": [
    "label_f = np.array(y_train[y_train==0])\n",
    "label_t = np.array(y_train[y_train==2])"
   ]
  },
  {
   "cell_type": "code",
   "execution_count": 325,
   "id": "ddc29eb2-3bb3-4566-85c9-dd20c328bd91",
   "metadata": {},
   "outputs": [
    {
     "data": {
      "text/plain": [
       "array([1., 1., 1., ..., 1., 1., 1.])"
      ]
     },
     "execution_count": 325,
     "metadata": {},
     "output_type": "execute_result"
    }
   ],
   "source": [
    "label_t"
   ]
  },
  {
   "cell_type": "code",
   "execution_count": 326,
   "id": "4883f652-8a81-425b-9215-952e498f54f9",
   "metadata": {},
   "outputs": [],
   "source": [
    "data_f = np.array(X_train_scaled[y_train==0])\n",
    "data_t = np.array(X_train_scaled[y_train==2])"
   ]
  },
  {
   "cell_type": "code",
   "execution_count": 327,
   "id": "297af9f4-26b7-43aa-8a73-bf3cdf69f2d0",
   "metadata": {},
   "outputs": [],
   "source": [
    "data_t = data_t+0.00001*np.random.rand((data_t.shape)[0],(data_t.shape)[1])"
   ]
  },
  {
   "cell_type": "code",
   "execution_count": 328,
   "id": "d361110b-9be4-4c40-8f74-239c50dfc3b1",
   "metadata": {},
   "outputs": [
    {
     "data": {
      "text/plain": [
       "989.0"
      ]
     },
     "execution_count": 328,
     "metadata": {},
     "output_type": "execute_result"
    }
   ],
   "source": [
    "T = len(data_f) / (1 - 0.5) - len(data_f)\n",
    "T"
   ]
  },
  {
   "cell_type": "code",
   "execution_count": 329,
   "id": "2413e89c-4d9d-47d9-acaf-66299d2712ac",
   "metadata": {},
   "outputs": [],
   "source": [
    "x_mu = data_t - np.mean(data_t)\n",
    "cov = np.cov(data_t.T)\n",
    "inv_covmat = np.linalg.inv(cov)\n",
    "left = np.dot(x_mu, inv_covmat)\n",
    "mahal = np.dot(left, x_mu.T).diagonal()"
   ]
  },
  {
   "cell_type": "code",
   "execution_count": 330,
   "id": "0758be83-4cca-4494-92e5-8eef4384af37",
   "metadata": {},
   "outputs": [],
   "source": [
    "d= mahal"
   ]
  },
  {
   "cell_type": "code",
   "execution_count": 331,
   "id": "68b90e8c-3880-4091-9dc6-3aa0ec763763",
   "metadata": {},
   "outputs": [],
   "source": [
    "d = pd.DataFrame (mahal,columns=['Malhabonis Distance'])\n",
    "d = d.reset_index(drop=False)\n",
    "d = d.values.tolist()"
   ]
  },
  {
   "cell_type": "code",
   "execution_count": 332,
   "id": "a5dfac67-471c-44da-b852-4c1af001ab02",
   "metadata": {},
   "outputs": [],
   "source": [
    "d.sort(key=lambda x: x[1], reverse=True)"
   ]
  },
  {
   "cell_type": "code",
   "execution_count": 333,
   "id": "ac8e581d-9381-4161-8c9b-21f9ec77e0ad",
   "metadata": {},
   "outputs": [
    {
     "data": {
      "text/plain": [
       "1049"
      ]
     },
     "execution_count": 333,
     "metadata": {},
     "output_type": "execute_result"
    }
   ],
   "source": [
    "k = len(d)\n",
    "k"
   ]
  },
  {
   "cell_type": "code",
   "execution_count": 334,
   "id": "72a05daa-14bd-48c1-b996-607a6fac634e",
   "metadata": {},
   "outputs": [],
   "source": [
    "d_index = [d[i][0] for i in range(k)]"
   ]
  },
  {
   "cell_type": "code",
   "execution_count": 335,
   "id": "d1446134-18f4-4dbb-badb-d6d553620533",
   "metadata": {},
   "outputs": [],
   "source": [
    "d_index = [ int(d) for d in d_index ]"
   ]
  },
  {
   "cell_type": "code",
   "execution_count": 336,
   "id": "aadc6f1d-ab96-4040-995f-13a3ee70697a",
   "metadata": {},
   "outputs": [],
   "source": [
    "data_t_sorted = [data_t[i] for i in d_index]"
   ]
  },
  {
   "cell_type": "code",
   "execution_count": 337,
   "id": "225cd57f-df31-4a7e-b0fc-d05b2d29b309",
   "metadata": {},
   "outputs": [],
   "source": [
    "mid = int(k/2)"
   ]
  },
  {
   "cell_type": "code",
   "execution_count": 338,
   "id": "fc4119e1-47ed-43b2-9c24-15f9bb0a2308",
   "metadata": {},
   "outputs": [],
   "source": [
    "bin1 = [data_t_sorted[i] for i in range(0, mid)]\n",
    "bin2 = [data_t_sorted[i] for i in range(mid, k)]"
   ]
  },
  {
   "cell_type": "code",
   "execution_count": 339,
   "id": "fae38e0f-f395-472e-ad67-493a65904dba",
   "metadata": {},
   "outputs": [
    {
     "data": {
      "text/plain": [
       "524.0"
      ]
     },
     "execution_count": 339,
     "metadata": {},
     "output_type": "execute_result"
    }
   ],
   "source": [
    "l_ = len(bin1)+0.0\n",
    "l_"
   ]
  },
  {
   "cell_type": "code",
   "execution_count": 226,
   "id": "b50bd9aa-a2dc-446c-a614-5fdc6852393c",
   "metadata": {},
   "outputs": [
    {
     "data": {
      "text/plain": [
       "41.208333333333336"
      ]
     },
     "execution_count": 226,
     "metadata": {},
     "output_type": "execute_result"
    }
   ],
   "source": [
    "p = T / l_\n",
    "p"
   ]
  },
  {
   "cell_type": "code",
   "execution_count": 227,
   "id": "e8c31062-93ef-476d-9127-b39bbbeadff4",
   "metadata": {},
   "outputs": [],
   "source": [
    "mark = [1, 3, 7, 15, 31, 63, 127, 255, 511, 1023, 2047]"
   ]
  },
  {
   "cell_type": "code",
   "execution_count": 228,
   "id": "aa39eb49-e314-4950-aacf-30e601768713",
   "metadata": {},
   "outputs": [],
   "source": [
    "mark = [1, 3, 7, 15, 31, 63, 127, 255, 511, 1023, 2047, 4095, 8191, 16383, 32767, 65535, 131071, 262143, 524287]"
   ]
  },
  {
   "cell_type": "code",
   "execution_count": 229,
   "id": "f6b94b4b-439a-4c49-8ea1-37f3ad79498d",
   "metadata": {},
   "outputs": [],
   "source": [
    "g = mark.index([m for m in mark if m > p][0]) + 1"
   ]
  },
  {
   "cell_type": "code",
   "execution_count": 230,
   "id": "d3e8b783-492d-4851-ad07-a5e6e5095abd",
   "metadata": {},
   "outputs": [],
   "source": [
    "k = len(d)\n",
    "d_index = [d[i][0] for i in range(k)]\n",
    "d_index = [ int(d) for d in d_index ]\n",
    "data_t_sorted = [data_t[i] for i in d_index]\n",
    "mid = int(k/2)\n",
    "bin1 = [data_t_sorted[i] for i in range(0, mid)]\n",
    "bin2 = [data_t_sorted[i] for i in range(mid, k)]"
   ]
  },
  {
   "cell_type": "code",
   "execution_count": 231,
   "id": "4690c7c6-231f-4801-b5a7-1623b72b0fe2",
   "metadata": {},
   "outputs": [
    {
     "data": {
      "text/plain": [
       "[array([-0.2623491 , -1.26821614,  2.09339858,  3.81747467, -0.79001501,\n",
       "         2.00096004,  7.0995162 , -1.94123033, -1.92354793, -0.85793975,\n",
       "         1.79408844]),\n",
       " array([-0.20464138, -1.2120378 ,  0.91232444, -0.30383143,  2.69849001,\n",
       "        -1.02867464, -0.93634795, -1.71549285, -1.01724635,  0.85280875,\n",
       "         1.98340789]),\n",
       " array([ 3.83489186, -1.77385609,  0.8609774 , -0.23736331, -0.26464301,\n",
       "        -0.56257503, -0.69097569,  1.7618978 , -1.53512997,  1.02389236,\n",
       "        -1.14031359]),\n",
       " array([ 2.10366277, -0.87494165,  2.50420308,  1.09209538, -0.45377606,\n",
       "        -0.84223776, -0.26158549,  1.95000852, -0.56409331, -0.34471557,\n",
       "         2.4566996 ]),\n",
       " array([ 0.89180036, -0.70639334,  1.32313395,  2.75391449,  0.19769494,\n",
       "        -0.93545298, -0.84433623,  0.98256891, -0.24042109,  0.90984357,\n",
       "         1.2261406 ]),\n",
       " array([ 0.14160377, -1.71767446,  0.45017228, -0.43678094, -0.49580432,\n",
       "         3.44585627,  0.93459985, -0.39333941,  1.05429494,  1.19496871,\n",
       "         0.56353331]),\n",
       " array([-1.6473331 , -0.20075327, -1.24440383, -0.50324816, -0.91611021,\n",
       "         1.11536917,  1.24130582, -3.20964201,  1.24850656,  0.9098418 ,\n",
       "         3.40327892]),\n",
       " array([-1.76275318, -0.31312189, -0.83360062, -0.23736251, -0.83205037,\n",
       "        -0.00325654,  1.30264712, -2.66143699,  1.5074468 ,  1.25199075,\n",
       "         2.99309447]),\n",
       " array([-0.43546926, -1.21203726,  0.34746912, -0.03794132, -0.11752817,\n",
       "         0.92893712, -0.35359324, -1.72624349, -0.56410126, -0.40174244,\n",
       "         1.98340278]),\n",
       " array([ 0.89179777, -1.43676432,  1.1177371 ,  1.62387099, -0.1175299 ,\n",
       "        -0.6557947 , -0.90568115, -1.03828973, -0.7583025 , -0.80091171,\n",
       "         1.98340185]),\n",
       " array([ 2.10365991, -0.14457117,  1.6312366 , -0.76914214, -0.30666433,\n",
       "         0.64927661, -0.13889641,  0.6600958 , -2.50616821,  0.11148262,\n",
       "         0.09024694]),\n",
       " array([-0.89713909,  0.36106832, -1.09035963,  2.28860526, -0.57986106,\n",
       "        -0.46936068, -0.87500426, -0.30734281,  0.66587656, -0.40173728,\n",
       "         0.37421848]),\n",
       " array([-0.95484558, -1.1558464 ,  0.86098274, -0.10441601, -0.55885033,\n",
       "         0.74249777, -0.3842678 , -1.03829465, -0.11094408,  0.79579059,\n",
       "         1.13148301]),\n",
       " array([ 0.94951352, -0.65021445,  0.91232907,  2.42155163, -0.3486991 ,\n",
       "        -0.93545161, -0.99768894,  0.13337936, -0.62882962, -0.97199496,\n",
       "         1.32079731]),\n",
       " array([ 0.08389926, -1.94240323,  1.2204336 , -0.53648819, -0.34869501,\n",
       "         2.70010322,  1.27197965, -0.82330221,  0.14799692,  0.56768539,\n",
       "         1.32079596]),\n",
       " array([-0.55088525, -1.54912311,  0.09071028, -0.23736445, -0.70595498,\n",
       "         0.27640018,  0.07580244, -0.06010644,  0.6011443 ,  0.56768503,\n",
       "         0.46887624]),\n",
       " array([ 0.3147243 , -2.27949203,  0.91232811, -0.50325718, -0.26463756,\n",
       "        -0.56258026, -0.78299155, -0.67281881,  0.66587986,  0.56768357,\n",
       "         1.41545706]),\n",
       " array([ 0.31472918, -2.27949021,  0.91233163, -0.5032538 , -0.26464137,\n",
       "        -0.56257927, -0.78299496, -0.67282047,  0.66588074,  0.56768784,\n",
       "         1.41545516]),\n",
       " array([-0.08922562, -1.09966825,  0.24476464,  0.16147114, -0.4327545 ,\n",
       "        -1.12189397, -1.05903711, -1.09741378, -0.04621338,  0.56768672,\n",
       "         2.26738311]),\n",
       " array([ 0.43014009, -1.54912222,  0.34747166, -0.37030745, -0.3487032 ,\n",
       "         2.70010416,  0.62788529,  0.49348246,  0.86008742,  1.13793835,\n",
       "        -0.19373469]),\n",
       " array([-0.08922509, -1.09967079,  0.60422505, -0.03794159, -0.28565835,\n",
       "         1.20859204,  0.04513289, -0.80181117,  0.08326106,  1.25198901,\n",
       "         1.88874393]),\n",
       " array([-0.08922422, -1.38058139,  0.65557439, -0.10441461, -0.74798792,\n",
       "        -1.12189318, -1.12037329, -1.72624266,  0.14799096,  0.22553374,\n",
       "         2.26737414]),\n",
       " array([ 2.10365893, -1.38058406,  1.11773394, -0.43677535, -0.28565037,\n",
       "        -0.56257729, -0.78299234,  0.44511114, -2.11775041, -0.00256377,\n",
       "        -0.47770565]),\n",
       " array([ 0.48784774, -0.65021488,  1.16908419, -0.0379417 , -0.68494022,\n",
       "        -0.37613761, -0.66031104, -0.84480638,  0.21272965,  0.73876688,\n",
       "         2.74066507])]"
      ]
     },
     "execution_count": 231,
     "metadata": {},
     "output_type": "execute_result"
    }
   ],
   "source": [
    "bin1"
   ]
  },
  {
   "cell_type": "code",
   "execution_count": null,
   "id": "0d9f9969-1fc8-4241-8b3c-4c9d795e69f2",
   "metadata": {},
   "outputs": [],
   "source": [
    "X_train_scaled, X_test_scaled, y_train, y_test = random_under_minority(WineRLvH,'high', 2)"
   ]
  },
  {
   "cell_type": "code",
   "execution_count": 395,
   "id": "e2648e70-bab1-49fa-8a02-bdddd55b5572",
   "metadata": {},
   "outputs": [
    {
     "data": {
      "text/plain": [
       "1"
      ]
     },
     "execution_count": 395,
     "metadata": {},
     "output_type": "execute_result"
    }
   ],
   "source": [
    "minClass = np.argmin(np.bincount(y_train.astype(int)))\n",
    "minClass"
   ]
  },
  {
   "cell_type": "code",
   "execution_count": null,
   "id": "b20fa735-2b92-4c6e-82bf-170511fd8949",
   "metadata": {},
   "outputs": [],
   "source": []
  }
 ],
 "metadata": {
  "kernelspec": {
   "display_name": "Python 3",
   "language": "python",
   "name": "python3"
  },
  "language_info": {
   "codemirror_mode": {
    "name": "ipython",
    "version": 3
   },
   "file_extension": ".py",
   "mimetype": "text/x-python",
   "name": "python",
   "nbconvert_exporter": "python",
   "pygments_lexer": "ipython3",
   "version": "3.8.10"
  }
 },
 "nbformat": 4,
 "nbformat_minor": 5
}
