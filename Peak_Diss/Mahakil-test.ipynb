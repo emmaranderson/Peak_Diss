{
 "cells": [
  {
   "cell_type": "code",
   "execution_count": 13,
   "id": "53d9519a-0bc3-4443-bd7e-83e58a83778f",
   "metadata": {},
   "outputs": [],
   "source": [
    "import pandas as pd\n",
    "import numpy as np\n",
    "from copy import deepcopy\n",
    "from random import randint \n",
    "import time\n",
    "import random \n",
    "import matplotlib.pyplot as plt\n",
    "from sklearn.model_selection import train_test_split\n",
    "from sklearn.preprocessing import LabelEncoder, MinMaxScaler, StandardScaler\n",
    "from sklearn.naive_bayes import GaussianNB\n",
    "from sklearn.neighbors import KNeighborsClassifier\n",
    "from sklearn.ensemble import RandomForestClassifier\n",
    "from sklearn.cluster import KMeans\n",
    "from sklearn.metrics import silhouette_score\n",
    "from sklearn.decomposition import PCA\n",
    "from sklearn.model_selection import GridSearchCV\n",
    "from sklearn.metrics import f1_score, recall_score, precision_score, confusion_matrix, plot_confusion_matrix\n",
    "from imblearn.metrics import geometric_mean_score\n",
    "from sklearn.metrics import roc_auc_score\n",
    "from collections import Counter\n",
    "from sklearn.datasets import make_classification\n",
    "from imblearn.over_sampling import SMOTE\n",
    "from sklearn.utils import shuffle\n",
    "from sklearn import metrics"
   ]
  },
  {
   "cell_type": "code",
   "execution_count": 14,
   "id": "3d1127aa-5215-49b7-acbd-552ffbdb8be7",
   "metadata": {},
   "outputs": [],
   "source": [
    "#from orion.contrib.envs import load_env\n",
    "#load_env()\n",
    "import boto3\n",
    "#from orion.sources import S3Source\n",
    "aws_bucket = 'kilimanjaro-prod-datalake'\n",
    "s3 = boto3.client('s3')"
   ]
  },
  {
   "cell_type": "code",
   "execution_count": 15,
   "id": "5fd4f2ea-70f8-4936-aa35-1fd3c705d507",
   "metadata": {},
   "outputs": [],
   "source": [
    "import warnings\n",
    "warnings.simplefilter(action='ignore', category=FutureWarning)"
   ]
  },
  {
   "cell_type": "code",
   "execution_count": 16,
   "id": "be7d5ecc-65e7-4272-b4d5-56685b95a468",
   "metadata": {},
   "outputs": [],
   "source": [
    "object_ = 'masters/datascience/emma/retail.csv'\n",
    "retail = s3.get_object(Bucket=aws_bucket, Key=object_)\n",
    "retail = pd.read_csv(retail['Body'], index_col=0)"
   ]
  },
  {
   "cell_type": "code",
   "execution_count": 17,
   "id": "9b83a439-6ee4-4008-8128-d1a9c64f1ef1",
   "metadata": {},
   "outputs": [
    {
     "data": {
      "text/html": [
       "<div>\n",
       "<style scoped>\n",
       "    .dataframe tbody tr th:only-of-type {\n",
       "        vertical-align: middle;\n",
       "    }\n",
       "\n",
       "    .dataframe tbody tr th {\n",
       "        vertical-align: top;\n",
       "    }\n",
       "\n",
       "    .dataframe thead th {\n",
       "        text-align: right;\n",
       "    }\n",
       "</style>\n",
       "<table border=\"1\" class=\"dataframe\">\n",
       "  <thead>\n",
       "    <tr style=\"text-align: right;\">\n",
       "      <th></th>\n",
       "      <th>ASP</th>\n",
       "      <th>cluster</th>\n",
       "      <th>loyaltyaccount_No</th>\n",
       "      <th>loyaltyaccount_Yes</th>\n",
       "      <th>gender_female</th>\n",
       "      <th>gender_male</th>\n",
       "      <th>gender_unknown</th>\n",
       "      <th>shipcountry_Albania</th>\n",
       "      <th>shipcountry_Armenia</th>\n",
       "      <th>shipcountry_Australia</th>\n",
       "      <th>...</th>\n",
       "      <th>category_Childrens</th>\n",
       "      <th>category_Infant</th>\n",
       "      <th>category_Junior</th>\n",
       "      <th>category_Mens</th>\n",
       "      <th>category_Miscellaneous</th>\n",
       "      <th>category_Nursery</th>\n",
       "      <th>category_Womens</th>\n",
       "      <th>divisioncode_ACCESSORY</th>\n",
       "      <th>divisioncode_APPAREL</th>\n",
       "      <th>divisioncode_FOOTWEAR</th>\n",
       "    </tr>\n",
       "  </thead>\n",
       "  <tbody>\n",
       "    <tr>\n",
       "      <th>0</th>\n",
       "      <td>59.92</td>\n",
       "      <td>0</td>\n",
       "      <td>0</td>\n",
       "      <td>1</td>\n",
       "      <td>1</td>\n",
       "      <td>0</td>\n",
       "      <td>0</td>\n",
       "      <td>0</td>\n",
       "      <td>0</td>\n",
       "      <td>0</td>\n",
       "      <td>...</td>\n",
       "      <td>0</td>\n",
       "      <td>0</td>\n",
       "      <td>0</td>\n",
       "      <td>1</td>\n",
       "      <td>0</td>\n",
       "      <td>0</td>\n",
       "      <td>0</td>\n",
       "      <td>0</td>\n",
       "      <td>1</td>\n",
       "      <td>0</td>\n",
       "    </tr>\n",
       "  </tbody>\n",
       "</table>\n",
       "<p>1 rows × 85 columns</p>\n",
       "</div>"
      ],
      "text/plain": [
       "     ASP  cluster  loyaltyaccount_No  loyaltyaccount_Yes  gender_female  \\\n",
       "0  59.92        0                  0                   1              1   \n",
       "\n",
       "   gender_male  gender_unknown  shipcountry_Albania  shipcountry_Armenia  \\\n",
       "0            0               0                    0                    0   \n",
       "\n",
       "   shipcountry_Australia  ...  category_Childrens  category_Infant  \\\n",
       "0                      0  ...                   0                0   \n",
       "\n",
       "   category_Junior  category_Mens  category_Miscellaneous  category_Nursery  \\\n",
       "0                0              1                       0                 0   \n",
       "\n",
       "   category_Womens  divisioncode_ACCESSORY  divisioncode_APPAREL  \\\n",
       "0                0                       0                     1   \n",
       "\n",
       "   divisioncode_FOOTWEAR  \n",
       "0                      0  \n",
       "\n",
       "[1 rows x 85 columns]"
      ]
     },
     "execution_count": 17,
     "metadata": {},
     "output_type": "execute_result"
    }
   ],
   "source": [
    "retail = retail.rename(columns={'class':'cluster'})\n",
    "retail.head(1)"
   ]
  },
  {
   "cell_type": "code",
   "execution_count": 18,
   "id": "49394401-fabf-48c8-bff2-1e8e5deb34d8",
   "metadata": {},
   "outputs": [],
   "source": [
    "wine_white = pd.read_csv('winequality-white.csv', delimiter=';')\n",
    "wine_red = pd.read_csv('winequality-red.csv', delimiter=';')"
   ]
  },
  {
   "cell_type": "code",
   "execution_count": 140,
   "id": "f108e656-9516-408c-bae6-24defad0ff6b",
   "metadata": {},
   "outputs": [
    {
     "name": "stdout",
     "output_type": "stream",
     "text": [
      "0    217\n",
      "1     63\n",
      "Name: class, dtype: int64\n"
     ]
    }
   ],
   "source": [
    "# Red Wine Quality Low vs High\n",
    "WineRLvH = deepcopy(wine_red)\n",
    "WineRLvH = WineRLvH[(WineRLvH['quality'] <5)| (WineRLvH['quality'] >6)]\n",
    "WineRLvH.loc[WineRLvH.quality >= 7, \"class\"] = 0\n",
    "WineRLvH.loc[WineRLvH.quality <= 4, \"class\"] = 1\n",
    "WineRLvH['class'] = WineRLvH['class'].astype(\"int\")\n",
    "WineRLvH['class'] = WineRLvH['class'].astype(\"category\")\n",
    "WineRLvH = WineRLvH.drop(columns=['quality'])\n",
    "print(WineRLvH['class'].value_counts())\n",
    "WineRLvH.name ='D12 - Wine_red_LvH'"
   ]
  },
  {
   "cell_type": "code",
   "execution_count": 279,
   "id": "6555cfd9-0927-41f5-83d5-5021d02cd772",
   "metadata": {},
   "outputs": [
    {
     "name": "stdout",
     "output_type": "stream",
     "text": [
      "0    1060\n",
      "1     183\n",
      "Name: class, dtype: int64\n"
     ]
    }
   ],
   "source": [
    "# White Wine Quality Low vs High\n",
    "WineWLvH = deepcopy(wine_white)\n",
    "WineWLvH = WineWLvH[(WineWLvH['quality'] <5)| (WineWLvH['quality'] >6)]\n",
    "WineWLvH.loc[WineWLvH.quality >= 7, \"class\"] = 0\n",
    "WineWLvH.loc[WineWLvH.quality <= 4, \"class\"] = 1\n",
    "WineWLvH['class'] = WineWLvH['class'].astype(\"int\")\n",
    "WineWLvH['class'] = WineWLvH['class'].astype(\"category\")\n",
    "WineWLvH = WineWLvH.drop(columns=['quality'])\n",
    "print(WineWLvH['class'].value_counts())\n",
    "WineWLvH.name = 'D10 - Wine_white_LvH'"
   ]
  },
  {
   "cell_type": "code",
   "execution_count": 10,
   "id": "0176c23a-ac11-4294-9ec0-9e5cf07f430e",
   "metadata": {},
   "outputs": [
    {
     "name": "stdout",
     "output_type": "stream",
     "text": [
      "0    1935848\n",
      "1     269025\n",
      "Name: class, dtype: int64\n"
     ]
    }
   ],
   "source": [
    "# Cust Summary focusing on singular minority\n",
    "cust_sum2 = deepcopy(retail)\n",
    "cust_sum2.loc[cust_sum2.cluster ==0, \"class\"] = 0\n",
    "cust_sum2.loc[cust_sum2.cluster >= 1, \"class\"] = 1\n",
    "cust_sum2['class'] = cust_sum2['class'].astype(\"int\")\n",
    "cust_sum2['class'] = cust_sum2['class'].astype(\"category\")\n",
    "cust_sum2 = cust_sum2.drop(columns=['cluster'])\n",
    "print(cust_sum2['class'].value_counts())\n",
    "cust_sum2.name ='Retail Data -2'"
   ]
  },
  {
   "cell_type": "code",
   "execution_count": 293,
   "id": "5a0d8f45-847a-4e5b-b1d1-c9d01e4e0d43",
   "metadata": {},
   "outputs": [],
   "source": [
    "# train test/ scaling\n",
    "def data_prep (data, seed):\n",
    "  X= data.drop('class',axis=1).copy()\n",
    "  y = data['class'].copy()\n",
    "  y = y.astype('category')\n",
    "  X_train, X_test, y_train, y_test = train_test_split(X, y, test_size=0.25, random_state=seed, shuffle=y, stratify=y) # add ssed\n",
    "\n",
    "  scaler = StandardScaler()\n",
    "  scaler.fit(X_train)\n",
    "  X_train_scaled = scaler.transform(X_train)\n",
    "  X_test_scaled = scaler.transform(X_test)\n",
    "\n",
    "  X_train_scaled = pd.DataFrame(X_train_scaled, columns = X_train.columns)\n",
    "  X_test_scaled = pd.DataFrame(X_test_scaled, columns = X_test.columns)\n",
    "\n",
    "  return X_train_scaled, X_test_scaled, y_train, y_test"
   ]
  },
  {
   "cell_type": "code",
   "execution_count": 320,
   "id": "748fa21d-a199-4865-8d64-5aad0494f2a0",
   "metadata": {},
   "outputs": [],
   "source": [
    "X_train_scaled, X_test_scaled, y_train, y_test = data_prep(cust_sum2, 3)"
   ]
  },
  {
   "cell_type": "code",
   "execution_count": 321,
   "id": "77e168ec-d612-4dea-9c35-3b9d6205f52b",
   "metadata": {},
   "outputs": [
    {
     "data": {
      "text/plain": [
       "1653654"
      ]
     },
     "execution_count": 321,
     "metadata": {},
     "output_type": "execute_result"
    }
   ],
   "source": [
    "len(X_train_scaled)"
   ]
  },
  {
   "cell_type": "code",
   "execution_count": 322,
   "id": "5408561d-63e0-4ecd-a263-54a6175be295",
   "metadata": {},
   "outputs": [
    {
     "data": {
      "text/html": [
       "<div>\n",
       "<style scoped>\n",
       "    .dataframe tbody tr th:only-of-type {\n",
       "        vertical-align: middle;\n",
       "    }\n",
       "\n",
       "    .dataframe tbody tr th {\n",
       "        vertical-align: top;\n",
       "    }\n",
       "\n",
       "    .dataframe thead th {\n",
       "        text-align: right;\n",
       "    }\n",
       "</style>\n",
       "<table border=\"1\" class=\"dataframe\">\n",
       "  <thead>\n",
       "    <tr style=\"text-align: right;\">\n",
       "      <th></th>\n",
       "      <th>ASP</th>\n",
       "      <th>loyaltyaccount_No</th>\n",
       "      <th>loyaltyaccount_Yes</th>\n",
       "      <th>gender_female</th>\n",
       "      <th>gender_male</th>\n",
       "      <th>gender_unknown</th>\n",
       "      <th>shipcountry_Albania</th>\n",
       "      <th>shipcountry_Armenia</th>\n",
       "      <th>shipcountry_Australia</th>\n",
       "      <th>shipcountry_Austria</th>\n",
       "      <th>...</th>\n",
       "      <th>category_Childrens</th>\n",
       "      <th>category_Infant</th>\n",
       "      <th>category_Junior</th>\n",
       "      <th>category_Mens</th>\n",
       "      <th>category_Miscellaneous</th>\n",
       "      <th>category_Nursery</th>\n",
       "      <th>category_Womens</th>\n",
       "      <th>divisioncode_ACCESSORY</th>\n",
       "      <th>divisioncode_APPAREL</th>\n",
       "      <th>divisioncode_FOOTWEAR</th>\n",
       "    </tr>\n",
       "  </thead>\n",
       "  <tbody>\n",
       "    <tr>\n",
       "      <th>0</th>\n",
       "      <td>0.426793</td>\n",
       "      <td>-1.187911</td>\n",
       "      <td>1.187911</td>\n",
       "      <td>0.992984</td>\n",
       "      <td>-0.917115</td>\n",
       "      <td>-0.203148</td>\n",
       "      <td>-0.004979</td>\n",
       "      <td>-0.002199</td>\n",
       "      <td>-0.040373</td>\n",
       "      <td>-0.009525</td>\n",
       "      <td>...</td>\n",
       "      <td>-0.043028</td>\n",
       "      <td>-0.118682</td>\n",
       "      <td>-0.405054</td>\n",
       "      <td>-1.208662</td>\n",
       "      <td>-0.266557</td>\n",
       "      <td>-0.114176</td>\n",
       "      <td>2.518249</td>\n",
       "      <td>-0.30401</td>\n",
       "      <td>1.415001</td>\n",
       "      <td>-1.180731</td>\n",
       "    </tr>\n",
       "    <tr>\n",
       "      <th>1</th>\n",
       "      <td>-0.997094</td>\n",
       "      <td>0.841814</td>\n",
       "      <td>-0.841814</td>\n",
       "      <td>-1.007065</td>\n",
       "      <td>1.090376</td>\n",
       "      <td>-0.203148</td>\n",
       "      <td>-0.004979</td>\n",
       "      <td>-0.002199</td>\n",
       "      <td>-0.040373</td>\n",
       "      <td>-0.009525</td>\n",
       "      <td>...</td>\n",
       "      <td>-0.043028</td>\n",
       "      <td>-0.118682</td>\n",
       "      <td>-0.405054</td>\n",
       "      <td>0.827361</td>\n",
       "      <td>-0.266557</td>\n",
       "      <td>-0.114176</td>\n",
       "      <td>-0.397101</td>\n",
       "      <td>-0.30401</td>\n",
       "      <td>1.415001</td>\n",
       "      <td>-1.180731</td>\n",
       "    </tr>\n",
       "    <tr>\n",
       "      <th>2</th>\n",
       "      <td>-1.007324</td>\n",
       "      <td>0.841814</td>\n",
       "      <td>-0.841814</td>\n",
       "      <td>0.992984</td>\n",
       "      <td>-0.917115</td>\n",
       "      <td>-0.203148</td>\n",
       "      <td>-0.004979</td>\n",
       "      <td>-0.002199</td>\n",
       "      <td>-0.040373</td>\n",
       "      <td>-0.009525</td>\n",
       "      <td>...</td>\n",
       "      <td>-0.043028</td>\n",
       "      <td>-0.118682</td>\n",
       "      <td>-0.405054</td>\n",
       "      <td>0.827361</td>\n",
       "      <td>-0.266557</td>\n",
       "      <td>-0.114176</td>\n",
       "      <td>-0.397101</td>\n",
       "      <td>-0.30401</td>\n",
       "      <td>1.415001</td>\n",
       "      <td>-1.180731</td>\n",
       "    </tr>\n",
       "    <tr>\n",
       "      <th>3</th>\n",
       "      <td>-0.203488</td>\n",
       "      <td>0.841814</td>\n",
       "      <td>-0.841814</td>\n",
       "      <td>-1.007065</td>\n",
       "      <td>-0.917115</td>\n",
       "      <td>4.922521</td>\n",
       "      <td>-0.004979</td>\n",
       "      <td>-0.002199</td>\n",
       "      <td>-0.040373</td>\n",
       "      <td>-0.009525</td>\n",
       "      <td>...</td>\n",
       "      <td>-0.043028</td>\n",
       "      <td>-0.118682</td>\n",
       "      <td>2.468806</td>\n",
       "      <td>-1.208662</td>\n",
       "      <td>-0.266557</td>\n",
       "      <td>-0.114176</td>\n",
       "      <td>-0.397101</td>\n",
       "      <td>-0.30401</td>\n",
       "      <td>-0.706713</td>\n",
       "      <td>0.846933</td>\n",
       "    </tr>\n",
       "    <tr>\n",
       "      <th>4</th>\n",
       "      <td>1.865296</td>\n",
       "      <td>0.841814</td>\n",
       "      <td>-0.841814</td>\n",
       "      <td>0.992984</td>\n",
       "      <td>-0.917115</td>\n",
       "      <td>-0.203148</td>\n",
       "      <td>-0.004979</td>\n",
       "      <td>-0.002199</td>\n",
       "      <td>-0.040373</td>\n",
       "      <td>-0.009525</td>\n",
       "      <td>...</td>\n",
       "      <td>-0.043028</td>\n",
       "      <td>-0.118682</td>\n",
       "      <td>-0.405054</td>\n",
       "      <td>-1.208662</td>\n",
       "      <td>-0.266557</td>\n",
       "      <td>-0.114176</td>\n",
       "      <td>2.518249</td>\n",
       "      <td>-0.30401</td>\n",
       "      <td>-0.706713</td>\n",
       "      <td>0.846933</td>\n",
       "    </tr>\n",
       "    <tr>\n",
       "      <th>...</th>\n",
       "      <td>...</td>\n",
       "      <td>...</td>\n",
       "      <td>...</td>\n",
       "      <td>...</td>\n",
       "      <td>...</td>\n",
       "      <td>...</td>\n",
       "      <td>...</td>\n",
       "      <td>...</td>\n",
       "      <td>...</td>\n",
       "      <td>...</td>\n",
       "      <td>...</td>\n",
       "      <td>...</td>\n",
       "      <td>...</td>\n",
       "      <td>...</td>\n",
       "      <td>...</td>\n",
       "      <td>...</td>\n",
       "      <td>...</td>\n",
       "      <td>...</td>\n",
       "      <td>...</td>\n",
       "      <td>...</td>\n",
       "      <td>...</td>\n",
       "    </tr>\n",
       "    <tr>\n",
       "      <th>1653649</th>\n",
       "      <td>0.334352</td>\n",
       "      <td>-1.187911</td>\n",
       "      <td>1.187911</td>\n",
       "      <td>-1.007065</td>\n",
       "      <td>1.090376</td>\n",
       "      <td>-0.203148</td>\n",
       "      <td>-0.004979</td>\n",
       "      <td>-0.002199</td>\n",
       "      <td>-0.040373</td>\n",
       "      <td>-0.009525</td>\n",
       "      <td>...</td>\n",
       "      <td>-0.043028</td>\n",
       "      <td>-0.118682</td>\n",
       "      <td>-0.405054</td>\n",
       "      <td>0.827361</td>\n",
       "      <td>-0.266557</td>\n",
       "      <td>-0.114176</td>\n",
       "      <td>-0.397101</td>\n",
       "      <td>-0.30401</td>\n",
       "      <td>1.415001</td>\n",
       "      <td>-1.180731</td>\n",
       "    </tr>\n",
       "    <tr>\n",
       "      <th>1653650</th>\n",
       "      <td>0.436659</td>\n",
       "      <td>0.841814</td>\n",
       "      <td>-0.841814</td>\n",
       "      <td>0.992984</td>\n",
       "      <td>-0.917115</td>\n",
       "      <td>-0.203148</td>\n",
       "      <td>-0.004979</td>\n",
       "      <td>-0.002199</td>\n",
       "      <td>-0.040373</td>\n",
       "      <td>-0.009525</td>\n",
       "      <td>...</td>\n",
       "      <td>-0.043028</td>\n",
       "      <td>-0.118682</td>\n",
       "      <td>2.468806</td>\n",
       "      <td>-1.208662</td>\n",
       "      <td>-0.266557</td>\n",
       "      <td>-0.114176</td>\n",
       "      <td>-0.397101</td>\n",
       "      <td>-0.30401</td>\n",
       "      <td>-0.706713</td>\n",
       "      <td>0.846933</td>\n",
       "    </tr>\n",
       "    <tr>\n",
       "      <th>1653651</th>\n",
       "      <td>-0.872134</td>\n",
       "      <td>0.841814</td>\n",
       "      <td>-0.841814</td>\n",
       "      <td>-1.007065</td>\n",
       "      <td>-0.917115</td>\n",
       "      <td>4.922521</td>\n",
       "      <td>-0.004979</td>\n",
       "      <td>-0.002199</td>\n",
       "      <td>-0.040373</td>\n",
       "      <td>-0.009525</td>\n",
       "      <td>...</td>\n",
       "      <td>-0.043028</td>\n",
       "      <td>-0.118682</td>\n",
       "      <td>2.468806</td>\n",
       "      <td>-1.208662</td>\n",
       "      <td>-0.266557</td>\n",
       "      <td>-0.114176</td>\n",
       "      <td>-0.397101</td>\n",
       "      <td>-0.30401</td>\n",
       "      <td>-0.706713</td>\n",
       "      <td>0.846933</td>\n",
       "    </tr>\n",
       "    <tr>\n",
       "      <th>1653652</th>\n",
       "      <td>0.517773</td>\n",
       "      <td>-1.187911</td>\n",
       "      <td>1.187911</td>\n",
       "      <td>0.992984</td>\n",
       "      <td>-0.917115</td>\n",
       "      <td>-0.203148</td>\n",
       "      <td>-0.004979</td>\n",
       "      <td>-0.002199</td>\n",
       "      <td>-0.040373</td>\n",
       "      <td>-0.009525</td>\n",
       "      <td>...</td>\n",
       "      <td>-0.043028</td>\n",
       "      <td>-0.118682</td>\n",
       "      <td>-0.405054</td>\n",
       "      <td>0.827361</td>\n",
       "      <td>-0.266557</td>\n",
       "      <td>-0.114176</td>\n",
       "      <td>-0.397101</td>\n",
       "      <td>-0.30401</td>\n",
       "      <td>1.415001</td>\n",
       "      <td>-1.180731</td>\n",
       "    </tr>\n",
       "    <tr>\n",
       "      <th>1653653</th>\n",
       "      <td>0.346044</td>\n",
       "      <td>-1.187911</td>\n",
       "      <td>1.187911</td>\n",
       "      <td>0.992984</td>\n",
       "      <td>-0.917115</td>\n",
       "      <td>-0.203148</td>\n",
       "      <td>-0.004979</td>\n",
       "      <td>-0.002199</td>\n",
       "      <td>-0.040373</td>\n",
       "      <td>-0.009525</td>\n",
       "      <td>...</td>\n",
       "      <td>-0.043028</td>\n",
       "      <td>-0.118682</td>\n",
       "      <td>-0.405054</td>\n",
       "      <td>-1.208662</td>\n",
       "      <td>-0.266557</td>\n",
       "      <td>-0.114176</td>\n",
       "      <td>2.518249</td>\n",
       "      <td>-0.30401</td>\n",
       "      <td>-0.706713</td>\n",
       "      <td>0.846933</td>\n",
       "    </tr>\n",
       "  </tbody>\n",
       "</table>\n",
       "<p>1653654 rows × 84 columns</p>\n",
       "</div>"
      ],
      "text/plain": [
       "              ASP  loyaltyaccount_No  loyaltyaccount_Yes  gender_female  \\\n",
       "0        0.426793          -1.187911            1.187911       0.992984   \n",
       "1       -0.997094           0.841814           -0.841814      -1.007065   \n",
       "2       -1.007324           0.841814           -0.841814       0.992984   \n",
       "3       -0.203488           0.841814           -0.841814      -1.007065   \n",
       "4        1.865296           0.841814           -0.841814       0.992984   \n",
       "...           ...                ...                 ...            ...   \n",
       "1653649  0.334352          -1.187911            1.187911      -1.007065   \n",
       "1653650  0.436659           0.841814           -0.841814       0.992984   \n",
       "1653651 -0.872134           0.841814           -0.841814      -1.007065   \n",
       "1653652  0.517773          -1.187911            1.187911       0.992984   \n",
       "1653653  0.346044          -1.187911            1.187911       0.992984   \n",
       "\n",
       "         gender_male  gender_unknown  shipcountry_Albania  \\\n",
       "0          -0.917115       -0.203148            -0.004979   \n",
       "1           1.090376       -0.203148            -0.004979   \n",
       "2          -0.917115       -0.203148            -0.004979   \n",
       "3          -0.917115        4.922521            -0.004979   \n",
       "4          -0.917115       -0.203148            -0.004979   \n",
       "...              ...             ...                  ...   \n",
       "1653649     1.090376       -0.203148            -0.004979   \n",
       "1653650    -0.917115       -0.203148            -0.004979   \n",
       "1653651    -0.917115        4.922521            -0.004979   \n",
       "1653652    -0.917115       -0.203148            -0.004979   \n",
       "1653653    -0.917115       -0.203148            -0.004979   \n",
       "\n",
       "         shipcountry_Armenia  shipcountry_Australia  shipcountry_Austria  ...  \\\n",
       "0                  -0.002199              -0.040373            -0.009525  ...   \n",
       "1                  -0.002199              -0.040373            -0.009525  ...   \n",
       "2                  -0.002199              -0.040373            -0.009525  ...   \n",
       "3                  -0.002199              -0.040373            -0.009525  ...   \n",
       "4                  -0.002199              -0.040373            -0.009525  ...   \n",
       "...                      ...                    ...                  ...  ...   \n",
       "1653649            -0.002199              -0.040373            -0.009525  ...   \n",
       "1653650            -0.002199              -0.040373            -0.009525  ...   \n",
       "1653651            -0.002199              -0.040373            -0.009525  ...   \n",
       "1653652            -0.002199              -0.040373            -0.009525  ...   \n",
       "1653653            -0.002199              -0.040373            -0.009525  ...   \n",
       "\n",
       "         category_Childrens  category_Infant  category_Junior  category_Mens  \\\n",
       "0                 -0.043028        -0.118682        -0.405054      -1.208662   \n",
       "1                 -0.043028        -0.118682        -0.405054       0.827361   \n",
       "2                 -0.043028        -0.118682        -0.405054       0.827361   \n",
       "3                 -0.043028        -0.118682         2.468806      -1.208662   \n",
       "4                 -0.043028        -0.118682        -0.405054      -1.208662   \n",
       "...                     ...              ...              ...            ...   \n",
       "1653649           -0.043028        -0.118682        -0.405054       0.827361   \n",
       "1653650           -0.043028        -0.118682         2.468806      -1.208662   \n",
       "1653651           -0.043028        -0.118682         2.468806      -1.208662   \n",
       "1653652           -0.043028        -0.118682        -0.405054       0.827361   \n",
       "1653653           -0.043028        -0.118682        -0.405054      -1.208662   \n",
       "\n",
       "         category_Miscellaneous  category_Nursery  category_Womens  \\\n",
       "0                     -0.266557         -0.114176         2.518249   \n",
       "1                     -0.266557         -0.114176        -0.397101   \n",
       "2                     -0.266557         -0.114176        -0.397101   \n",
       "3                     -0.266557         -0.114176        -0.397101   \n",
       "4                     -0.266557         -0.114176         2.518249   \n",
       "...                         ...               ...              ...   \n",
       "1653649               -0.266557         -0.114176        -0.397101   \n",
       "1653650               -0.266557         -0.114176        -0.397101   \n",
       "1653651               -0.266557         -0.114176        -0.397101   \n",
       "1653652               -0.266557         -0.114176        -0.397101   \n",
       "1653653               -0.266557         -0.114176         2.518249   \n",
       "\n",
       "         divisioncode_ACCESSORY  divisioncode_APPAREL  divisioncode_FOOTWEAR  \n",
       "0                      -0.30401              1.415001              -1.180731  \n",
       "1                      -0.30401              1.415001              -1.180731  \n",
       "2                      -0.30401              1.415001              -1.180731  \n",
       "3                      -0.30401             -0.706713               0.846933  \n",
       "4                      -0.30401             -0.706713               0.846933  \n",
       "...                         ...                   ...                    ...  \n",
       "1653649                -0.30401              1.415001              -1.180731  \n",
       "1653650                -0.30401             -0.706713               0.846933  \n",
       "1653651                -0.30401             -0.706713               0.846933  \n",
       "1653652                -0.30401              1.415001              -1.180731  \n",
       "1653653                -0.30401             -0.706713               0.846933  \n",
       "\n",
       "[1653654 rows x 84 columns]"
      ]
     },
     "execution_count": 322,
     "metadata": {},
     "output_type": "execute_result"
    }
   ],
   "source": [
    "X_train_scaled"
   ]
  },
  {
   "cell_type": "code",
   "execution_count": 323,
   "id": "c2bfedc7-fbc7-44b0-aef5-384cf865b0d6",
   "metadata": {},
   "outputs": [],
   "source": [
    "y_train = y_train.reset_index(drop=True)\n",
    "X_train_scaled = X_train_scaled.reset_index(drop=True)\n",
    "X_train_scaled['class'] = y_train"
   ]
  },
  {
   "cell_type": "code",
   "execution_count": 324,
   "id": "6cd59987-7e4c-44bc-accc-6e748279030d",
   "metadata": {},
   "outputs": [],
   "source": [
    "label_f = np.array(y_train[y_train==0])\n",
    "label_t = np.array(y_train[y_train==1])"
   ]
  },
  {
   "cell_type": "code",
   "execution_count": 325,
   "id": "4883f652-8a81-425b-9215-952e498f54f9",
   "metadata": {},
   "outputs": [],
   "source": [
    "data_f = np.array(X_train_scaled[y_train==0])\n",
    "data_t = np.array(X_train_scaled[y_train==1])"
   ]
  },
  {
   "cell_type": "code",
   "execution_count": 326,
   "id": "682c7b8c-9fa3-4b8b-a68a-384b45e620b9",
   "metadata": {},
   "outputs": [
    {
     "data": {
      "text/plain": [
       "201769"
      ]
     },
     "execution_count": 326,
     "metadata": {},
     "output_type": "execute_result"
    }
   ],
   "source": [
    "len(data_t)"
   ]
  },
  {
   "cell_type": "code",
   "execution_count": 327,
   "id": "42766041-45c4-4d1a-be6f-1e1689ac0d3f",
   "metadata": {},
   "outputs": [
    {
     "data": {
      "text/plain": [
       "1451885"
      ]
     },
     "execution_count": 327,
     "metadata": {},
     "output_type": "execute_result"
    }
   ],
   "source": [
    "len(data_f)"
   ]
  },
  {
   "cell_type": "code",
   "execution_count": 328,
   "id": "461a650e-f79b-4802-b958-a2865dde46a1",
   "metadata": {},
   "outputs": [
    {
     "data": {
      "text/plain": [
       "(201769, 85)"
      ]
     },
     "execution_count": 328,
     "metadata": {},
     "output_type": "execute_result"
    }
   ],
   "source": [
    "data_t.shape"
   ]
  },
  {
   "cell_type": "code",
   "execution_count": 356,
   "id": "6975b4ea-d113-4b8f-97fb-0e6fb19c2213",
   "metadata": {},
   "outputs": [],
   "source": [
    "x_mu = data_t - np.mean(data_t)"
   ]
  },
  {
   "cell_type": "code",
   "execution_count": 362,
   "id": "13d78a60-f3de-409a-9066-f73d5625c90a",
   "metadata": {},
   "outputs": [
    {
     "data": {
      "text/plain": [
       "(201769, 85)"
      ]
     },
     "execution_count": 362,
     "metadata": {},
     "output_type": "execute_result"
    }
   ],
   "source": [
    "x_mu.shape"
   ]
  },
  {
   "cell_type": "code",
   "execution_count": 336,
   "id": "e80bd40a-7449-4928-af3c-8639cc4649bd",
   "metadata": {},
   "outputs": [],
   "source": [
    "data_t = data_t+0.00001*np.random.rand((data_t.shape)[0],(data_t.shape)[1])"
   ]
  },
  {
   "cell_type": "code",
   "execution_count": 357,
   "id": "f3256003-f735-4e17-968c-01db4e9b6118",
   "metadata": {},
   "outputs": [],
   "source": [
    "cov = np.cov(data_t.T)"
   ]
  },
  {
   "cell_type": "code",
   "execution_count": 358,
   "id": "deb5d601-70c0-4228-abc1-09b460b620f5",
   "metadata": {},
   "outputs": [],
   "source": [
    "inv_covmat = np.linalg.inv(cov)"
   ]
  },
  {
   "cell_type": "code",
   "execution_count": 359,
   "id": "24827d90-2e37-49c0-b0c2-732f8a65faec",
   "metadata": {},
   "outputs": [
    {
     "data": {
      "text/plain": [
       "array([[ 2.19548517e+00,  6.68392637e+02,  6.68341503e+02, ...,\n",
       "         8.33124403e+02,  8.71166753e+02,  5.28437901e+02],\n",
       "       [ 6.68393495e+02,  5.99975894e+10,  5.99975892e+10, ...,\n",
       "        -9.66306195e+07, -1.01113484e+08,  3.17566046e+08],\n",
       "       [ 6.68342361e+02,  5.99975892e+10,  5.99975889e+10, ...,\n",
       "        -9.66298060e+07, -1.01112632e+08,  3.17567431e+08],\n",
       "       ...,\n",
       "       [ 8.33117754e+02, -9.66491986e+07, -9.66483851e+07, ...,\n",
       "         4.91787252e+10,  5.14598092e+10, -2.11683732e+08],\n",
       "       [ 8.71159813e+02, -1.01133132e+08, -1.01132281e+08, ...,\n",
       "         5.14598092e+10,  5.38466980e+10, -2.21501021e+08],\n",
       "       [ 5.28437886e+02,  3.17566440e+08,  3.17567825e+08, ...,\n",
       "        -2.11686120e+08, -2.21503520e+08,  1.19876242e+11]])"
      ]
     },
     "execution_count": 359,
     "metadata": {},
     "output_type": "execute_result"
    }
   ],
   "source": [
    "inv_covmat"
   ]
  },
  {
   "cell_type": "code",
   "execution_count": 340,
   "id": "6d358b81-3897-402e-9331-d77cb3198435",
   "metadata": {},
   "outputs": [
    {
     "ename": "MemoryError",
     "evalue": "Unable to allocate 303. GiB for an array with shape (201769, 201769) and data type float64",
     "output_type": "error",
     "traceback": [
      "\u001b[0;31m---------------------------------------------------------------------------\u001b[0m",
      "\u001b[0;31mMemoryError\u001b[0m                               Traceback (most recent call last)",
      "\u001b[0;32m<ipython-input-340-4feb603e8843>\u001b[0m in \u001b[0;36m<module>\u001b[0;34m\u001b[0m\n\u001b[1;32m      1\u001b[0m \u001b[0mleft\u001b[0m \u001b[0;34m=\u001b[0m \u001b[0mnp\u001b[0m\u001b[0;34m.\u001b[0m\u001b[0mdot\u001b[0m\u001b[0;34m(\u001b[0m\u001b[0mx_mu\u001b[0m\u001b[0;34m,\u001b[0m \u001b[0minv_covmat\u001b[0m\u001b[0;34m)\u001b[0m\u001b[0;34m\u001b[0m\u001b[0;34m\u001b[0m\u001b[0m\n\u001b[0;32m----> 2\u001b[0;31m \u001b[0mmahal\u001b[0m \u001b[0;34m=\u001b[0m \u001b[0mnp\u001b[0m\u001b[0;34m.\u001b[0m\u001b[0mdot\u001b[0m\u001b[0;34m(\u001b[0m\u001b[0mleft\u001b[0m\u001b[0;34m,\u001b[0m \u001b[0mx_mu\u001b[0m\u001b[0;34m.\u001b[0m\u001b[0mT\u001b[0m\u001b[0;34m)\u001b[0m\u001b[0;34m\u001b[0m\u001b[0;34m\u001b[0m\u001b[0m\n\u001b[0m\u001b[1;32m      3\u001b[0m \u001b[0mlen\u001b[0m\u001b[0;34m(\u001b[0m\u001b[0mmahal\u001b[0m\u001b[0;34m.\u001b[0m\u001b[0mdiagonal\u001b[0m\u001b[0;34m(\u001b[0m\u001b[0;34m)\u001b[0m\u001b[0;34m)\u001b[0m\u001b[0;34m\u001b[0m\u001b[0;34m\u001b[0m\u001b[0m\n",
      "\u001b[0;32m<__array_function__ internals>\u001b[0m in \u001b[0;36mdot\u001b[0;34m(*args, **kwargs)\u001b[0m\n",
      "\u001b[0;31mMemoryError\u001b[0m: Unable to allocate 303. GiB for an array with shape (201769, 201769) and data type float64"
     ]
    }
   ],
   "source": [
    "left = np.dot(x_mu, inv_covmat)\n",
    "mahal = np.dot(left, x_mu.T)\n",
    "len(mahal.diagonal())"
   ]
  },
  {
   "cell_type": "code",
   "execution_count": null,
   "id": "55ece4d0-b537-4d78-ae3c-42ef1f5e1426",
   "metadata": {},
   "outputs": [],
   "source": [
    "def mahalanobis(x=None, data=None, cov=None):\n",
    "\n",
    "    x_mu = x - np.mean(data)\n",
    "    if not cov:\n",
    "        cov = np.cov(data.values.T)\n",
    "    inv_covmat = np.linalg.inv(cov)\n",
    "    left = np.dot(x_mu, inv_covmat)\n",
    "    mahal = np.dot(left, x_mu.T)\n",
    "    return mahal.diagonal()"
   ]
  },
  {
   "cell_type": "code",
   "execution_count": 2,
   "id": "e3fbd03a-12a0-4c7c-812e-13c5d2765723",
   "metadata": {},
   "outputs": [
    {
     "data": {
      "text/html": [
       "<div>\n",
       "<style scoped>\n",
       "    .dataframe tbody tr th:only-of-type {\n",
       "        vertical-align: middle;\n",
       "    }\n",
       "\n",
       "    .dataframe tbody tr th {\n",
       "        vertical-align: top;\n",
       "    }\n",
       "\n",
       "    .dataframe thead th {\n",
       "        text-align: right;\n",
       "    }\n",
       "</style>\n",
       "<table border=\"1\" class=\"dataframe\">\n",
       "  <thead>\n",
       "    <tr style=\"text-align: right;\">\n",
       "      <th></th>\n",
       "      <th>score</th>\n",
       "      <th>hours</th>\n",
       "      <th>prep</th>\n",
       "      <th>grade</th>\n",
       "    </tr>\n",
       "  </thead>\n",
       "  <tbody>\n",
       "    <tr>\n",
       "      <th>0</th>\n",
       "      <td>91</td>\n",
       "      <td>16</td>\n",
       "      <td>3</td>\n",
       "      <td>70</td>\n",
       "    </tr>\n",
       "    <tr>\n",
       "      <th>1</th>\n",
       "      <td>93</td>\n",
       "      <td>6</td>\n",
       "      <td>4</td>\n",
       "      <td>88</td>\n",
       "    </tr>\n",
       "    <tr>\n",
       "      <th>2</th>\n",
       "      <td>72</td>\n",
       "      <td>3</td>\n",
       "      <td>0</td>\n",
       "      <td>80</td>\n",
       "    </tr>\n",
       "    <tr>\n",
       "      <th>3</th>\n",
       "      <td>87</td>\n",
       "      <td>1</td>\n",
       "      <td>3</td>\n",
       "      <td>83</td>\n",
       "    </tr>\n",
       "    <tr>\n",
       "      <th>4</th>\n",
       "      <td>86</td>\n",
       "      <td>2</td>\n",
       "      <td>4</td>\n",
       "      <td>88</td>\n",
       "    </tr>\n",
       "  </tbody>\n",
       "</table>\n",
       "</div>"
      ],
      "text/plain": [
       "   score  hours  prep  grade\n",
       "0     91     16     3     70\n",
       "1     93      6     4     88\n",
       "2     72      3     0     80\n",
       "3     87      1     3     83\n",
       "4     86      2     4     88"
      ]
     },
     "execution_count": 2,
     "metadata": {},
     "output_type": "execute_result"
    }
   ],
   "source": [
    "import numpy as np\n",
    "import pandas as pd \n",
    "import scipy as stats\n",
    "\n",
    "data = {'score': [91, 93, 72, 87, 86, 73, 68, 87, 78, 99, 95, 76, 84, 96, 76, 80, 83, 84, 73, 74],\n",
    "        'hours': [16, 6, 3, 1, 2, 3, 2, 5, 2, 5, 2, 3, 4, 3, 3, 3, 4, 3, 4, 4],\n",
    "        'prep': [3, 4, 0, 3, 4, 0, 1, 2, 1, 2, 3, 3, 3, 2, 2, 2, 3, 3, 2, 2],\n",
    "        'grade': [70, 88, 80, 83, 88, 84, 78, 94, 90, 93, 89, 82, 95, 94, 81, 93, 93, 90, 89, 89]\n",
    "        }\n",
    "\n",
    "df = pd.DataFrame(data,columns=['score', 'hours', 'prep','grade'])\n",
    "df.head()"
   ]
  },
  {
   "cell_type": "code",
   "execution_count": 6,
   "id": "34aa4e35-810e-4e36-8747-436ed7939600",
   "metadata": {},
   "outputs": [],
   "source": [
    "x=df \n",
    "data=df[['score', 'hours', 'prep', 'grade']]"
   ]
  },
  {
   "cell_type": "code",
   "execution_count": 7,
   "id": "41412d2e-2a81-4d1f-a46c-5adc5002c5b3",
   "metadata": {},
   "outputs": [],
   "source": [
    "x_mu = x - np.mean(data)"
   ]
  },
  {
   "cell_type": "code",
   "execution_count": 8,
   "id": "8800c271-c61b-4253-9782-29a6fbd5d43c",
   "metadata": {},
   "outputs": [
    {
     "data": {
      "text/plain": [
       "(20, 4)"
      ]
     },
     "execution_count": 8,
     "metadata": {},
     "output_type": "execute_result"
    }
   ],
   "source": [
    "x_mu.shape"
   ]
  },
  {
   "cell_type": "code",
   "execution_count": 11,
   "id": "2413e89c-4d9d-47d9-acaf-66299d2712ac",
   "metadata": {},
   "outputs": [],
   "source": [
    "cov = np.cov(df.values.T)\n",
    "inv_covmat = np.linalg.inv(cov)\n",
    "left = np.dot(x_mu, inv_covmat)\n",
    "mahal = np.dot(left, x_mu.T).diagonal()"
   ]
  },
  {
   "cell_type": "code",
   "execution_count": 12,
   "id": "df7104c7-72c8-4602-9d07-7311ee228b98",
   "metadata": {},
   "outputs": [
    {
     "data": {
      "text/plain": [
       "array([16.50196304,  2.63928638,  4.8507973 ,  5.20126123,  3.82873415,\n",
       "        4.09056333,  4.28363027,  2.4198736 ,  1.65195755,  5.65782528,\n",
       "        3.96587697,  2.93501779,  2.81021087,  4.3682945 ,  1.56101651,\n",
       "        1.45950688,  2.02457478,  0.75025359,  2.73512915,  2.26422684])"
      ]
     },
     "execution_count": 12,
     "metadata": {},
     "output_type": "execute_result"
    }
   ],
   "source": [
    "mahal"
   ]
  },
  {
   "cell_type": "code",
   "execution_count": 370,
   "id": "1d9d69f3-1937-4665-a327-530052a2963e",
   "metadata": {},
   "outputs": [
    {
     "data": {
      "text/plain": [
       "(4, 4)"
      ]
     },
     "execution_count": 370,
     "metadata": {},
     "output_type": "execute_result"
    }
   ],
   "source": [
    "cov.shape"
   ]
  },
  {
   "cell_type": "code",
   "execution_count": 371,
   "id": "ca311ff6-5df6-470b-bf83-3a2551055f7e",
   "metadata": {},
   "outputs": [
    {
     "data": {
      "text/plain": [
       "(20, 4)"
      ]
     },
     "execution_count": 371,
     "metadata": {},
     "output_type": "execute_result"
    }
   ],
   "source": [
    "left.shape"
   ]
  },
  {
   "cell_type": "code",
   "execution_count": 372,
   "id": "916ffbfd-9ea0-48ca-9144-635ba5f1a80a",
   "metadata": {},
   "outputs": [
    {
     "data": {
      "text/plain": [
       "(20, 20)"
      ]
     },
     "execution_count": 372,
     "metadata": {},
     "output_type": "execute_result"
    }
   ],
   "source": [
    "mahal.shape"
   ]
  },
  {
   "cell_type": "code",
   "execution_count": null,
   "id": "a47c45a9-705f-4784-a066-d1ad226306a5",
   "metadata": {},
   "outputs": [],
   "source": []
  }
 ],
 "metadata": {
  "kernelspec": {
   "display_name": "Python 3",
   "language": "python",
   "name": "python3"
  },
  "language_info": {
   "codemirror_mode": {
    "name": "ipython",
    "version": 3
   },
   "file_extension": ".py",
   "mimetype": "text/x-python",
   "name": "python",
   "nbconvert_exporter": "python",
   "pygments_lexer": "ipython3",
   "version": "3.8.10"
  }
 },
 "nbformat": 4,
 "nbformat_minor": 5
}
