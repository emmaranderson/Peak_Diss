{
 "cells": [
  {
   "cell_type": "code",
   "execution_count": 1,
   "id": "53d9519a-0bc3-4443-bd7e-83e58a83778f",
   "metadata": {},
   "outputs": [],
   "source": [
    "import pandas as pd\n",
    "import numpy as np\n",
    "from copy import deepcopy\n",
    "from random import randint \n",
    "import time\n",
    "import random \n",
    "import matplotlib.pyplot as plt\n",
    "from sklearn.model_selection import train_test_split\n",
    "from sklearn.preprocessing import LabelEncoder, MinMaxScaler, StandardScaler\n",
    "from sklearn.naive_bayes import GaussianNB\n",
    "from sklearn.neighbors import KNeighborsClassifier\n",
    "from sklearn.ensemble import RandomForestClassifier\n",
    "from sklearn.cluster import KMeans\n",
    "from sklearn.metrics import silhouette_score\n",
    "from sklearn.decomposition import PCA\n",
    "from sklearn.model_selection import GridSearchCV\n",
    "from sklearn.metrics import f1_score, recall_score, precision_score, confusion_matrix, plot_confusion_matrix\n",
    "from imblearn.metrics import geometric_mean_score\n",
    "from sklearn.metrics import roc_auc_score\n",
    "from collections import Counter\n",
    "from sklearn.datasets import make_classification\n",
    "from imblearn.over_sampling import SMOTE\n",
    "from sklearn.utils import shuffle\n",
    "from sklearn import metrics"
   ]
  },
  {
   "cell_type": "code",
   "execution_count": 2,
   "id": "3d1127aa-5215-49b7-acbd-552ffbdb8be7",
   "metadata": {},
   "outputs": [],
   "source": [
    "#from orion.contrib.envs import load_env\n",
    "#load_env()\n",
    "import boto3\n",
    "#from orion.sources import S3Source\n",
    "aws_bucket = 'kilimanjaro-prod-datalake'\n",
    "s3 = boto3.client('s3')"
   ]
  },
  {
   "cell_type": "code",
   "execution_count": 3,
   "id": "5fd4f2ea-70f8-4936-aa35-1fd3c705d507",
   "metadata": {},
   "outputs": [],
   "source": [
    "import warnings\n",
    "warnings.simplefilter(action='ignore', category=FutureWarning)"
   ]
  },
  {
   "cell_type": "code",
   "execution_count": 4,
   "id": "be7d5ecc-65e7-4272-b4d5-56685b95a468",
   "metadata": {},
   "outputs": [],
   "source": [
    "object_ = 'masters/datascience/emma/retail.csv'\n",
    "retail = s3.get_object(Bucket=aws_bucket, Key=object_)\n",
    "retail = pd.read_csv(retail['Body'], index_col=0)"
   ]
  },
  {
   "cell_type": "code",
   "execution_count": 5,
   "id": "9b83a439-6ee4-4008-8128-d1a9c64f1ef1",
   "metadata": {},
   "outputs": [
    {
     "data": {
      "text/html": [
       "<div>\n",
       "<style scoped>\n",
       "    .dataframe tbody tr th:only-of-type {\n",
       "        vertical-align: middle;\n",
       "    }\n",
       "\n",
       "    .dataframe tbody tr th {\n",
       "        vertical-align: top;\n",
       "    }\n",
       "\n",
       "    .dataframe thead th {\n",
       "        text-align: right;\n",
       "    }\n",
       "</style>\n",
       "<table border=\"1\" class=\"dataframe\">\n",
       "  <thead>\n",
       "    <tr style=\"text-align: right;\">\n",
       "      <th></th>\n",
       "      <th>ASP</th>\n",
       "      <th>cluster</th>\n",
       "      <th>loyaltyaccount_No</th>\n",
       "      <th>loyaltyaccount_Yes</th>\n",
       "      <th>gender_female</th>\n",
       "      <th>gender_male</th>\n",
       "      <th>gender_unknown</th>\n",
       "      <th>shipcountry_Albania</th>\n",
       "      <th>shipcountry_Armenia</th>\n",
       "      <th>shipcountry_Australia</th>\n",
       "      <th>...</th>\n",
       "      <th>category_Childrens</th>\n",
       "      <th>category_Infant</th>\n",
       "      <th>category_Junior</th>\n",
       "      <th>category_Mens</th>\n",
       "      <th>category_Miscellaneous</th>\n",
       "      <th>category_Nursery</th>\n",
       "      <th>category_Womens</th>\n",
       "      <th>divisioncode_ACCESSORY</th>\n",
       "      <th>divisioncode_APPAREL</th>\n",
       "      <th>divisioncode_FOOTWEAR</th>\n",
       "    </tr>\n",
       "  </thead>\n",
       "  <tbody>\n",
       "    <tr>\n",
       "      <th>0</th>\n",
       "      <td>59.92</td>\n",
       "      <td>0</td>\n",
       "      <td>0</td>\n",
       "      <td>1</td>\n",
       "      <td>1</td>\n",
       "      <td>0</td>\n",
       "      <td>0</td>\n",
       "      <td>0</td>\n",
       "      <td>0</td>\n",
       "      <td>0</td>\n",
       "      <td>...</td>\n",
       "      <td>0</td>\n",
       "      <td>0</td>\n",
       "      <td>0</td>\n",
       "      <td>1</td>\n",
       "      <td>0</td>\n",
       "      <td>0</td>\n",
       "      <td>0</td>\n",
       "      <td>0</td>\n",
       "      <td>1</td>\n",
       "      <td>0</td>\n",
       "    </tr>\n",
       "  </tbody>\n",
       "</table>\n",
       "<p>1 rows × 85 columns</p>\n",
       "</div>"
      ],
      "text/plain": [
       "     ASP  cluster  loyaltyaccount_No  loyaltyaccount_Yes  gender_female  \\\n",
       "0  59.92        0                  0                   1              1   \n",
       "\n",
       "   gender_male  gender_unknown  shipcountry_Albania  shipcountry_Armenia  \\\n",
       "0            0               0                    0                    0   \n",
       "\n",
       "   shipcountry_Australia  ...  category_Childrens  category_Infant  \\\n",
       "0                      0  ...                   0                0   \n",
       "\n",
       "   category_Junior  category_Mens  category_Miscellaneous  category_Nursery  \\\n",
       "0                0              1                       0                 0   \n",
       "\n",
       "   category_Womens  divisioncode_ACCESSORY  divisioncode_APPAREL  \\\n",
       "0                0                       0                     1   \n",
       "\n",
       "   divisioncode_FOOTWEAR  \n",
       "0                      0  \n",
       "\n",
       "[1 rows x 85 columns]"
      ]
     },
     "execution_count": 5,
     "metadata": {},
     "output_type": "execute_result"
    }
   ],
   "source": [
    "retail = retail.rename(columns={'class':'cluster'})\n",
    "retail.head(1)"
   ]
  },
  {
   "cell_type": "code",
   "execution_count": 6,
   "id": "49394401-fabf-48c8-bff2-1e8e5deb34d8",
   "metadata": {},
   "outputs": [],
   "source": [
    "wine_white = pd.read_csv('winequality-white.csv', delimiter=';')\n",
    "wine_red = pd.read_csv('winequality-red.csv', delimiter=';')"
   ]
  },
  {
   "cell_type": "code",
   "execution_count": 7,
   "id": "f108e656-9516-408c-bae6-24defad0ff6b",
   "metadata": {},
   "outputs": [
    {
     "name": "stdout",
     "output_type": "stream",
     "text": [
      "0    217\n",
      "1     63\n",
      "Name: class, dtype: int64\n"
     ]
    }
   ],
   "source": [
    "# Red Wine Quality Low vs High\n",
    "WineRLvH = deepcopy(wine_red)\n",
    "WineRLvH = WineRLvH[(WineRLvH['quality'] <5)| (WineRLvH['quality'] >6)]\n",
    "WineRLvH.loc[WineRLvH.quality >= 7, \"class\"] = 0\n",
    "WineRLvH.loc[WineRLvH.quality <= 4, \"class\"] = 1\n",
    "WineRLvH['class'] = WineRLvH['class'].astype(\"int\")\n",
    "WineRLvH['class'] = WineRLvH['class'].astype(\"category\")\n",
    "WineRLvH = WineRLvH.drop(columns=['quality'])\n",
    "print(WineRLvH['class'].value_counts())\n",
    "WineRLvH.name ='D12 - Wine_red_LvH'"
   ]
  },
  {
   "cell_type": "code",
   "execution_count": 8,
   "id": "6555cfd9-0927-41f5-83d5-5021d02cd772",
   "metadata": {},
   "outputs": [
    {
     "name": "stdout",
     "output_type": "stream",
     "text": [
      "0    1060\n",
      "1     183\n",
      "Name: class, dtype: int64\n"
     ]
    }
   ],
   "source": [
    "# White Wine Quality Low vs High\n",
    "WineWLvH = deepcopy(wine_white)\n",
    "WineWLvH = WineWLvH[(WineWLvH['quality'] <5)| (WineWLvH['quality'] >6)]\n",
    "WineWLvH.loc[WineWLvH.quality >= 7, \"class\"] = 0\n",
    "WineWLvH.loc[WineWLvH.quality <= 4, \"class\"] = 1\n",
    "WineWLvH['class'] = WineWLvH['class'].astype(\"int\")\n",
    "WineWLvH['class'] = WineWLvH['class'].astype(\"category\")\n",
    "WineWLvH = WineWLvH.drop(columns=['quality'])\n",
    "print(WineWLvH['class'].value_counts())\n",
    "WineWLvH.name = 'D10 - Wine_white_LvH'"
   ]
  },
  {
   "cell_type": "code",
   "execution_count": 9,
   "id": "0176c23a-ac11-4294-9ec0-9e5cf07f430e",
   "metadata": {},
   "outputs": [
    {
     "name": "stdout",
     "output_type": "stream",
     "text": [
      "0    1935848\n",
      "1     269025\n",
      "Name: class, dtype: int64\n"
     ]
    }
   ],
   "source": [
    "# Cust Summary focusing on singular minority\n",
    "cust_sum2 = deepcopy(retail)\n",
    "cust_sum2.loc[cust_sum2.cluster ==0, \"class\"] = 0\n",
    "cust_sum2.loc[cust_sum2.cluster >= 1, \"class\"] = 1\n",
    "cust_sum2['class'] = cust_sum2['class'].astype(\"int\")\n",
    "cust_sum2['class'] = cust_sum2['class'].astype(\"category\")\n",
    "cust_sum2 = cust_sum2.drop(columns=['cluster'])\n",
    "print(cust_sum2['class'].value_counts())\n",
    "cust_sum2.name ='Retail Data -2'"
   ]
  },
  {
   "cell_type": "code",
   "execution_count": 10,
   "id": "5a0d8f45-847a-4e5b-b1d1-c9d01e4e0d43",
   "metadata": {},
   "outputs": [],
   "source": [
    "# train test/ scaling\n",
    "def data_prep (data, seed):\n",
    "  X= data.drop('class',axis=1).copy()\n",
    "  y = data['class'].copy()\n",
    "  y = y.astype('category')\n",
    "  X_train, X_test, y_train, y_test = train_test_split(X, y, test_size=0.25, random_state=seed, shuffle=y, stratify=y) # add ssed\n",
    "\n",
    "  scaler = StandardScaler()\n",
    "  scaler.fit(X_train)\n",
    "  X_train_scaled = scaler.transform(X_train)\n",
    "  X_test_scaled = scaler.transform(X_test)\n",
    "\n",
    "  X_train_scaled = pd.DataFrame(X_train_scaled, columns = X_train.columns)\n",
    "  X_test_scaled = pd.DataFrame(X_test_scaled, columns = X_test.columns)\n",
    "\n",
    "  return X_train_scaled, X_test_scaled, y_train, y_test"
   ]
  },
  {
   "cell_type": "code",
   "execution_count": 11,
   "id": "9f6b59f2-c5f7-4491-9ea9-2d4303ea2b5f",
   "metadata": {},
   "outputs": [],
   "source": [
    "def random_under_minority (data, imbalance_level, seed):\n",
    "\n",
    "  random.seed(seed)\n",
    "  \n",
    "  X_train_scaled, X_test_scaled, y_train, y_test = data_prep(data, seed)\n",
    "  y_train = y_train.reset_index(drop=True)\n",
    "  X_train_scaled['class'] = y_train\n",
    "\n",
    "  class_counts = X_train_scaled['class'].value_counts().to_frame()\n",
    "  maj_count = class_counts.iloc[0,0]\n",
    "  min_count = class_counts.iloc[1,0]\n",
    "\n",
    "  majority = X_train_scaled[(X_train_scaled['class'] == 0)]\n",
    "  minority = X_train_scaled[(X_train_scaled['class']== 1)]\n",
    "\n",
    "  if imbalance_level == 'absolute':\n",
    "    downsample = 6\n",
    "  \n",
    "  else:\n",
    "    if imbalance_level == 'high':\n",
    "      imbalance = 0.05\n",
    "      \n",
    "    elif imbalance_level == 'extreme':\n",
    "      imbalance = 0.01\n",
    "\n",
    "    downsample = (maj_count * imbalance).round().astype('int')\n",
    "    \n",
    "    if imbalance_level == 'extreme' and downsample < 8:\n",
    "      downsample = 8\n",
    " \n",
    "  if downsample >= min_count:\n",
    "    minority_sample = minority\n",
    "      \n",
    "  else:\n",
    "    minority_sample = minority.sample(n= downsample)\n",
    "\n",
    "  final = pd.concat([majority, minority_sample])\n",
    "  final = shuffle(final)\n",
    "\n",
    "  X_train_scaled = final.drop('class',axis=1).copy()\n",
    "  y_train = final['class'].copy()\n",
    "  y_train = y_train.astype('category')\n",
    "\n",
    "  X_train_scaled = X_train_scaled\n",
    "  X_test_scaled = X_test_scaled\n",
    "  y_train = y_train.reset_index(drop=True)\n",
    "  y_test = y_test.reset_index(drop=True)\n",
    "\n",
    "  return X_train_scaled, X_test_scaled, y_train, y_test"
   ]
  },
  {
   "cell_type": "code",
   "execution_count": 1,
   "id": "748fa21d-a199-4865-8d64-5aad0494f2a0",
   "metadata": {},
   "outputs": [
    {
     "ename": "NameError",
     "evalue": "name 'random_under_minority' is not defined",
     "output_type": "error",
     "traceback": [
      "\u001b[0;31m---------------------------------------------------------------------------\u001b[0m",
      "\u001b[0;31mNameError\u001b[0m                                 Traceback (most recent call last)",
      "\u001b[0;32m<ipython-input-1-b64499f39cdb>\u001b[0m in \u001b[0;36m<module>\u001b[0;34m\u001b[0m\n\u001b[0;32m----> 1\u001b[0;31m \u001b[0mX_train_scaled\u001b[0m\u001b[0;34m,\u001b[0m \u001b[0mX_test_scaled\u001b[0m\u001b[0;34m,\u001b[0m \u001b[0my_train\u001b[0m\u001b[0;34m,\u001b[0m \u001b[0my_test\u001b[0m \u001b[0;34m=\u001b[0m \u001b[0mrandom_under_minority\u001b[0m\u001b[0;34m(\u001b[0m\u001b[0mcust_sum2\u001b[0m\u001b[0;34m,\u001b[0m \u001b[0;34m'high'\u001b[0m\u001b[0;34m,\u001b[0m \u001b[0;36m3\u001b[0m\u001b[0;34m)\u001b[0m\u001b[0;34m\u001b[0m\u001b[0;34m\u001b[0m\u001b[0m\n\u001b[0m",
      "\u001b[0;31mNameError\u001b[0m: name 'random_under_minority' is not defined"
     ]
    }
   ],
   "source": [
    "X_train_scaled, X_test_scaled, y_train, y_test = random_under_minority(cust_sum2, 'high', 3)"
   ]
  },
  {
   "cell_type": "code",
   "execution_count": 47,
   "id": "0d9f9969-1fc8-4241-8b3c-4c9d795e69f2",
   "metadata": {},
   "outputs": [],
   "source": [
    "X_train_scaledw, X_test_scaledx, y_trainw, y_testw = random_under_minority(WineWLvH, 'high', 3)"
   ]
  },
  {
   "cell_type": "code",
   "execution_count": 48,
   "id": "a7df9604-95cb-4bb6-ae5a-0bca170c770a",
   "metadata": {},
   "outputs": [
    {
     "data": {
      "text/plain": [
       "pandas.core.frame.DataFrame"
      ]
     },
     "execution_count": 48,
     "metadata": {},
     "output_type": "execute_result"
    }
   ],
   "source": [
    "type(X_train_scaledw)"
   ]
  },
  {
   "cell_type": "code",
   "execution_count": 49,
   "id": "f7bc8745-2756-48a8-8d6f-f4e4f089ea88",
   "metadata": {},
   "outputs": [
    {
     "data": {
      "text/plain": [
       "{'ResponseMetadata': {'RequestId': '7H380CD5SN94D9KE',\n",
       "  'HostId': 'FZAGvPc4+x3LJBVAKPSO41LZJf+duo0ukaT7/xj3sScn8+S6bvTDgd2cYI/VfcyTmBpBWF3xh5M=',\n",
       "  'HTTPStatusCode': 200,\n",
       "  'HTTPHeaders': {'x-amz-id-2': 'FZAGvPc4+x3LJBVAKPSO41LZJf+duo0ukaT7/xj3sScn8+S6bvTDgd2cYI/VfcyTmBpBWF3xh5M=',\n",
       "   'x-amz-request-id': '7H380CD5SN94D9KE',\n",
       "   'date': 'Tue, 20 Jul 2021 18:05:59 GMT',\n",
       "   'x-amz-version-id': 'rHAPKViWV9iRXInUlkcyhf4AShBh5gpe',\n",
       "   'x-amz-server-side-encryption': 'aws:kms',\n",
       "   'x-amz-server-side-encryption-aws-kms-key-id': 'arn:aws:kms:eu-west-1:794236216820:key/68512d48-1991-4929-91a2-1892476cd145',\n",
       "   'etag': '\"c0691e42522ad16c743c6a29064a87ab\"',\n",
       "   'server': 'AmazonS3',\n",
       "   'content-length': '0'},\n",
       "  'RetryAttempts': 1},\n",
       " 'ETag': '\"c0691e42522ad16c743c6a29064a87ab\"',\n",
       " 'ServerSideEncryption': 'aws:kms',\n",
       " 'VersionId': 'rHAPKViWV9iRXInUlkcyhf4AShBh5gpe',\n",
       " 'SSEKMSKeyId': 'arn:aws:kms:eu-west-1:794236216820:key/68512d48-1991-4929-91a2-1892476cd145'}"
      ]
     },
     "execution_count": 49,
     "metadata": {},
     "output_type": "execute_result"
    }
   ],
   "source": [
    "from io import StringIO  \n",
    "csv_buffer = StringIO()\n",
    "X_train_scaledw.to_csv(csv_buffer)\n",
    "s3_resource = boto3.resource('s3')\n",
    "s3_resource.Object('kilimanjaro-prod-datalake','masters/datascience/emma/x_train.csv').put(Body=csv_buffer.getvalue())"
   ]
  },
  {
   "cell_type": "code",
   "execution_count": null,
   "id": "c2fc795c-b42f-4042-90bf-3018749e9367",
   "metadata": {},
   "outputs": [],
   "source": [
    "import scipy.spatial.distance\n",
    "import math"
   ]
  },
  {
   "cell_type": "code",
   "execution_count": 78,
   "id": "5f7458d0-61c9-4757-8a62-3a04eabd9825",
   "metadata": {},
   "outputs": [],
   "source": [
    "def Div_SP(X, Dis):\n",
    "  ## Will need to check type when coming in \n",
    "  \n",
    "  ## python func pairwise distances between observations in n-dimensional space. Not sure if this is an equivalent?\n",
    "  M = np.matrix(np.exp(-1*(scipy.spatial.distance.pdist(X,'Dist'))))\n",
    "  Div = sum(M_1)\n",
    "  return Div"
   ]
  },
  {
   "cell_type": "code",
   "execution_count": null,
   "id": "e5871a85-516c-40dc-98b2-58f8b76f0f2f",
   "metadata": {},
   "outputs": [],
   "source": []
  }
 ],
 "metadata": {
  "kernelspec": {
   "display_name": "Python 3",
   "language": "python",
   "name": "python3"
  },
  "language_info": {
   "codemirror_mode": {
    "name": "ipython",
    "version": 3
   },
   "file_extension": ".py",
   "mimetype": "text/x-python",
   "name": "python",
   "nbconvert_exporter": "python",
   "pygments_lexer": "ipython3",
   "version": "3.8.10"
  }
 },
 "nbformat": 4,
 "nbformat_minor": 5
}
