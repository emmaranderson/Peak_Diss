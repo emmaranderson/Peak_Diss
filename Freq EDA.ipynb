{
 "cells": [
  {
   "cell_type": "code",
   "execution_count": 2,
   "id": "ce9acc4a-7e09-4947-84ba-9ccfcdbef7a4",
   "metadata": {},
   "outputs": [],
   "source": [
    "import pandas as pd\n",
    "import numpy as np\n",
    "from datetime import datetime as dt\n",
    "from copy import deepcopy\n",
    "import random\n",
    "import matplotlib.pyplot as plt\n",
    "import seaborn as sns\n",
    "import calendar\n",
    "from dython import nominal\n",
    "#from orion.contrib.envs import load_env\n",
    "#load_env()\n",
    "import boto3\n",
    "#from orion.sources import S3Source\n",
    "aws_bucket = 'kilimanjaro-prod-datalake'\n",
    "s3 = boto3.client('s3')"
   ]
  },
  {
   "cell_type": "code",
   "execution_count": 12,
   "id": "72df6829-7a3b-4191-88ca-2a5e8c47aecc",
   "metadata": {},
   "outputs": [],
   "source": [
    "import warnings\n",
    "warnings.simplefilter(action='ignore', category=FutureWarning)"
   ]
  },
  {
   "cell_type": "code",
   "execution_count": 46,
   "id": "3c864ee5-8065-4e7c-a0dd-acfe3925b5c3",
   "metadata": {},
   "outputs": [
    {
     "data": {
      "text/html": [
       "<div>\n",
       "<style scoped>\n",
       "    .dataframe tbody tr th:only-of-type {\n",
       "        vertical-align: middle;\n",
       "    }\n",
       "\n",
       "    .dataframe tbody tr th {\n",
       "        vertical-align: top;\n",
       "    }\n",
       "\n",
       "    .dataframe thead th {\n",
       "        text-align: right;\n",
       "    }\n",
       "</style>\n",
       "<table border=\"1\" class=\"dataframe\">\n",
       "  <thead>\n",
       "    <tr style=\"text-align: right;\">\n",
       "      <th></th>\n",
       "      <th>customerkey</th>\n",
       "      <th>orders</th>\n",
       "      <th>total_unitssold</th>\n",
       "      <th>total_grosssales</th>\n",
       "      <th>ASP</th>\n",
       "      <th>loyaltyaccount</th>\n",
       "      <th>gender</th>\n",
       "      <th>shipcountry</th>\n",
       "      <th>postcode</th>\n",
       "      <th>category</th>\n",
       "      <th>divisioncode</th>\n",
       "      <th>productgroup</th>\n",
       "      <th>brandcode</th>\n",
       "    </tr>\n",
       "  </thead>\n",
       "  <tbody>\n",
       "    <tr>\n",
       "      <th>0</th>\n",
       "      <td>fb484d6a54da0d56910e2df0064c18c722801a66</td>\n",
       "      <td>256</td>\n",
       "      <td>603</td>\n",
       "      <td>35645.08</td>\n",
       "      <td>61.44</td>\n",
       "      <td>Yes</td>\n",
       "      <td>female</td>\n",
       "      <td>United Kingdom</td>\n",
       "      <td>TW9</td>\n",
       "      <td>Junior</td>\n",
       "      <td>FOOTWEAR</td>\n",
       "      <td>Basketball</td>\n",
       "      <td>AA</td>\n",
       "    </tr>\n",
       "    <tr>\n",
       "      <th>1</th>\n",
       "      <td>649cca818138ed8152825855e0538ed7360bd55a</td>\n",
       "      <td>152</td>\n",
       "      <td>400</td>\n",
       "      <td>18320.26</td>\n",
       "      <td>51.97</td>\n",
       "      <td>Yes</td>\n",
       "      <td>female</td>\n",
       "      <td>United Kingdom</td>\n",
       "      <td>DL5</td>\n",
       "      <td>Mens</td>\n",
       "      <td>APPAREL</td>\n",
       "      <td>Nylon Running</td>\n",
       "      <td>NN</td>\n",
       "    </tr>\n",
       "    <tr>\n",
       "      <th>2</th>\n",
       "      <td>559aec727d6d73e55e476a34a374f1fb26dc06cf</td>\n",
       "      <td>152</td>\n",
       "      <td>401</td>\n",
       "      <td>16730.55</td>\n",
       "      <td>44.44</td>\n",
       "      <td>Yes</td>\n",
       "      <td>female</td>\n",
       "      <td>United Kingdom</td>\n",
       "      <td>LL18</td>\n",
       "      <td>Mens</td>\n",
       "      <td>FOOTWEAR</td>\n",
       "      <td>Vulcanised</td>\n",
       "      <td>NN</td>\n",
       "    </tr>\n",
       "    <tr>\n",
       "      <th>3</th>\n",
       "      <td>35d17f77612459a698d0179b7525c6eedacc6fd6</td>\n",
       "      <td>144</td>\n",
       "      <td>469</td>\n",
       "      <td>15046.12</td>\n",
       "      <td>37.51</td>\n",
       "      <td>Yes</td>\n",
       "      <td>female</td>\n",
       "      <td>United Kingdom</td>\n",
       "      <td>N19</td>\n",
       "      <td>Mens</td>\n",
       "      <td>APPAREL</td>\n",
       "      <td>T-shirts</td>\n",
       "      <td>KWD</td>\n",
       "    </tr>\n",
       "    <tr>\n",
       "      <th>4</th>\n",
       "      <td>67f9aeeef82eefa706b6886df0b790992e3b5a61</td>\n",
       "      <td>114</td>\n",
       "      <td>225</td>\n",
       "      <td>11631.89</td>\n",
       "      <td>63.97</td>\n",
       "      <td>Yes</td>\n",
       "      <td>male</td>\n",
       "      <td>United Kingdom</td>\n",
       "      <td>WA1</td>\n",
       "      <td>Womens</td>\n",
       "      <td>FOOTWEAR</td>\n",
       "      <td>Nylon Running</td>\n",
       "      <td>AA</td>\n",
       "    </tr>\n",
       "  </tbody>\n",
       "</table>\n",
       "</div>"
      ],
      "text/plain": [
       "                                customerkey  orders  total_unitssold  \\\n",
       "0  fb484d6a54da0d56910e2df0064c18c722801a66     256              603   \n",
       "1  649cca818138ed8152825855e0538ed7360bd55a     152              400   \n",
       "2  559aec727d6d73e55e476a34a374f1fb26dc06cf     152              401   \n",
       "3  35d17f77612459a698d0179b7525c6eedacc6fd6     144              469   \n",
       "4  67f9aeeef82eefa706b6886df0b790992e3b5a61     114              225   \n",
       "\n",
       "   total_grosssales    ASP loyaltyaccount  gender     shipcountry postcode  \\\n",
       "0          35645.08  61.44            Yes  female  United Kingdom      TW9   \n",
       "1          18320.26  51.97            Yes  female  United Kingdom      DL5   \n",
       "2          16730.55  44.44            Yes  female  United Kingdom     LL18   \n",
       "3          15046.12  37.51            Yes  female  United Kingdom      N19   \n",
       "4          11631.89  63.97            Yes    male  United Kingdom      WA1   \n",
       "\n",
       "  category divisioncode   productgroup brandcode  \n",
       "0   Junior     FOOTWEAR     Basketball        AA  \n",
       "1     Mens      APPAREL  Nylon Running        NN  \n",
       "2     Mens     FOOTWEAR     Vulcanised        NN  \n",
       "3     Mens      APPAREL       T-shirts       KWD  \n",
       "4   Womens     FOOTWEAR  Nylon Running        AA  "
      ]
     },
     "execution_count": 46,
     "metadata": {},
     "output_type": "execute_result"
    }
   ],
   "source": [
    "cust_summary = pd.read_csv('cust_summary.csv', index_col=0)\n",
    "cust_summary.head()"
   ]
  },
  {
   "cell_type": "code",
   "execution_count": 34,
   "id": "62c98ccf-3eae-472c-8949-3ee774bd1ff0",
   "metadata": {},
   "outputs": [
    {
     "data": {
      "text/html": [
       "<div>\n",
       "<style scoped>\n",
       "    .dataframe tbody tr th:only-of-type {\n",
       "        vertical-align: middle;\n",
       "    }\n",
       "\n",
       "    .dataframe tbody tr th {\n",
       "        vertical-align: top;\n",
       "    }\n",
       "\n",
       "    .dataframe thead th {\n",
       "        text-align: right;\n",
       "    }\n",
       "</style>\n",
       "<table border=\"1\" class=\"dataframe\">\n",
       "  <thead>\n",
       "    <tr style=\"text-align: right;\">\n",
       "      <th></th>\n",
       "      <th>orders</th>\n",
       "      <th>total_unitssold</th>\n",
       "      <th>total_grosssales</th>\n",
       "      <th>ASP</th>\n",
       "    </tr>\n",
       "  </thead>\n",
       "  <tbody>\n",
       "    <tr>\n",
       "      <th>count</th>\n",
       "      <td>2.204873e+06</td>\n",
       "      <td>2.204873e+06</td>\n",
       "      <td>2.204873e+06</td>\n",
       "      <td>2.204873e+06</td>\n",
       "    </tr>\n",
       "    <tr>\n",
       "      <th>mean</th>\n",
       "      <td>1.506948e+00</td>\n",
       "      <td>4.984994e+00</td>\n",
       "      <td>1.930395e+02</td>\n",
       "      <td>4.614653e+01</td>\n",
       "    </tr>\n",
       "    <tr>\n",
       "      <th>std</th>\n",
       "      <td>1.310425e+00</td>\n",
       "      <td>6.342477e+00</td>\n",
       "      <td>2.389565e+02</td>\n",
       "      <td>2.735562e+01</td>\n",
       "    </tr>\n",
       "    <tr>\n",
       "      <th>min</th>\n",
       "      <td>1.000000e+00</td>\n",
       "      <td>-1.000000e+00</td>\n",
       "      <td>2.200000e-01</td>\n",
       "      <td>2.200000e-01</td>\n",
       "    </tr>\n",
       "    <tr>\n",
       "      <th>25%</th>\n",
       "      <td>1.000000e+00</td>\n",
       "      <td>2.000000e+00</td>\n",
       "      <td>7.541000e+01</td>\n",
       "      <td>2.591000e+01</td>\n",
       "    </tr>\n",
       "    <tr>\n",
       "      <th>50%</th>\n",
       "      <td>1.000000e+00</td>\n",
       "      <td>4.000000e+00</td>\n",
       "      <td>1.269900e+02</td>\n",
       "      <td>3.742000e+01</td>\n",
       "    </tr>\n",
       "    <tr>\n",
       "      <th>75%</th>\n",
       "      <td>2.000000e+00</td>\n",
       "      <td>6.000000e+00</td>\n",
       "      <td>2.183700e+02</td>\n",
       "      <td>6.144000e+01</td>\n",
       "    </tr>\n",
       "    <tr>\n",
       "      <th>max</th>\n",
       "      <td>2.560000e+02</td>\n",
       "      <td>6.030000e+02</td>\n",
       "      <td>3.564508e+04</td>\n",
       "      <td>2.866800e+02</td>\n",
       "    </tr>\n",
       "  </tbody>\n",
       "</table>\n",
       "</div>"
      ],
      "text/plain": [
       "             orders  total_unitssold  total_grosssales           ASP\n",
       "count  2.204873e+06     2.204873e+06      2.204873e+06  2.204873e+06\n",
       "mean   1.506948e+00     4.984994e+00      1.930395e+02  4.614653e+01\n",
       "std    1.310425e+00     6.342477e+00      2.389565e+02  2.735562e+01\n",
       "min    1.000000e+00    -1.000000e+00      2.200000e-01  2.200000e-01\n",
       "25%    1.000000e+00     2.000000e+00      7.541000e+01  2.591000e+01\n",
       "50%    1.000000e+00     4.000000e+00      1.269900e+02  3.742000e+01\n",
       "75%    2.000000e+00     6.000000e+00      2.183700e+02  6.144000e+01\n",
       "max    2.560000e+02     6.030000e+02      3.564508e+04  2.866800e+02"
      ]
     },
     "execution_count": 34,
     "metadata": {},
     "output_type": "execute_result"
    }
   ],
   "source": [
    "cust_summary.describe()"
   ]
  },
  {
   "cell_type": "code",
   "execution_count": 38,
   "id": "b1a5d2c6-108a-4f57-bd23-482efb13eeb9",
   "metadata": {},
   "outputs": [
    {
     "data": {
      "text/plain": [
       "1570551"
      ]
     },
     "execution_count": 38,
     "metadata": {},
     "output_type": "execute_result"
    }
   ],
   "source": [
    "cust_summary['customerkey'].nunique()"
   ]
  },
  {
   "cell_type": "code",
   "execution_count": 35,
   "id": "bd768713-22fc-4ee8-80f6-b722c10e372a",
   "metadata": {},
   "outputs": [
    {
     "data": {
      "image/png": "[encoded data removed]",
      "text/plain": [
       "<Figure size 432x288 with 1 Axes>"
      ]
     },
     "metadata": {
      "needs_background": "light"
     },
     "output_type": "display_data"
    }
   ],
   "source": [
    "frequency = cust_summary.orders.values\n",
    "ax = sns.histplot(frequency, stat=\"density\", binwidth=1)\n",
    "plt.title('Histogram showing distribution of order frequency')\n",
    "plt.show()"
   ]
  },
  {
   "cell_type": "code",
   "execution_count": 40,
   "id": "f423ca0d-208e-434c-b7e2-e1808888fa31",
   "metadata": {},
   "outputs": [
    {
     "name": "stdout",
     "output_type": "stream",
     "text": [
      "1625249\n",
      "579624\n",
      "0.3566370445390214\n"
     ]
    }
   ],
   "source": [
    "single_purchase = len(cust_summary[(cust_summary['orders'] == 1)])\n",
    "multi_purchase = len(cust_summary[(cust_summary['orders'] != 1)])\n",
    "print(single_purchase)\n",
    "print(multi_purchase)\n",
    "print(multi_purchase/ single_purchase)"
   ]
  },
  {
   "cell_type": "code",
   "execution_count": 41,
   "id": "89ed0b33-6878-4cfb-894b-dbede113f834",
   "metadata": {},
   "outputs": [
    {
     "name": "stdout",
     "output_type": "stream",
     "text": [
      "327\n"
     ]
    },
    {
     "data": {
      "text/plain": [
       "NN      576284\n",
       "NONR    557944\n",
       "AA      293986\n",
       "VV       99121\n",
       "KWD      63712\n",
       "         ...  \n",
       "DIE          1\n",
       "CNS          1\n",
       "KDS          1\n",
       "POH          1\n",
       "VI           1\n",
       "Name: brandcode, Length: 327, dtype: int64"
      ]
     },
     "execution_count": 41,
     "metadata": {},
     "output_type": "execute_result"
    }
   ],
   "source": [
    "print(cust_summary['brandcode'].nunique())\n",
    "cust_summary['brandcode'].value_counts()"
   ]
  },
  {
   "cell_type": "code",
   "execution_count": 42,
   "id": "ea64e028-7ffd-4568-851b-ae5da5c86ec2",
   "metadata": {},
   "outputs": [
    {
     "name": "stdout",
     "output_type": "stream",
     "text": [
      "8\n"
     ]
    },
    {
     "data": {
      "text/plain": [
       "Mens             1309185\n",
       "Junior            310652\n",
       "Womens            300356\n",
       "Miscellaneous     146219\n",
       "Boys               75382\n",
       "Infant             30621\n",
       "Nursery            28427\n",
       "Childrens           4031\n",
       "Name: category, dtype: int64"
      ]
     },
     "execution_count": 42,
     "metadata": {},
     "output_type": "execute_result"
    }
   ],
   "source": [
    "print(cust_summary['category'].nunique())\n",
    "cust_summary['category'].value_counts()"
   ]
  },
  {
   "cell_type": "code",
   "execution_count": 43,
   "id": "fd50b998-084c-4891-9445-1a8df6df0515",
   "metadata": {},
   "outputs": [
    {
     "name": "stdout",
     "output_type": "stream",
     "text": [
      "3\n"
     ]
    },
    {
     "data": {
      "text/plain": [
       "FOOTWEAR     1284179\n",
       "APPAREL       734387\n",
       "ACCESSORY     186307\n",
       "Name: divisioncode, dtype: int64"
      ]
     },
     "execution_count": 43,
     "metadata": {},
     "output_type": "execute_result"
    }
   ],
   "source": [
    "print(cust_summary['divisioncode'].nunique())\n",
    "cust_summary['divisioncode'].value_counts()"
   ]
  },
  {
   "cell_type": "code",
   "execution_count": 44,
   "id": "91a9d4c9-f8a6-47f9-9727-2f8f9704e565",
   "metadata": {},
   "outputs": [
    {
     "name": "stdout",
     "output_type": "stream",
     "text": [
      "79\n"
     ]
    },
    {
     "data": {
      "text/plain": [
       "Non-retail Items    590409\n",
       "Nylon Running       444620\n",
       "T-shirts            189870\n",
       "Basketball          183274\n",
       "Vulcanised          154640\n",
       "                     ...  \n",
       "Watches                 40\n",
       "Fashion Tops            29\n",
       "Miscellaneous           22\n",
       "Waistcoats              18\n",
       "Scarves                 11\n",
       "Name: productgroup, Length: 79, dtype: int64"
      ]
     },
     "execution_count": 44,
     "metadata": {},
     "output_type": "execute_result"
    }
   ],
   "source": [
    "print(cust_summary['productgroup'].nunique())\n",
    "cust_summary['productgroup'].value_counts()"
   ]
  },
  {
   "cell_type": "code",
   "execution_count": 13,
   "id": "3e4a0de4-73b4-4b8b-b929-8c7b4edcd9ba",
   "metadata": {},
   "outputs": [
    {
     "data": {
      "text/html": [
       "<div>\n",
       "<style scoped>\n",
       "    .dataframe tbody tr th:only-of-type {\n",
       "        vertical-align: middle;\n",
       "    }\n",
       "\n",
       "    .dataframe tbody tr th {\n",
       "        vertical-align: top;\n",
       "    }\n",
       "\n",
       "    .dataframe thead th {\n",
       "        text-align: right;\n",
       "    }\n",
       "</style>\n",
       "<table border=\"1\" class=\"dataframe\">\n",
       "  <thead>\n",
       "    <tr style=\"text-align: right;\">\n",
       "      <th></th>\n",
       "      <th>customerkey</th>\n",
       "      <th>orders</th>\n",
       "      <th>total_unitssold</th>\n",
       "      <th>total_grosssales</th>\n",
       "      <th>ASP</th>\n",
       "      <th>loyaltyaccount</th>\n",
       "      <th>gender</th>\n",
       "      <th>category</th>\n",
       "      <th>divisioncode</th>\n",
       "      <th>productgroup</th>\n",
       "      <th>brandcode</th>\n",
       "    </tr>\n",
       "  </thead>\n",
       "  <tbody>\n",
       "    <tr>\n",
       "      <th>0</th>\n",
       "      <td>fb484d6a54da0d56910e2df0064c18c722801a66</td>\n",
       "      <td>256</td>\n",
       "      <td>603</td>\n",
       "      <td>35645.08</td>\n",
       "      <td>61.44</td>\n",
       "      <td>Yes</td>\n",
       "      <td>female</td>\n",
       "      <td>Junior</td>\n",
       "      <td>FOOTWEAR</td>\n",
       "      <td>Basketball</td>\n",
       "      <td>AA</td>\n",
       "    </tr>\n",
       "  </tbody>\n",
       "</table>\n",
       "</div>"
      ],
      "text/plain": [
       "                                customerkey  orders  total_unitssold  \\\n",
       "0  fb484d6a54da0d56910e2df0064c18c722801a66     256              603   \n",
       "\n",
       "   total_grosssales    ASP loyaltyaccount  gender category divisioncode  \\\n",
       "0          35645.08  61.44            Yes  female   Junior     FOOTWEAR   \n",
       "\n",
       "  productgroup brandcode  \n",
       "0   Basketball        AA  "
      ]
     },
     "execution_count": 13,
     "metadata": {},
     "output_type": "execute_result"
    }
   ],
   "source": [
    "cust_summary = pd.read_csv('cust_summary.csv', index_col=0)\n",
    "cust_summary.head(1)"
   ]
  },
  {
   "cell_type": "code",
   "execution_count": 21,
   "id": "888b4855-8209-4bcc-bd86-aa4e4d27ffcb",
   "metadata": {},
   "outputs": [
    {
     "data": {
      "text/plain": [
       "Text(0.5, 1.0, 'Total Units Sold')"
      ]
     },
     "execution_count": 21,
     "metadata": {},
     "output_type": "execute_result"
    },
    {
     "data": {
      "image/png": "[encoded data removed]",
      "text/plain": [
       "<Figure size 1080x504 with 3 Axes>"
      ]
     },
     "metadata": {
      "needs_background": "light"
     },
     "output_type": "display_data"
    }
   ],
   "source": [
    "loyal = cust_summary[[\"orders\", \"loyaltyaccount\", \"total_grosssales\", 'total_unitssold']]\n",
    "fig, axes = plt.subplots(1, 3, figsize=(15, 7))\n",
    "fig.suptitle('Loyalty Account')\n",
    "\n",
    "sns.boxplot(ax=axes[0], x=\"loyaltyaccount\", y=\"orders\", data=loyal, palette=\"mako\")\n",
    "axes[0].set_title('Orders')\n",
    "\n",
    "sns.boxplot(ax=axes[1], x=\"loyaltyaccount\", y=\"total_grosssales\", data=loyal, palette=\"mako\")\n",
    "axes[1].set_title('Total Gross Sales')\n",
    "\n",
    "sns.boxplot(ax=axes[2], x=\"loyaltyaccount\", y=\"total_unitssold\", data=loyal, palette=\"mako\")\n",
    "axes[2].set_title('Total Units Sold')"
   ]
  },
  {
   "cell_type": "code",
   "execution_count": 22,
   "id": "b06c0a92-b351-4864-9ac6-c28e8068600c",
   "metadata": {},
   "outputs": [
    {
     "data": {
      "text/plain": [
       "Text(0.5, 1.0, 'Total Units Sold')"
      ]
     },
     "execution_count": 22,
     "metadata": {},
     "output_type": "execute_result"
    },
    {
     "data": {
      "image/png": "[encoded data removed]",
      "text/plain": [
       "<Figure size 1080x504 with 3 Axes>"
      ]
     },
     "metadata": {
      "needs_background": "light"
     },
     "output_type": "display_data"
    }
   ],
   "source": [
    "gender = cust_summary[[\"orders\", \"gender\", \"total_grosssales\", 'total_unitssold']]\n",
    "fig, axes = plt.subplots(1, 3, figsize=(15, 7))\n",
    "fig.suptitle('Gender')\n",
    "\n",
    "sns.boxplot(ax=axes[0], x=\"gender\", y=\"orders\", data=gender, palette=\"mako\")\n",
    "axes[0].set_title('Orders')\n",
    "\n",
    "sns.boxplot(ax=axes[1], x=\"gender\", y=\"total_grosssales\", data=gender, palette=\"mako\")\n",
    "axes[1].set_title('Total Gross Sales')\n",
    "\n",
    "sns.boxplot(ax=axes[2], x=\"gender\", y=\"total_unitssold\", data=gender, palette=\"mako\")\n",
    "axes[2].set_title('Total Units Sold')"
   ]
  },
  {
   "cell_type": "code",
   "execution_count": 27,
   "id": "873ecaed-232d-4322-a4fe-3b84ad78ae56",
   "metadata": {},
   "outputs": [
    {
     "data": {
      "text/plain": [
       "Text(0.5, 1.0, 'Most Purchased Category')"
      ]
     },
     "execution_count": 27,
     "metadata": {},
     "output_type": "execute_result"
    },
    {
     "data": {
      "image/png": "[encoded data removed]",
      "text/plain": [
       "<Figure size 576x576 with 1 Axes>"
      ]
     },
     "metadata": {
      "needs_background": "light"
     },
     "output_type": "display_data"
    }
   ],
   "source": [
    "plt.figure(figsize=(8,8))\n",
    "category = cust_summary[[\"category\", \"orders\"]]\n",
    "sns.boxplot(x=\"category\", y=\"orders\", data=category, palette=\"mako\")\n",
    "plt.title('Most Purchased Category')"
   ]
  },
  {
   "cell_type": "code",
   "execution_count": 29,
   "id": "c216e7e8-e810-4bbc-b7a3-e90046121cd0",
   "metadata": {},
   "outputs": [
    {
     "data": {
      "text/plain": [
       "Text(0.5, 1.0, 'Most Purchased Division Code')"
      ]
     },
     "execution_count": 29,
     "metadata": {},
     "output_type": "execute_result"
    },
    {
     "data": {
      "image/png": "[encoded data removed]",
      "text/plain": [
       "<Figure size 432x432 with 1 Axes>"
      ]
     },
     "metadata": {
      "needs_background": "light"
     },
     "output_type": "display_data"
    }
   ],
   "source": [
    "plt.figure(figsize=(6,6))\n",
    "div = cust_summary[[\"divisioncode\", \"orders\"]]\n",
    "sns.boxplot(x=\"divisioncode\", y=\"orders\", data=div, palette=\"mako\")\n",
    "plt.title('Most Purchased Division Code')"
   ]
  },
  {
   "cell_type": "code",
   "execution_count": 30,
   "id": "2ce83401-926c-4d60-9e56-07f05c85066f",
   "metadata": {},
   "outputs": [
    {
     "data": {
      "text/plain": [
       "Text(0, 0.5, 'Orders')"
      ]
     },
     "execution_count": 30,
     "metadata": {},
     "output_type": "execute_result"
    },
    {
     "data": {
      "image/png": "[encoded data removed]",
      "text/plain": [
       "<Figure size 432x288 with 1 Axes>"
      ]
     },
     "metadata": {
      "needs_background": "light"
     },
     "output_type": "display_data"
    }
   ],
   "source": [
    "plt.plot('ASP','orders', data=cust_summary, linestyle='', marker='o', markersize=0.7, color='teal')\n",
    "plt.xlabel('Average price per unit brought')\n",
    "plt.ylabel('Orders')"
   ]
  },
  {
   "cell_type": "code",
   "execution_count": 50,
   "id": "63c9147e-27c9-49ef-a79b-f563308605d7",
   "metadata": {},
   "outputs": [
    {
     "data": {
      "text/html": [
       "<div>\n",
       "<style scoped>\n",
       "    .dataframe tbody tr th:only-of-type {\n",
       "        vertical-align: middle;\n",
       "    }\n",
       "\n",
       "    .dataframe tbody tr th {\n",
       "        vertical-align: top;\n",
       "    }\n",
       "\n",
       "    .dataframe thead th {\n",
       "        text-align: right;\n",
       "    }\n",
       "</style>\n",
       "<table border=\"1\" class=\"dataframe\">\n",
       "  <thead>\n",
       "    <tr style=\"text-align: right;\">\n",
       "      <th></th>\n",
       "      <th>shipcountry</th>\n",
       "      <th>customerkey</th>\n",
       "      <th>orders</th>\n",
       "      <th>total_grosssales</th>\n",
       "      <th>total_unitssold</th>\n",
       "    </tr>\n",
       "  </thead>\n",
       "  <tbody>\n",
       "    <tr>\n",
       "      <th>31</th>\n",
       "      <td>Japan</td>\n",
       "      <td>390</td>\n",
       "      <td>3.01</td>\n",
       "      <td>477.93</td>\n",
       "      <td>10.99</td>\n",
       "    </tr>\n",
       "    <tr>\n",
       "      <th>51</th>\n",
       "      <td>San Marino</td>\n",
       "      <td>1</td>\n",
       "      <td>3.00</td>\n",
       "      <td>148.64</td>\n",
       "      <td>6.00</td>\n",
       "    </tr>\n",
       "    <tr>\n",
       "      <th>22</th>\n",
       "      <td>Greenland</td>\n",
       "      <td>2</td>\n",
       "      <td>3.00</td>\n",
       "      <td>362.64</td>\n",
       "      <td>8.00</td>\n",
       "    </tr>\n",
       "    <tr>\n",
       "      <th>66</th>\n",
       "      <td>Vatican</td>\n",
       "      <td>6</td>\n",
       "      <td>2.83</td>\n",
       "      <td>314.05</td>\n",
       "      <td>9.83</td>\n",
       "    </tr>\n",
       "    <tr>\n",
       "      <th>65</th>\n",
       "      <td>Unknown</td>\n",
       "      <td>262</td>\n",
       "      <td>2.29</td>\n",
       "      <td>310.89</td>\n",
       "      <td>8.11</td>\n",
       "    </tr>\n",
       "    <tr>\n",
       "      <th>...</th>\n",
       "      <td>...</td>\n",
       "      <td>...</td>\n",
       "      <td>...</td>\n",
       "      <td>...</td>\n",
       "      <td>...</td>\n",
       "    </tr>\n",
       "    <tr>\n",
       "      <th>42</th>\n",
       "      <td>Monaco</td>\n",
       "      <td>4</td>\n",
       "      <td>1.00</td>\n",
       "      <td>134.86</td>\n",
       "      <td>3.33</td>\n",
       "    </tr>\n",
       "    <tr>\n",
       "      <th>18</th>\n",
       "      <td>Georgia</td>\n",
       "      <td>7</td>\n",
       "      <td>1.00</td>\n",
       "      <td>125.91</td>\n",
       "      <td>3.33</td>\n",
       "    </tr>\n",
       "    <tr>\n",
       "      <th>61</th>\n",
       "      <td>Turkmenistan</td>\n",
       "      <td>2</td>\n",
       "      <td>1.00</td>\n",
       "      <td>122.28</td>\n",
       "      <td>2.00</td>\n",
       "    </tr>\n",
       "    <tr>\n",
       "      <th>36</th>\n",
       "      <td>Liechtenstein</td>\n",
       "      <td>1</td>\n",
       "      <td>1.00</td>\n",
       "      <td>140.41</td>\n",
       "      <td>5.00</td>\n",
       "    </tr>\n",
       "    <tr>\n",
       "      <th>27</th>\n",
       "      <td>Indonesia</td>\n",
       "      <td>1</td>\n",
       "      <td>1.00</td>\n",
       "      <td>17.49</td>\n",
       "      <td>1.00</td>\n",
       "    </tr>\n",
       "  </tbody>\n",
       "</table>\n",
       "<p>67 rows × 5 columns</p>\n",
       "</div>"
      ],
      "text/plain": [
       "      shipcountry  customerkey  orders  total_grosssales  total_unitssold\n",
       "31          Japan          390    3.01            477.93            10.99\n",
       "51     San Marino            1    3.00            148.64             6.00\n",
       "22      Greenland            2    3.00            362.64             8.00\n",
       "66        Vatican            6    2.83            314.05             9.83\n",
       "65        Unknown          262    2.29            310.89             8.11\n",
       "..            ...          ...     ...               ...              ...\n",
       "42         Monaco            4    1.00            134.86             3.33\n",
       "18        Georgia            7    1.00            125.91             3.33\n",
       "61   Turkmenistan            2    1.00            122.28             2.00\n",
       "36  Liechtenstein            1    1.00            140.41             5.00\n",
       "27      Indonesia            1    1.00             17.49             1.00\n",
       "\n",
       "[67 rows x 5 columns]"
      ]
     },
     "execution_count": 50,
     "metadata": {},
     "output_type": "execute_result"
    }
   ],
   "source": [
    "ship = cust_summary.groupby(\n",
    "   ['shipcountry']\n",
    ").agg(\n",
    "    {\n",
    "         'customerkey':lambda x: x.nunique(),  \n",
    "         'orders': \"mean\",\n",
    "         'total_grosssales': \"mean\",\n",
    "         'total_unitssold':\"mean\"\n",
    "    }\n",
    ").round(decimals=2)\n",
    "ship = ship.reset_index()\n",
    "ship.sort_values(\"orders\", ascending=False, inplace = True)\n",
    "ship"
   ]
  },
  {
   "cell_type": "code",
   "execution_count": 51,
   "id": "9fc463a4-0644-45ed-9abf-25abc24a3702",
   "metadata": {},
   "outputs": [
    {
     "data": {
      "text/html": [
       "<div>\n",
       "<style scoped>\n",
       "    .dataframe tbody tr th:only-of-type {\n",
       "        vertical-align: middle;\n",
       "    }\n",
       "\n",
       "    .dataframe tbody tr th {\n",
       "        vertical-align: top;\n",
       "    }\n",
       "\n",
       "    .dataframe thead th {\n",
       "        text-align: right;\n",
       "    }\n",
       "</style>\n",
       "<table border=\"1\" class=\"dataframe\">\n",
       "  <thead>\n",
       "    <tr style=\"text-align: right;\">\n",
       "      <th></th>\n",
       "      <th>postcode</th>\n",
       "      <th>customerkey</th>\n",
       "      <th>orders</th>\n",
       "      <th>total_grosssales</th>\n",
       "      <th>total_unitssold</th>\n",
       "    </tr>\n",
       "  </thead>\n",
       "  <tbody>\n",
       "    <tr>\n",
       "      <th>2182</th>\n",
       "      <td>270-</td>\n",
       "      <td>1</td>\n",
       "      <td>96.0</td>\n",
       "      <td>10280.19</td>\n",
       "      <td>256.00</td>\n",
       "    </tr>\n",
       "    <tr>\n",
       "      <th>3463</th>\n",
       "      <td>441-</td>\n",
       "      <td>1</td>\n",
       "      <td>36.0</td>\n",
       "      <td>2431.28</td>\n",
       "      <td>72.00</td>\n",
       "    </tr>\n",
       "    <tr>\n",
       "      <th>3567</th>\n",
       "      <td>455-</td>\n",
       "      <td>1</td>\n",
       "      <td>35.0</td>\n",
       "      <td>4908.96</td>\n",
       "      <td>119.00</td>\n",
       "    </tr>\n",
       "    <tr>\n",
       "      <th>10233</th>\n",
       "      <td>G726</td>\n",
       "      <td>1</td>\n",
       "      <td>35.0</td>\n",
       "      <td>4419.63</td>\n",
       "      <td>89.00</td>\n",
       "    </tr>\n",
       "    <tr>\n",
       "      <th>14757</th>\n",
       "      <td>S21N</td>\n",
       "      <td>1</td>\n",
       "      <td>31.0</td>\n",
       "      <td>2711.47</td>\n",
       "      <td>59.00</td>\n",
       "    </tr>\n",
       "    <tr>\n",
       "      <th>...</th>\n",
       "      <td>...</td>\n",
       "      <td>...</td>\n",
       "      <td>...</td>\n",
       "      <td>...</td>\n",
       "      <td>...</td>\n",
       "    </tr>\n",
       "    <tr>\n",
       "      <th>5202</th>\n",
       "      <td>7061</td>\n",
       "      <td>2</td>\n",
       "      <td>1.0</td>\n",
       "      <td>116.50</td>\n",
       "      <td>4.67</td>\n",
       "    </tr>\n",
       "    <tr>\n",
       "      <th>5204</th>\n",
       "      <td>7064</td>\n",
       "      <td>1</td>\n",
       "      <td>1.0</td>\n",
       "      <td>63.39</td>\n",
       "      <td>2.00</td>\n",
       "    </tr>\n",
       "    <tr>\n",
       "      <th>5205</th>\n",
       "      <td>7065</td>\n",
       "      <td>1</td>\n",
       "      <td>1.0</td>\n",
       "      <td>171.38</td>\n",
       "      <td>4.00</td>\n",
       "    </tr>\n",
       "    <tr>\n",
       "      <th>5206</th>\n",
       "      <td>7070</td>\n",
       "      <td>4</td>\n",
       "      <td>1.0</td>\n",
       "      <td>192.56</td>\n",
       "      <td>4.50</td>\n",
       "    </tr>\n",
       "    <tr>\n",
       "      <th>17393</th>\n",
       "      <td>\\U01</td>\n",
       "      <td>1</td>\n",
       "      <td>1.0</td>\n",
       "      <td>225.37</td>\n",
       "      <td>4.00</td>\n",
       "    </tr>\n",
       "  </tbody>\n",
       "</table>\n",
       "<p>17394 rows × 5 columns</p>\n",
       "</div>"
      ],
      "text/plain": [
       "      postcode  customerkey  orders  total_grosssales  total_unitssold\n",
       "2182      270-            1    96.0          10280.19           256.00\n",
       "3463      441-            1    36.0           2431.28            72.00\n",
       "3567      455-            1    35.0           4908.96           119.00\n",
       "10233     G726            1    35.0           4419.63            89.00\n",
       "14757     S21N            1    31.0           2711.47            59.00\n",
       "...        ...          ...     ...               ...              ...\n",
       "5202      7061            2     1.0            116.50             4.67\n",
       "5204      7064            1     1.0             63.39             2.00\n",
       "5205      7065            1     1.0            171.38             4.00\n",
       "5206      7070            4     1.0            192.56             4.50\n",
       "17393     \\U01            1     1.0            225.37             4.00\n",
       "\n",
       "[17394 rows x 5 columns]"
      ]
     },
     "execution_count": 51,
     "metadata": {},
     "output_type": "execute_result"
    }
   ],
   "source": [
    "post = cust_summary.groupby(\n",
    "   ['postcode']\n",
    ").agg(\n",
    "    {\n",
    "         'customerkey':lambda x: x.nunique(),  \n",
    "         'orders': \"mean\",\n",
    "         'total_grosssales': \"mean\",\n",
    "         'total_unitssold':\"mean\"\n",
    "    }\n",
    ").round(decimals=2)\n",
    "post = post.reset_index()\n",
    "post.sort_values(\"orders\", ascending=False, inplace = True)\n",
    "post"
   ]
  },
  {
   "cell_type": "code",
   "execution_count": null,
   "id": "c2ec9fc7-819b-40b5-884a-2da2197f21c1",
   "metadata": {},
   "outputs": [],
   "source": []
  }
 ],
 "metadata": {
  "kernelspec": {
   "display_name": "Python 3",
   "language": "python",
   "name": "python3"
  },
  "language_info": {
   "codemirror_mode": {
    "name": "ipython",
    "version": 3
   },
   "file_extension": ".py",
   "mimetype": "text/x-python",
   "name": "python",
   "nbconvert_exporter": "python",
   "pygments_lexer": "ipython3",
   "version": "3.8.10"
  }
 },
 "nbformat": 4,
 "nbformat_minor": 5
}
